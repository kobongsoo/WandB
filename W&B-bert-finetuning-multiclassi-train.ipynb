{
 "cells": [
  {
   "cell_type": "code",
   "execution_count": 1,
   "id": "da9ba1c7-26e3-426e-a5b0-773f20ca3807",
   "metadata": {},
   "outputs": [
    {
     "name": "stderr",
     "output_type": "stream",
     "text": [
      "Failed to detect the name of this notebook, you can set it manually with the WANDB_NOTEBOOK_NAME environment variable to enable code saving.\n",
      "\u001b[34m\u001b[1mwandb\u001b[0m: Currently logged in as: \u001b[33mkobongsoo\u001b[0m (use `wandb login --relogin` to force relogin)\n"
     ]
    },
    {
     "data": {
      "text/plain": [
       "True"
      ]
     },
     "execution_count": 1,
     "metadata": {},
     "output_type": "execute_result"
    }
   ],
   "source": [
    "#======================================================================================================\n",
    "# *WandB 툴을 이용하여, HyperPrameter sweeps 하는 예제임(http://wandb.ai 에 회원가입 해야 함)\n",
    "# - bert BertForSequenceClassification finetuning 예제를 이용함\n",
    "#  \n",
    "# == HyperPrameter sweeps 과정 ==\n",
    "#\n",
    "# 1. 로그인\n",
    "# import wandb\n",
    "# wandb.login()  # 로그인 => wandb.ai 사이트에 로그인 후, API Key 입력해야 함\n",
    "#\n",
    "# 2. sweep_config 설정\n",
    "# sweep_config ={ \n",
    "#       'method': 'random', #grid, random\n",
    "#       'metric':{\n",
    "#           'name': 'val_accuracy', #loss\n",
    "#           'goal': 'maximize'      # loss일때는 minimize로 설정해야함\n",
    "#       },\n",
    "#      'parameters':{\n",
    "#           'learning_rate':{\n",
    "#               'distribution': 'uniform',\n",
    "#               'min' : 0,\n",
    "#               'max': 7e-5\n",
    "#           },\n",
    "#           'batch_size':{\n",
    "#               'values' : [8, 16, 32]\n",
    "#           },\n",
    "#           'epochs':{\n",
    "#               'values' : [2, 3, 4]\n",
    "#           }\n",
    "#       }\n",
    "#}\n",
    "#\n",
    "#sweep_id = wandb.sweep(sweep_config, project=\"bert-wb-test\")\n",
    "# 3. wandb 초기화 \n",
    "# - wandb.init(config=config)\n",
    "#\n",
    "# 4. wandb 로그설정\n",
    "# - wandb.log({\"val_accuracy\": total_test_correct / total_test_len})\n",
    "#\n",
    "# 5. wand 실행\n",
    "# - wandb.agent(sweep_id, train, count=3)\n",
    "#\n",
    "# 6. wand 종료\n",
    "# -wandb.finish()\n",
    "#======================================================================================================\n",
    "#!pip install wandb -qqq\n",
    "import wandb\n",
    "wandb.login()  # 로그인 => wandb.ai 사이트에 로그인 후, API Key 입력해야 함"
   ]
  },
  {
   "cell_type": "code",
   "execution_count": 2,
   "id": "3423f4ca-cb1f-410b-9a53-403cd78e1fb4",
   "metadata": {},
   "outputs": [
    {
     "name": "stdout",
     "output_type": "stream",
     "text": [
      "logfilepath:bwdataset_2022-04-14.log\n",
      "logfilepath:qnadataset_2022-04-14.log\n",
      "logfilepath:../../log/bertftmultitrain_2022-04-14.log\n",
      "True\n",
      "device: cuda:0\n",
      "cuda index: 0\n",
      "gpu 개수: 1\n",
      "graphic name: NVIDIA A30\n"
     ]
    }
   ],
   "source": [
    "#======================================================================================================\n",
    "# bert BertForSequenceClassification finetuning 정의\n",
    "# 참고 사이트 : https://zzaebok.github.io/deep_learning/nlp/Bert-for-classification/\n",
    "#\n",
    "#======================================================================================================\n",
    "\n",
    "import numpy as np\n",
    "import pandas as pd\n",
    "import torch\n",
    "from transformers import BertTokenizer, BertForSequenceClassification, BertConfig, BertModel, AdamW, get_linear_schedule_with_warmup\n",
    "from transformers import DistilBertTokenizer, DistilBertForSequenceClassification\n",
    "import torch.nn.functional as F\n",
    "\n",
    "import sys\n",
    "sys.path.append('..')\n",
    "from myutils import seed_everything, GPU_info, mlogging\n",
    "from tqdm.notebook import tqdm\n",
    "import os\n",
    "\n",
    "logger = mlogging(loggername=\"bertfttrain\", logfilename=\"../../log/bertftmultitrain\")\n",
    "device = GPU_info()\n",
    "seed_everything(111)\n",
    "\n"
   ]
  },
  {
   "cell_type": "code",
   "execution_count": null,
   "id": "a1171a43-c3d9-460e-9795-7360948a1600",
   "metadata": {},
   "outputs": [],
   "source": [
    "##############################################################################################\n",
    "# 변수들 설정\n",
    "# - model_path : from_pretrained() 로 호출하는 경우에는 모델파일이 있는 폴더 경로나 \n",
    "#          huggingface에 등록된 모델명(예:'bert-base-multilingual-cased')\n",
    "#          torch.load(model)로 로딩하는 경우에는 모델 파일 풀 경로\n",
    "#\n",
    "# - vocab_path : from_pretrained() 호출하는 경우에는 모델파일이 있는 폴더 경로나\n",
    "#          huggingface에 등록된 모델명(예:'bert-base-multilingual-cased')   \n",
    "#          BertTokenizer() 로 호출하는 경우에는 vocab.txt 파일 풀 경로,\n",
    "#\n",
    "# - OUTPATH : 출력 모델, vocab 저장할 폴더 경로\n",
    "#############################################################################################\n",
    "\n",
    "#model_path = 'model/kobertmodel/'\n",
    "#vocab_path = 'model/kobertmodel/vocab/vocab.txt'\n",
    "#OUTPATH = 'model/classification/kobert-ft-es-cfmodel/'\n",
    "\n",
    "\n",
    "vocab_path = '../../model/bert/bmc-fpt-wiki_20190620_mecab_false_0311-nouns-0327/'\n",
    "\n",
    "# tokeniaer 및 model 설정\n",
    "#tokenizer = BertTokenizer.from_pretrained('bert-base-multilingual-cased')\n",
    "\n",
    "# strip_accents=False : True로 하면, 가자 => ㄱ ㅏ ㅈ ㅏ 식으로 토큰화 되어 버림(*따라서 한국어에서는 반드시 False)\n",
    "# do_lower_case=False : # 소문자 입력 사용 안함(한국어에서는 반드시 False)\n",
    "#tokenizer = BertTokenizer(vocab_file=vocab_path, strip_accents=False, do_lower_case=False) \n",
    "tokenizer = BertTokenizer.from_pretrained(vocab_path, do_lower_case=False)\n",
    "\n"
   ]
  },
  {
   "cell_type": "code",
   "execution_count": null,
   "id": "86284f2d-f893-4b59-9851-9ca2d86bfead",
   "metadata": {},
   "outputs": [],
   "source": [
    "\n",
    "model_path = '../../model/bert/bmc-fpt-wiki_20190620_mecab_false_0311-nouns-0327/'\n",
    "OUTPATH = '../../model/classification/bmc-fpt-wiki_20190620_mecab_false_0311-nouns-0327-nscm-0414-1/'\n",
    "\n",
    "def load_model():\n",
    "    # 레벨을 1개만 선택하는 경우\n",
    "    model = BertForSequenceClassification.from_pretrained(model_path, num_labels=2)\n",
    "    #model = BertForSequenceClassification.from_pretrained('bert-base-multilingual-cased', num_labels=6)\n",
    "\n",
    "    # 레벨을 멀티로 선택해야 하는 경우\n",
    "    #model = BertForSequenceClassification.from_pretrained(model_path, problem_type=\"multi_label_classification\",num_labels=6)\n",
    "\n",
    "    #기존 모델 파일을 로딩하는 경우    \n",
    "    #model = torch.load(model_path) \n",
    "\n",
    "    model.to(device)\n",
    "    \n",
    "    return model"
   ]
  },
  {
   "cell_type": "code",
   "execution_count": 5,
   "id": "1ab8b4f0-8228-46c2-a31c-3956ba16bde0",
   "metadata": {},
   "outputs": [
    {
     "name": "stdout",
     "output_type": "stream",
     "text": [
      "167550\n",
      "[101, 9034, 10530, 124997, 11018, 125215, 10739, 69708, 42428, 10459, 10020, 129937, 10892, 132489, 12508, 49137, 102]\n",
      "৭\n",
      "123665\n"
     ]
    }
   ],
   "source": [
    "# tokenier 테스트\n",
    "print(len(tokenizer))\n",
    "print(tokenizer.encode(\"눈에 보이는 반전이었지만 영화의 흡인력은 사라지지 않았다\"))\n",
    "print(tokenizer.convert_ids_to_tokens(1000))\n",
    "print(tokenizer.convert_tokens_to_ids('날씨'))"
   ]
  },
  {
   "cell_type": "code",
   "execution_count": 6,
   "id": "cf3ae263-b8b0-4160-a4e9-11e0370f4f49",
   "metadata": {},
   "outputs": [
    {
     "name": "stdout",
     "output_type": "stream",
     "text": [
      "Create sweep with ID: 0g05iq6k\n",
      "Sweep URL: https://wandb.ai/kobongsoo/bert-wb-test/sweeps/0g05iq6k\n"
     ]
    }
   ],
   "source": [
    "'''\n",
    "# loss 만 출력할때.\n",
    "# - wandb 관련 hyper parameter들 설정\n",
    "wandb.init(\n",
    "        project='bert-ft-multiclassification',\n",
    "        config={\n",
    "            \"epochs\": 3,\n",
    "            \"batch_size\": 32,\n",
    "            \"learning_rate\": 2e-5,\n",
    "        })\n",
    "\n",
    "config = wandb.config\n",
    "'''\n",
    "\n",
    "#=======================================================================\n",
    "# sweep_config 설정\n",
    "# - \n",
    "# - Hyper parameter 설정값 찾을때 설정함\n",
    "# - 일반적으로 val_accuracy 최대가 될때 hyper-parameter들을 찾도록 metric를 설정함\n",
    "#   (*이때 val_accuracy 명칭은 뒤에 wandb.log 함수할때와 같은 명칭을 사용해야 함)\n",
    "sweep_config ={ \n",
    "        'method': 'random', #grid, random\n",
    "        'metric':{\n",
    "            'name': 'val_accuracy', #loss\n",
    "            'goal': 'maximize'      # loss일때는 minimize로 설정해야함\n",
    "        },\n",
    "        'parameters':{\n",
    "            'learning_rate':{\n",
    "                'distribution': 'uniform',\n",
    "                'min' : 0,\n",
    "                'max': 2e-4\n",
    "            },\n",
    "            'batch_size':{\n",
    "                'values' : [8, 16, 32]\n",
    "            },\n",
    "            'epochs':{\n",
    "                'values' : [2, 3, 4]\n",
    "            }\n",
    "        }\n",
    "}\n",
    "\n",
    "\n",
    "sweep_id = wandb.sweep(sweep_config, project=\"bert-wb-test\")\n",
    "#======================================================================="
   ]
  },
  {
   "cell_type": "code",
   "execution_count": 7,
   "id": "160454e1-7845-452c-ac74-4d7e39fbcc34",
   "metadata": {},
   "outputs": [],
   "source": [
    "# 학습 data loader 생성\n",
    "def build_dataset(batch_size):\n",
    "    from os import sys\n",
    "    sys.path.append('..')\n",
    "    from myutils import ClassificationCSVCorpus, ClassificationDataset, data_collator\n",
    "    from torch.utils.data import DataLoader, RandomSampler\n",
    "\n",
    "    #############################################################################\n",
    "    # 변수 설정\n",
    "    #############################################################################\n",
    "    max_seq_len = 128   # 글자 최대 토큰 길이 해당 토큰 길이 이상은 잘린다.\n",
    "    #batch_size = 32       # 배치 사이즈(64면 GUP Memory 오류 나므로, 32 이하로 설정할것=>max_seq_length 를 줄이면, 64도 가능함)\n",
    "\n",
    "    # 훈련할 csv 파일\n",
    "    #file_fpath = 'korpora/감성대화말뭉치/감성대화말뭉치(최종데이터)_renew_labelenc_Training.csv'\n",
    "    file_fpath = '../../korpora/nsmc/ratings_train.txt'\n",
    "    column_num = 3           # .csv 파일에 컬럼수(예: text, label만 있으면 =2)\n",
    "    csvfile = 0              # 0:tsv 파일, 1: csv 파일\n",
    "    label_list = [\"0\", \"1\"]  # .csv 파일에 레벨 목록( list로 입력해야 함)\n",
    "    #label_list = [\"0\", \"1\", \"2\", \"3\", \"4\", \"5\"]  # .csv 파일에 레벨 목록( list로 입력해야 함)\n",
    "    cache = False   # 캐쉬파일 생성할거면 True로 (True이면 loding할때 캐쉬파일있어도 이용안함)\n",
    "    #############################################################################\n",
    "\n",
    "    # corpus 파일 설정\n",
    "    corpus = ClassificationCSVCorpus(column_num=column_num, iscsvfile=csvfile, label_list=label_list)\n",
    "\n",
    "    # 학습 dataset 생성\n",
    "    dataset = ClassificationDataset(file_fpath=file_fpath, max_seq_length=max_seq_len, tokenizer=tokenizer, corpus=corpus, overwrite_cache=cache)\n",
    "\n",
    "\n",
    "    # 학습 dataloader 생성\n",
    "    train_loader = DataLoader(dataset, \n",
    "                              batch_size=batch_size, \n",
    "                              #shuffle=True, # dataset을 섞음\n",
    "                              sampler=RandomSampler(dataset, replacement=False), #dataset을 랜덤하게 샘플링함\n",
    "                              collate_fn=data_collator, # dataset을 tensor로 변환(예시 {'input_ids':tensor[0,1,2,3,1,], 'token_type_id:tensor[0,0,0,0,0], 'attention_mask:tensor[1,1,1,1,1], 'labels':tensor[5]}\n",
    "                              num_workers=4)\n",
    "\n",
    "    # 평가 dataset 생성\n",
    "    #file_fpath = 'korpora/감성대화말뭉치/감성대화말뭉치(최종데이터)_renew_labelenc_Validation.csv'\n",
    "    file_fpath = '../../korpora/nsmc/ratings_test.txt'\n",
    "    dataset = ClassificationDataset(file_fpath=file_fpath, max_seq_length=max_seq_len, tokenizer=tokenizer, corpus=corpus, overwrite_cache=cache)\n",
    "\n",
    "\n",
    "    # 평가 dataloader 생성\n",
    "    eval_loader = DataLoader(dataset, \n",
    "                              batch_size=batch_size, \n",
    "                              #shuffle=True, # dataset을 섞음\n",
    "                              sampler=RandomSampler(dataset, replacement=False), #dataset을 랜덤하게 샘플링함\n",
    "                              collate_fn=data_collator, # dataset을 tensor로 변환(예시 {'input_ids':tensor[0,1,2,3,1,], 'token_type_id:tensor[0,0,0,0,0], 'attention_mask:tensor[1,1,1,1,1], 'labels':tensor[5]}\n",
    "                              num_workers=4)\n",
    "    \n",
    "    return train_loader, eval_loader"
   ]
  },
  {
   "cell_type": "code",
   "execution_count": 8,
   "id": "b2af4d68-796d-4d39-9735-7c8021dfa42b",
   "metadata": {},
   "outputs": [],
   "source": [
    "# 학습 시작\n",
    "def Train_epoch(config, \n",
    "                model,\n",
    "                train_loader,\n",
    "                eval_loader,\n",
    "               ):   \n",
    "    ##################################################\n",
    "    # 변수 설정\n",
    "    ##################################################\n",
    "    epochs = config.epochs            # epochs\n",
    "    learning_rate = config.learning_rate  # 학습률\n",
    "    ##################################################\n",
    "\n",
    "    # optimizer 적용\n",
    "    optimizer = AdamW(model.parameters(), \n",
    "                     lr=learning_rate, \n",
    "                     eps=1e-8) # 0으로 나누는 것을 방지하기 위한 epsilon 값(10^-6 ~ 10^-8 사이 이값 입력합)\n",
    "\n",
    "    # 총 훈련과정에서 반복할 스탭\n",
    "    total_steps = len(train_loader)*epochs\n",
    "    \n",
    "    num_warmup_steps = int(total_steps*0.1)\n",
    "    p_itr = int(len(train_loader)*0.1)          \n",
    "        \n",
    "    logger.info('total_steps: {}, warnup_steps: {}, p_itr: {}'.format(total_steps, num_warmup_steps, p_itr))\n",
    "\n",
    "    # 스캐줄러 생성\n",
    "    scheduler = get_linear_schedule_with_warmup(optimizer, \n",
    "                                                num_warmup_steps=num_warmup_steps, \n",
    "                                                num_training_steps=total_steps)\n",
    "\n",
    "    itr = 1\n",
    "    total_loss = 0\n",
    "    total_len = 0\n",
    "    total_correct = 0\n",
    "    list_training_loss = []\n",
    "    list_acc_loss = []\n",
    "    list_validation_acc_loss = []\n",
    "\n",
    "    model.zero_grad()# 그래디언트 초기화\n",
    "    for epoch in tqdm(range(epochs)):\n",
    "\n",
    "        #model.train() # 훈련모드로 변환\n",
    "        for data in tqdm(train_loader):\n",
    "            model.train() # 훈련모드로 변환\n",
    "            #optimizer.zero_grad()\n",
    "            model.zero_grad()# 그래디언트 초기화\n",
    "\n",
    "            # 입력 값 설정\n",
    "            input_ids = data['input_ids'].to(device)\n",
    "            attention_mask = data['attention_mask'].to(device)\n",
    "            token_type_ids = data['token_type_ids'].to(device)       \n",
    "            labels = data['labels'].to(device)\n",
    "            #print('Labels:{}'.format(labels))\n",
    "\n",
    "            # 모델 실행\n",
    "            outputs = model(input_ids=input_ids, \n",
    "                            attention_mask=attention_mask,\n",
    "                            token_type_ids=token_type_ids,\n",
    "                            labels=labels)\n",
    "\n",
    "            # 출력값 loss,logits를 outputs에서 얻어옴\n",
    "            loss = outputs.loss\n",
    "            logits = outputs.logits\n",
    "            #print('Loss:{}, logits:{}'.format(loss, logits))\n",
    "\n",
    "            # optimizer 과 scheduler 업데이트 시킴\n",
    "            loss.backward()   # backward 구함\n",
    "            torch.nn.utils.clip_grad_norm_(model.parameters(), 1.0)   # 그래디언트 클리핑 (gradient vanishing이나 gradient exploding 방지하기 위한 기법)\n",
    "            optimizer.step()  # 가중치 파라미터 업데이트(optimizer 이동)\n",
    "            scheduler.step()  # 학습률 감소\n",
    "\n",
    "            # 정확도와 손실률 계산하는 부분은 no_grade 시켜서, 계산량을 줄임.\n",
    "            # => torch.no_grad()는 gradient을 계산하는 autograd engine를 비활성화 하여 \n",
    "            # 필요한 메모리를 줄이고, 연산속도를 증가시키는 역활을 함\n",
    "            with torch.no_grad():\n",
    "                # 정확도와 총 손실률 계산\n",
    "                pred = torch.argmax(F.softmax(logits), dim=1)\n",
    "                correct = pred.eq(labels)\n",
    "                total_correct += correct.sum().item()\n",
    "                total_len += len(labels)    \n",
    "                total_loss += loss.item()\n",
    "\n",
    "                # 훈련 손실류 표기\n",
    "                if itr % p_itr == 0:\n",
    "\n",
    "                    logger.info('[Epoch {}/{}] Iteration {} -> Train Loss: {:.4f}, Train Accuracy: {:.3f}'.format(epoch+1, epochs, itr, total_loss/p_itr, total_correct/total_len))\n",
    "\n",
    "                    # wandb 로그 기록\n",
    "                    wandb.log({\"Loss\": total_loss/p_itr,\n",
    "                              \"train_accuracy\": total_correct/total_len\n",
    "                              })\n",
    "\n",
    "                    list_training_loss.append(total_loss/p_itr)\n",
    "                    list_acc_loss.append(total_correct/total_len)\n",
    "\n",
    "                    total_loss = 0\n",
    "                    total_len = 0\n",
    "                    total_correct = 0\n",
    "\n",
    "            \n",
    "                    ####################################################################\n",
    "                    # 주기마다 test(validataion) 데이터로 평가하여 손실류 계산함.\n",
    "                    # 평가 시작\n",
    "                    model.eval()\n",
    "\n",
    "                    total_test_correct = 0\n",
    "                    total_test_len = 0\n",
    "\n",
    "                    #for data in tqdm(eval_loader):\n",
    "                    for data in eval_loader:\n",
    "                        # 입력 값 설정\n",
    "                        input_ids = data['input_ids'].to(device)\n",
    "                        attention_mask = data['attention_mask'].to(device)\n",
    "                        token_type_ids = data['token_type_ids'].to(device)       \n",
    "                        labels = data['labels'].to(device)\n",
    "\n",
    "                        # 손실률 계산하는 부분은 no_grade 시켜서, 계산량을 줄임.\n",
    "                        # => torch.no_grad()는 gradient을 계산하는 autograd engine를 비활성화 하여 \n",
    "                        # 필요한 메모리를 줄이고, 연산속도를 증가시키는 역활을 함\n",
    "                        with torch.no_grad():\n",
    "                            # 모델 실행\n",
    "                            outputs = model(input_ids=input_ids, \n",
    "                                            attention_mask=attention_mask,\n",
    "                                            token_type_ids=token_type_ids,\n",
    "                                            labels=labels)\n",
    "\n",
    "                            # 출력값 loss,logits를 outputs에서 얻어옴\n",
    "                            #loss = outputs.loss\n",
    "                            logits = outputs.logits\n",
    "\n",
    "                            # 총 손실류 구함\n",
    "                            pred = torch.argmax(F.softmax(logits), dim=1)\n",
    "                            correct = pred.eq(labels)\n",
    "                            total_test_correct += correct.sum().item()\n",
    "                            total_test_len += len(labels)\n",
    "\n",
    "                    list_validation_acc_loss.append(total_test_correct/total_test_len)\n",
    "                    logger.info(\"[Epoch {}/{}] Validatation Accuracy:{}\".format(epoch+1, epochs, total_test_correct / total_test_len))\n",
    "\n",
    "                    # wandb 로그 기록\n",
    "                    wandb.log({\"val_accuracy\": total_test_correct / total_test_len\n",
    "                              })\n",
    "\n",
    "                    ####################################################################\n",
    "            \n",
    "            itr+=1\n",
    "\n",
    "        "
   ]
  },
  {
   "cell_type": "code",
   "execution_count": 9,
   "id": "bbc803ad-e516-407c-bf06-98c7860bbd65",
   "metadata": {},
   "outputs": [],
   "source": [
    "def train(config=None):\n",
    "    # wandb 초기화\n",
    "    with wandb.init(config=config):\n",
    "        config = wandb.config\n",
    "        \n",
    "        # 데이터 로더 생성\n",
    "        train_loader, eval_loader = build_dataset(config.batch_size)\n",
    "        \n",
    "        # 모델 로딩\n",
    "        tmodel = load_model()\n",
    "        \n",
    "        # 훈련 시작 \n",
    "        Train_epoch(config, tmodel, train_loader, eval_loader)"
   ]
  },
  {
   "cell_type": "code",
   "execution_count": 10,
   "id": "0d184de9-f6ae-4010-8170-99a700abba3f",
   "metadata": {},
   "outputs": [
    {
     "name": "stderr",
     "output_type": "stream",
     "text": [
      "2022-04-14 13:13:25,079 - bertfttrain - INFO - [Epoch 3/3] Iteration 12168 -> Train Loss: 0.0845, Train Accuracy: 0.972\n"
     ]
    },
    {
     "data": {
      "application/vnd.jupyter.widget-view+json": {
       "model_id": "8d4cd21c6a7844f3bdcc2c0620e8ac75",
       "version_major": 2,
       "version_minor": 0
      },
      "text/plain": [
       "  0%|          | 0/1563 [00:00<?, ?it/s]"
      ]
     },
     "metadata": {},
     "output_type": "display_data"
    },
    {
     "name": "stderr",
     "output_type": "stream",
     "text": [
      "2022-04-14 13:14:19,908 - bertfttrain - INFO - [Epoch 3/3] Validatation Accuracy:0.87586\n",
      "2022-04-14 13:15:25,608 - bertfttrain - INFO - [Epoch 3/3] Iteration 12636 -> Train Loss: 0.0882, Train Accuracy: 0.971\n"
     ]
    },
    {
     "data": {
      "application/vnd.jupyter.widget-view+json": {
       "model_id": "e96ecd828b8e4097bedf6cf1ddfc14f7",
       "version_major": 2,
       "version_minor": 0
      },
      "text/plain": [
       "  0%|          | 0/1563 [00:00<?, ?it/s]"
      ]
     },
     "metadata": {},
     "output_type": "display_data"
    },
    {
     "name": "stderr",
     "output_type": "stream",
     "text": [
      "2022-04-14 13:16:20,665 - bertfttrain - INFO - [Epoch 3/3] Validatation Accuracy:0.87486\n",
      "2022-04-14 13:17:28,113 - bertfttrain - INFO - [Epoch 3/3] Iteration 13104 -> Train Loss: 0.0826, Train Accuracy: 0.972\n"
     ]
    },
    {
     "data": {
      "application/vnd.jupyter.widget-view+json": {
       "model_id": "c85c1a14652c43ac9d70a10cc82e50c3",
       "version_major": 2,
       "version_minor": 0
      },
      "text/plain": [
       "  0%|          | 0/1563 [00:00<?, ?it/s]"
      ]
     },
     "metadata": {},
     "output_type": "display_data"
    },
    {
     "name": "stderr",
     "output_type": "stream",
     "text": [
      "2022-04-14 13:18:23,119 - bertfttrain - INFO - [Epoch 3/3] Validatation Accuracy:0.87458\n",
      "2022-04-14 13:19:29,409 - bertfttrain - INFO - [Epoch 3/3] Iteration 13572 -> Train Loss: 0.0855, Train Accuracy: 0.973\n"
     ]
    },
    {
     "data": {
      "application/vnd.jupyter.widget-view+json": {
       "model_id": "baa9dab380db48e5b902fd23a7b53087",
       "version_major": 2,
       "version_minor": 0
      },
      "text/plain": [
       "  0%|          | 0/1563 [00:00<?, ?it/s]"
      ]
     },
     "metadata": {},
     "output_type": "display_data"
    },
    {
     "name": "stderr",
     "output_type": "stream",
     "text": [
      "2022-04-14 13:20:24,456 - bertfttrain - INFO - [Epoch 3/3] Validatation Accuracy:0.87612\n",
      "2022-04-14 13:21:30,734 - bertfttrain - INFO - [Epoch 3/3] Iteration 14040 -> Train Loss: 0.0876, Train Accuracy: 0.970\n"
     ]
    },
    {
     "data": {
      "application/vnd.jupyter.widget-view+json": {
       "model_id": "29a41bdfddcb4da0a92fee1d5080d922",
       "version_major": 2,
       "version_minor": 0
      },
      "text/plain": [
       "  0%|          | 0/1563 [00:00<?, ?it/s]"
      ]
     },
     "metadata": {},
     "output_type": "display_data"
    },
    {
     "name": "stderr",
     "output_type": "stream",
     "text": [
      "2022-04-14 13:22:25,865 - bertfttrain - INFO - [Epoch 3/3] Validatation Accuracy:0.87672\n"
     ]
    },
    {
     "name": "stdout",
     "output_type": "stream",
     "text": [
      "\n"
     ]
    },
    {
     "data": {
      "text/html": [
       "Waiting for W&B process to finish... <strong style=\"color:green\">(success).</strong>"
      ],
      "text/plain": [
       "<IPython.core.display.HTML object>"
      ]
     },
     "metadata": {},
     "output_type": "display_data"
    },
    {
     "data": {
      "application/vnd.jupyter.widget-view+json": {
       "model_id": "",
       "version_major": 2,
       "version_minor": 0
      },
      "text/plain": [
       "VBox(children=(Label(value='0.001 MB of 0.001 MB uploaded (0.000 MB deduped)\\r'), FloatProgress(value=1.0, max…"
      ]
     },
     "metadata": {},
     "output_type": "display_data"
    },
    {
     "data": {
      "text/html": [
       "<style>\n",
       "    table.wandb td:nth-child(1) { padding: 0 10px; text-align: right }\n",
       "    .wandb-row { display: flex; flex-direction: row; flex-wrap: wrap; width: 100% }\n",
       "    .wandb-col { display: flex; flex-direction: column; flex-basis: 100%; flex: 1; padding: 10px; }\n",
       "    </style>\n",
       "<div class=\"wandb-row\"><div class=\"wandb-col\"><h3>Run history:</h3><br/><table class=\"wandb\"><tr><td>Loss</td><td>█▆▅▅▅▄▄▄▄▄▃▃▃▃▃▃▃▃▃▂▂▁▁▁▁▁▁▁▁▁</td></tr><tr><td>train_accuracy</td><td>▁▄▅▅▅▅▆▆▆▆▇▇▇▇▇▇▇▇▇▇██████████</td></tr><tr><td>val_accuracy</td><td>▁▄▄▆▆▆▆▆▇▇▇▇██▇███████████████</td></tr></table><br/></div><div class=\"wandb-col\"><h3>Run summary:</h3><br/><table class=\"wandb\"><tr><td>Loss</td><td>0.08759</td></tr><tr><td>train_accuracy</td><td>0.97029</td></tr><tr><td>val_accuracy</td><td>0.87672</td></tr></table><br/></div></div>"
      ],
      "text/plain": [
       "<IPython.core.display.HTML object>"
      ]
     },
     "metadata": {},
     "output_type": "display_data"
    },
    {
     "data": {
      "text/html": [
       "Synced <strong style=\"color:#cdcd00\">stoic-sweep-1</strong>: <a href=\"https://wandb.ai/kobongsoo/bert-wb-test/runs/i3ncmiw7\" target=\"_blank\">https://wandb.ai/kobongsoo/bert-wb-test/runs/i3ncmiw7</a><br/>Synced 6 W&B file(s), 0 media file(s), 0 artifact file(s) and 0 other file(s)"
      ],
      "text/plain": [
       "<IPython.core.display.HTML object>"
      ]
     },
     "metadata": {},
     "output_type": "display_data"
    },
    {
     "data": {
      "text/html": [
       "Find logs at: <code>./wandb/run-20220414_122133-i3ncmiw7/logs</code>"
      ],
      "text/plain": [
       "<IPython.core.display.HTML object>"
      ]
     },
     "metadata": {},
     "output_type": "display_data"
    },
    {
     "name": "stderr",
     "output_type": "stream",
     "text": [
      "\u001b[34m\u001b[1mwandb\u001b[0m: Agent Starting Run: ukh3gl0l with config:\n",
      "\u001b[34m\u001b[1mwandb\u001b[0m: \tbatch_size: 16\n",
      "\u001b[34m\u001b[1mwandb\u001b[0m: \tepochs: 4\n",
      "\u001b[34m\u001b[1mwandb\u001b[0m: \tlearning_rate: 0.00015027370682214243\n",
      "Failed to detect the name of this notebook, you can set it manually with the WANDB_NOTEBOOK_NAME environment variable to enable code saving.\n"
     ]
    },
    {
     "data": {
      "text/html": [
       "Tracking run with wandb version 0.12.14"
      ],
      "text/plain": [
       "<IPython.core.display.HTML object>"
      ]
     },
     "metadata": {},
     "output_type": "display_data"
    },
    {
     "data": {
      "text/html": [
       "Run data is saved locally in <code>/MOCOMSYS/dev/bong/BERT/W&B/wandb/run-20220414_132239-ukh3gl0l</code>"
      ],
      "text/plain": [
       "<IPython.core.display.HTML object>"
      ]
     },
     "metadata": {},
     "output_type": "display_data"
    },
    {
     "data": {
      "text/html": [
       "Syncing run <strong><a href=\"https://wandb.ai/kobongsoo/bert-wb-test/runs/ukh3gl0l\" target=\"_blank\">cosmic-sweep-2</a></strong> to <a href=\"https://wandb.ai/kobongsoo/bert-wb-test\" target=\"_blank\">Weights & Biases</a> (<a href=\"https://wandb.me/run\" target=\"_blank\">docs</a>)<br/>Sweep page:  <a href=\"https://wandb.ai/kobongsoo/bert-wb-test/sweeps/0g05iq6k\" target=\"_blank\">https://wandb.ai/kobongsoo/bert-wb-test/sweeps/0g05iq6k</a>"
      ],
      "text/plain": [
       "<IPython.core.display.HTML object>"
      ]
     },
     "metadata": {},
     "output_type": "display_data"
    },
    {
     "name": "stderr",
     "output_type": "stream",
     "text": [
      "2022-04-14 13:22:54,068 - bwpdataset - INFO - Loading features from cached file ../../korpora/nsmc/cached_BertTokenizer_128_ratings_train.txt [took 8.281 s]\n",
      "2022-04-14 13:22:56,281 - bwpdataset - INFO - Loading features from cached file ../../korpora/nsmc/cached_BertTokenizer_128_ratings_test.txt [took 2.210 s]\n",
      "2022-04-14 13:22:56,287 - bertfttrain - INFO - total_steps: 37500, warnup_steps: 3750, p_itr: 937\n"
     ]
    },
    {
     "data": {
      "application/vnd.jupyter.widget-view+json": {
       "model_id": "8eec632291974eecb2823ba353355531",
       "version_major": 2,
       "version_minor": 0
      },
      "text/plain": [
       "  0%|          | 0/4 [00:00<?, ?it/s]"
      ]
     },
     "metadata": {},
     "output_type": "display_data"
    },
    {
     "data": {
      "application/vnd.jupyter.widget-view+json": {
       "model_id": "c42203ca04e1438fbebd95935ffa4a0f",
       "version_major": 2,
       "version_minor": 0
      },
      "text/plain": [
       "  0%|          | 0/9375 [00:00<?, ?it/s]"
      ]
     },
     "metadata": {},
     "output_type": "display_data"
    },
    {
     "name": "stderr",
     "output_type": "stream",
     "text": [
      "/tmp/ipykernel_118732/3640600870.py:77: UserWarning: Implicit dimension choice for softmax has been deprecated. Change the call to include dim=X as an argument.\n",
      "  pred = torch.argmax(F.softmax(logits), dim=1)\n",
      "2022-04-14 13:24:45,634 - bertfttrain - INFO - [Epoch 1/4] Iteration 937 -> Train Loss: 0.1362, Train Accuracy: 0.957\n"
     ]
    },
    {
     "data": {
      "application/vnd.jupyter.widget-view+json": {
       "model_id": "22eba81fa13c49269f542ee730bef764",
       "version_major": 2,
       "version_minor": 0
      },
      "text/plain": [
       "  0%|          | 0/3125 [00:00<?, ?it/s]"
      ]
     },
     "metadata": {},
     "output_type": "display_data"
    },
    {
     "name": "stderr",
     "output_type": "stream",
     "text": [
      "/tmp/ipykernel_118732/3640600870.py:131: UserWarning: Implicit dimension choice for softmax has been deprecated. Change the call to include dim=X as an argument.\n",
      "  pred = torch.argmax(F.softmax(logits), dim=1)\n",
      "2022-04-14 13:25:45,773 - bertfttrain - INFO - [Epoch 1/4] Validatation Accuracy:0.865\n",
      "2022-04-14 13:27:28,912 - bertfttrain - INFO - [Epoch 1/4] Iteration 1874 -> Train Loss: 0.2111, Train Accuracy: 0.929\n"
     ]
    },
    {
     "data": {
      "application/vnd.jupyter.widget-view+json": {
       "model_id": "79644ca9a503417982e03b3986ea5560",
       "version_major": 2,
       "version_minor": 0
      },
      "text/plain": [
       "  0%|          | 0/3125 [00:00<?, ?it/s]"
      ]
     },
     "metadata": {},
     "output_type": "display_data"
    },
    {
     "name": "stderr",
     "output_type": "stream",
     "text": [
      "2022-04-14 13:28:29,442 - bertfttrain - INFO - [Epoch 1/4] Validatation Accuracy:0.8455\n",
      "2022-04-14 13:30:14,074 - bertfttrain - INFO - [Epoch 1/4] Iteration 2811 -> Train Loss: 0.3577, Train Accuracy: 0.864\n"
     ]
    },
    {
     "data": {
      "application/vnd.jupyter.widget-view+json": {
       "model_id": "8e962aeaf0704bc38423402384e4f110",
       "version_major": 2,
       "version_minor": 0
      },
      "text/plain": [
       "  0%|          | 0/3125 [00:00<?, ?it/s]"
      ]
     },
     "metadata": {},
     "output_type": "display_data"
    },
    {
     "name": "stderr",
     "output_type": "stream",
     "text": [
      "2022-04-14 13:31:14,446 - bertfttrain - INFO - [Epoch 1/4] Validatation Accuracy:0.80638\n",
      "2022-04-14 13:33:00,163 - bertfttrain - INFO - [Epoch 1/4] Iteration 3748 -> Train Loss: 0.6834, Train Accuracy: 0.529\n"
     ]
    },
    {
     "data": {
      "application/vnd.jupyter.widget-view+json": {
       "model_id": "ae7d0e7d817b47da83d474d49fece9ba",
       "version_major": 2,
       "version_minor": 0
      },
      "text/plain": [
       "  0%|          | 0/3125 [00:00<?, ?it/s]"
      ]
     },
     "metadata": {},
     "output_type": "display_data"
    },
    {
     "name": "stderr",
     "output_type": "stream",
     "text": [
      "2022-04-14 13:34:00,059 - bertfttrain - INFO - [Epoch 1/4] Validatation Accuracy:0.49654\n",
      "2022-04-14 13:35:43,177 - bertfttrain - INFO - [Epoch 1/4] Iteration 4685 -> Train Loss: 0.6972, Train Accuracy: 0.502\n"
     ]
    },
    {
     "data": {
      "application/vnd.jupyter.widget-view+json": {
       "model_id": "247f3e448b1d4b7b9ee03bd8c5c43ae6",
       "version_major": 2,
       "version_minor": 0
      },
      "text/plain": [
       "  0%|          | 0/3125 [00:00<?, ?it/s]"
      ]
     },
     "metadata": {},
     "output_type": "display_data"
    },
    {
     "name": "stderr",
     "output_type": "stream",
     "text": [
      "2022-04-14 13:36:43,044 - bertfttrain - INFO - [Epoch 1/4] Validatation Accuracy:0.49654\n",
      "2022-04-14 13:38:24,512 - bertfttrain - INFO - [Epoch 1/4] Iteration 5622 -> Train Loss: 0.6962, Train Accuracy: 0.504\n"
     ]
    },
    {
     "data": {
      "application/vnd.jupyter.widget-view+json": {
       "model_id": "88f8229fc1f94a6a9112f1c3ed6c63db",
       "version_major": 2,
       "version_minor": 0
      },
      "text/plain": [
       "  0%|          | 0/3125 [00:00<?, ?it/s]"
      ]
     },
     "metadata": {},
     "output_type": "display_data"
    },
    {
     "name": "stderr",
     "output_type": "stream",
     "text": [
      "2022-04-14 13:39:24,471 - bertfttrain - INFO - [Epoch 1/4] Validatation Accuracy:0.49648\n",
      "2022-04-14 13:41:04,560 - bertfttrain - INFO - [Epoch 1/4] Iteration 6559 -> Train Loss: 0.6959, Train Accuracy: 0.508\n"
     ]
    },
    {
     "data": {
      "application/vnd.jupyter.widget-view+json": {
       "model_id": "d7e5c18f6eb04fb099d9773a58e97488",
       "version_major": 2,
       "version_minor": 0
      },
      "text/plain": [
       "  0%|          | 0/3125 [00:00<?, ?it/s]"
      ]
     },
     "metadata": {},
     "output_type": "display_data"
    },
    {
     "name": "stderr",
     "output_type": "stream",
     "text": [
      "2022-04-14 13:42:04,684 - bertfttrain - INFO - [Epoch 1/4] Validatation Accuracy:0.49652\n",
      "2022-04-14 13:43:43,822 - bertfttrain - INFO - [Epoch 1/4] Iteration 7496 -> Train Loss: 0.6955, Train Accuracy: 0.491\n"
     ]
    },
    {
     "data": {
      "application/vnd.jupyter.widget-view+json": {
       "model_id": "82f88de617b2423492b2724bd0c9cfd9",
       "version_major": 2,
       "version_minor": 0
      },
      "text/plain": [
       "  0%|          | 0/3125 [00:00<?, ?it/s]"
      ]
     },
     "metadata": {},
     "output_type": "display_data"
    },
    {
     "name": "stderr",
     "output_type": "stream",
     "text": [
      "2022-04-14 13:44:43,851 - bertfttrain - INFO - [Epoch 1/4] Validatation Accuracy:0.4965\n",
      "2022-04-14 13:46:26,087 - bertfttrain - INFO - [Epoch 1/4] Iteration 8433 -> Train Loss: 0.6946, Train Accuracy: 0.505\n"
     ]
    },
    {
     "data": {
      "application/vnd.jupyter.widget-view+json": {
       "model_id": "03df346926014d3bbac06a02a530ecdc",
       "version_major": 2,
       "version_minor": 0
      },
      "text/plain": [
       "  0%|          | 0/3125 [00:00<?, ?it/s]"
      ]
     },
     "metadata": {},
     "output_type": "display_data"
    },
    {
     "name": "stderr",
     "output_type": "stream",
     "text": [
      "2022-04-14 13:47:26,230 - bertfttrain - INFO - [Epoch 1/4] Validatation Accuracy:0.5035\n",
      "2022-04-14 13:49:08,313 - bertfttrain - INFO - [Epoch 1/4] Iteration 9370 -> Train Loss: 0.6947, Train Accuracy: 0.501\n"
     ]
    },
    {
     "data": {
      "application/vnd.jupyter.widget-view+json": {
       "model_id": "c57df6728ffd4beba9e0338cb1d61a4a",
       "version_major": 2,
       "version_minor": 0
      },
      "text/plain": [
       "  0%|          | 0/3125 [00:00<?, ?it/s]"
      ]
     },
     "metadata": {},
     "output_type": "display_data"
    },
    {
     "name": "stderr",
     "output_type": "stream",
     "text": [
      "2022-04-14 13:50:08,259 - bertfttrain - INFO - [Epoch 1/4] Validatation Accuracy:0.50346\n"
     ]
    },
    {
     "data": {
      "application/vnd.jupyter.widget-view+json": {
       "model_id": "90da4cead5494ad6a7c4b6361ac484ce",
       "version_major": 2,
       "version_minor": 0
      },
      "text/plain": [
       "  0%|          | 0/9375 [00:00<?, ?it/s]"
      ]
     },
     "metadata": {},
     "output_type": "display_data"
    },
    {
     "name": "stderr",
     "output_type": "stream",
     "text": [
      "2022-04-14 13:52:03,965 - bertfttrain - INFO - [Epoch 2/4] Iteration 10307 -> Train Loss: 0.6981, Train Accuracy: 0.503\n"
     ]
    },
    {
     "data": {
      "application/vnd.jupyter.widget-view+json": {
       "model_id": "f064fc229ec9426fa80e2b3599d1e450",
       "version_major": 2,
       "version_minor": 0
      },
      "text/plain": [
       "  0%|          | 0/3125 [00:00<?, ?it/s]"
      ]
     },
     "metadata": {},
     "output_type": "display_data"
    },
    {
     "name": "stderr",
     "output_type": "stream",
     "text": [
      "2022-04-14 13:53:04,210 - bertfttrain - INFO - [Epoch 2/4] Validatation Accuracy:0.4965\n",
      "wandb: Network error (ReadTimeout), entering retry loop.\n",
      "2022-04-14 13:54:50,508 - bertfttrain - INFO - [Epoch 2/4] Iteration 11244 -> Train Loss: 0.6948, Train Accuracy: 0.506\n"
     ]
    },
    {
     "data": {
      "application/vnd.jupyter.widget-view+json": {
       "model_id": "38b89ebbe13d40a7a37fe4b637eaa2bf",
       "version_major": 2,
       "version_minor": 0
      },
      "text/plain": [
       "  0%|          | 0/3125 [00:00<?, ?it/s]"
      ]
     },
     "metadata": {},
     "output_type": "display_data"
    },
    {
     "name": "stderr",
     "output_type": "stream",
     "text": [
      "2022-04-14 13:55:50,436 - bertfttrain - INFO - [Epoch 2/4] Validatation Accuracy:0.5035\n",
      "2022-04-14 13:57:32,482 - bertfttrain - INFO - [Epoch 2/4] Iteration 12181 -> Train Loss: 0.6944, Train Accuracy: 0.507\n"
     ]
    },
    {
     "data": {
      "application/vnd.jupyter.widget-view+json": {
       "model_id": "e90b30a4f8e14c6e8a0d4a6d288bff11",
       "version_major": 2,
       "version_minor": 0
      },
      "text/plain": [
       "  0%|          | 0/3125 [00:00<?, ?it/s]"
      ]
     },
     "metadata": {},
     "output_type": "display_data"
    },
    {
     "name": "stderr",
     "output_type": "stream",
     "text": [
      "2022-04-14 13:58:32,322 - bertfttrain - INFO - [Epoch 2/4] Validatation Accuracy:0.4965\n",
      "2022-04-14 14:00:15,704 - bertfttrain - INFO - [Epoch 2/4] Iteration 13118 -> Train Loss: 0.6957, Train Accuracy: 0.497\n"
     ]
    },
    {
     "data": {
      "application/vnd.jupyter.widget-view+json": {
       "model_id": "d376bb3f73ad4567bbfd930d761b3a05",
       "version_major": 2,
       "version_minor": 0
      },
      "text/plain": [
       "  0%|          | 0/3125 [00:00<?, ?it/s]"
      ]
     },
     "metadata": {},
     "output_type": "display_data"
    },
    {
     "name": "stderr",
     "output_type": "stream",
     "text": [
      "2022-04-14 14:01:15,592 - bertfttrain - INFO - [Epoch 2/4] Validatation Accuracy:0.4965\n",
      "2022-04-14 14:02:57,572 - bertfttrain - INFO - [Epoch 2/4] Iteration 14055 -> Train Loss: 0.6939, Train Accuracy: 0.502\n"
     ]
    },
    {
     "data": {
      "application/vnd.jupyter.widget-view+json": {
       "model_id": "bec9dfcc634c40739aa3838d9d29fc96",
       "version_major": 2,
       "version_minor": 0
      },
      "text/plain": [
       "  0%|          | 0/3125 [00:00<?, ?it/s]"
      ]
     },
     "metadata": {},
     "output_type": "display_data"
    },
    {
     "name": "stderr",
     "output_type": "stream",
     "text": [
      "2022-04-14 14:03:57,177 - bertfttrain - INFO - [Epoch 2/4] Validatation Accuracy:0.5035\n",
      "2022-04-14 14:05:46,581 - bertfttrain - INFO - [Epoch 2/4] Iteration 14992 -> Train Loss: 0.6950, Train Accuracy: 0.501\n"
     ]
    },
    {
     "data": {
      "application/vnd.jupyter.widget-view+json": {
       "model_id": "ac59ea81baf24829acfdf77051ac106f",
       "version_major": 2,
       "version_minor": 0
      },
      "text/plain": [
       "  0%|          | 0/3125 [00:00<?, ?it/s]"
      ]
     },
     "metadata": {},
     "output_type": "display_data"
    },
    {
     "name": "stderr",
     "output_type": "stream",
     "text": [
      "2022-04-14 14:06:46,421 - bertfttrain - INFO - [Epoch 2/4] Validatation Accuracy:0.50314\n",
      "2022-04-14 14:08:31,808 - bertfttrain - INFO - [Epoch 2/4] Iteration 15929 -> Train Loss: 0.6950, Train Accuracy: 0.502\n"
     ]
    },
    {
     "data": {
      "application/vnd.jupyter.widget-view+json": {
       "model_id": "4ff63f1669cf46139d00768354a267c5",
       "version_major": 2,
       "version_minor": 0
      },
      "text/plain": [
       "  0%|          | 0/3125 [00:00<?, ?it/s]"
      ]
     },
     "metadata": {},
     "output_type": "display_data"
    },
    {
     "name": "stderr",
     "output_type": "stream",
     "text": [
      "2022-04-14 14:09:31,697 - bertfttrain - INFO - [Epoch 2/4] Validatation Accuracy:0.49654\n",
      "2022-04-14 14:11:15,269 - bertfttrain - INFO - [Epoch 2/4] Iteration 16866 -> Train Loss: 0.6945, Train Accuracy: 0.502\n"
     ]
    },
    {
     "data": {
      "application/vnd.jupyter.widget-view+json": {
       "model_id": "1135d810b4764c5d863157a4e9e007c3",
       "version_major": 2,
       "version_minor": 0
      },
      "text/plain": [
       "  0%|          | 0/3125 [00:00<?, ?it/s]"
      ]
     },
     "metadata": {},
     "output_type": "display_data"
    },
    {
     "name": "stderr",
     "output_type": "stream",
     "text": [
      "2022-04-14 14:12:15,121 - bertfttrain - INFO - [Epoch 2/4] Validatation Accuracy:0.50346\n",
      "2022-04-14 14:13:59,139 - bertfttrain - INFO - [Epoch 2/4] Iteration 17803 -> Train Loss: 0.6945, Train Accuracy: 0.499\n"
     ]
    },
    {
     "data": {
      "application/vnd.jupyter.widget-view+json": {
       "model_id": "309bb288493c4d13992008f8b43649d6",
       "version_major": 2,
       "version_minor": 0
      },
      "text/plain": [
       "  0%|          | 0/3125 [00:00<?, ?it/s]"
      ]
     },
     "metadata": {},
     "output_type": "display_data"
    },
    {
     "name": "stderr",
     "output_type": "stream",
     "text": [
      "2022-04-14 14:14:58,896 - bertfttrain - INFO - [Epoch 2/4] Validatation Accuracy:0.49654\n",
      "2022-04-14 14:16:42,685 - bertfttrain - INFO - [Epoch 2/4] Iteration 18740 -> Train Loss: 0.6943, Train Accuracy: 0.506\n"
     ]
    },
    {
     "data": {
      "application/vnd.jupyter.widget-view+json": {
       "model_id": "e83b2738ab3841a89dbc33c0796e0f50",
       "version_major": 2,
       "version_minor": 0
      },
      "text/plain": [
       "  0%|          | 0/3125 [00:00<?, ?it/s]"
      ]
     },
     "metadata": {},
     "output_type": "display_data"
    },
    {
     "name": "stderr",
     "output_type": "stream",
     "text": [
      "2022-04-14 14:17:42,250 - bertfttrain - INFO - [Epoch 2/4] Validatation Accuracy:0.50346\n"
     ]
    },
    {
     "data": {
      "application/vnd.jupyter.widget-view+json": {
       "model_id": "732e79f08fb04df29e04e56160b1f2a2",
       "version_major": 2,
       "version_minor": 0
      },
      "text/plain": [
       "  0%|          | 0/9375 [00:00<?, ?it/s]"
      ]
     },
     "metadata": {},
     "output_type": "display_data"
    },
    {
     "name": "stderr",
     "output_type": "stream",
     "text": [
      "2022-04-14 14:19:38,927 - bertfttrain - INFO - [Epoch 3/4] Iteration 19677 -> Train Loss: 0.6982, Train Accuracy: 0.500\n"
     ]
    },
    {
     "data": {
      "application/vnd.jupyter.widget-view+json": {
       "model_id": "0c3347d1b4174991a66453ddc7ad531f",
       "version_major": 2,
       "version_minor": 0
      },
      "text/plain": [
       "  0%|          | 0/3125 [00:00<?, ?it/s]"
      ]
     },
     "metadata": {},
     "output_type": "display_data"
    },
    {
     "name": "stderr",
     "output_type": "stream",
     "text": [
      "2022-04-14 14:20:38,641 - bertfttrain - INFO - [Epoch 3/4] Validatation Accuracy:0.50346\n",
      "2022-04-14 14:22:28,336 - bertfttrain - INFO - [Epoch 3/4] Iteration 20614 -> Train Loss: 0.6943, Train Accuracy: 0.503\n"
     ]
    },
    {
     "data": {
      "application/vnd.jupyter.widget-view+json": {
       "model_id": "e853f5a0c234489c969999666b6d3fc8",
       "version_major": 2,
       "version_minor": 0
      },
      "text/plain": [
       "  0%|          | 0/3125 [00:00<?, ?it/s]"
      ]
     },
     "metadata": {},
     "output_type": "display_data"
    },
    {
     "name": "stderr",
     "output_type": "stream",
     "text": [
      "2022-04-14 14:23:28,470 - bertfttrain - INFO - [Epoch 3/4] Validatation Accuracy:0.49654\n",
      "2022-04-14 14:25:15,533 - bertfttrain - INFO - [Epoch 3/4] Iteration 21551 -> Train Loss: 0.6945, Train Accuracy: 0.502\n"
     ]
    },
    {
     "data": {
      "application/vnd.jupyter.widget-view+json": {
       "model_id": "718b54a3803343e28beeca510f747e0e",
       "version_major": 2,
       "version_minor": 0
      },
      "text/plain": [
       "  0%|          | 0/3125 [00:00<?, ?it/s]"
      ]
     },
     "metadata": {},
     "output_type": "display_data"
    },
    {
     "name": "stderr",
     "output_type": "stream",
     "text": [
      "2022-04-14 14:26:15,220 - bertfttrain - INFO - [Epoch 3/4] Validatation Accuracy:0.50346\n",
      "2022-04-14 14:28:01,416 - bertfttrain - INFO - [Epoch 3/4] Iteration 22488 -> Train Loss: 0.6943, Train Accuracy: 0.500\n"
     ]
    },
    {
     "data": {
      "application/vnd.jupyter.widget-view+json": {
       "model_id": "b0a8f725975c4899a7d473db64de9512",
       "version_major": 2,
       "version_minor": 0
      },
      "text/plain": [
       "  0%|          | 0/3125 [00:00<?, ?it/s]"
      ]
     },
     "metadata": {},
     "output_type": "display_data"
    },
    {
     "name": "stderr",
     "output_type": "stream",
     "text": [
      "2022-04-14 14:29:01,398 - bertfttrain - INFO - [Epoch 3/4] Validatation Accuracy:0.49654\n",
      "2022-04-14 14:30:45,251 - bertfttrain - INFO - [Epoch 3/4] Iteration 23425 -> Train Loss: 0.6942, Train Accuracy: 0.496\n"
     ]
    },
    {
     "data": {
      "application/vnd.jupyter.widget-view+json": {
       "model_id": "4aa9e52010814702a4a5b72dd08ef1d6",
       "version_major": 2,
       "version_minor": 0
      },
      "text/plain": [
       "  0%|          | 0/3125 [00:00<?, ?it/s]"
      ]
     },
     "metadata": {},
     "output_type": "display_data"
    },
    {
     "name": "stderr",
     "output_type": "stream",
     "text": [
      "2022-04-14 14:31:45,392 - bertfttrain - INFO - [Epoch 3/4] Validatation Accuracy:0.49654\n",
      "2022-04-14 14:33:24,569 - bertfttrain - INFO - [Epoch 3/4] Iteration 24362 -> Train Loss: 0.6937, Train Accuracy: 0.506\n"
     ]
    },
    {
     "data": {
      "application/vnd.jupyter.widget-view+json": {
       "model_id": "f111768749224b6c9527508ab0c518d7",
       "version_major": 2,
       "version_minor": 0
      },
      "text/plain": [
       "  0%|          | 0/3125 [00:00<?, ?it/s]"
      ]
     },
     "metadata": {},
     "output_type": "display_data"
    },
    {
     "name": "stderr",
     "output_type": "stream",
     "text": [
      "2022-04-14 14:34:24,917 - bertfttrain - INFO - [Epoch 3/4] Validatation Accuracy:0.50346\n",
      "2022-04-14 14:36:08,116 - bertfttrain - INFO - [Epoch 3/4] Iteration 25299 -> Train Loss: 0.6939, Train Accuracy: 0.502\n"
     ]
    },
    {
     "data": {
      "application/vnd.jupyter.widget-view+json": {
       "model_id": "2f592643c1d94b64b639ccca4b985fd0",
       "version_major": 2,
       "version_minor": 0
      },
      "text/plain": [
       "  0%|          | 0/3125 [00:00<?, ?it/s]"
      ]
     },
     "metadata": {},
     "output_type": "display_data"
    },
    {
     "name": "stderr",
     "output_type": "stream",
     "text": [
      "2022-04-14 14:37:07,996 - bertfttrain - INFO - [Epoch 3/4] Validatation Accuracy:0.49654\n",
      "2022-04-14 14:38:51,020 - bertfttrain - INFO - [Epoch 3/4] Iteration 26236 -> Train Loss: 0.6936, Train Accuracy: 0.500\n"
     ]
    },
    {
     "data": {
      "application/vnd.jupyter.widget-view+json": {
       "model_id": "235448872f1449c39c44f6d8cb683cac",
       "version_major": 2,
       "version_minor": 0
      },
      "text/plain": [
       "  0%|          | 0/3125 [00:00<?, ?it/s]"
      ]
     },
     "metadata": {},
     "output_type": "display_data"
    },
    {
     "name": "stderr",
     "output_type": "stream",
     "text": [
      "2022-04-14 14:39:51,278 - bertfttrain - INFO - [Epoch 3/4] Validatation Accuracy:0.49654\n",
      "2022-04-14 14:41:36,181 - bertfttrain - INFO - [Epoch 3/4] Iteration 27173 -> Train Loss: 0.6940, Train Accuracy: 0.502\n"
     ]
    },
    {
     "data": {
      "application/vnd.jupyter.widget-view+json": {
       "model_id": "2a06eb7686754544b144ee26770ca65a",
       "version_major": 2,
       "version_minor": 0
      },
      "text/plain": [
       "  0%|          | 0/3125 [00:00<?, ?it/s]"
      ]
     },
     "metadata": {},
     "output_type": "display_data"
    },
    {
     "name": "stderr",
     "output_type": "stream",
     "text": [
      "2022-04-14 14:42:36,314 - bertfttrain - INFO - [Epoch 3/4] Validatation Accuracy:0.50346\n",
      "2022-04-14 14:44:18,410 - bertfttrain - INFO - [Epoch 3/4] Iteration 28110 -> Train Loss: 0.6937, Train Accuracy: 0.503\n"
     ]
    },
    {
     "data": {
      "application/vnd.jupyter.widget-view+json": {
       "model_id": "197f1fba53854ae88f7d5cd0a9bb8706",
       "version_major": 2,
       "version_minor": 0
      },
      "text/plain": [
       "  0%|          | 0/3125 [00:00<?, ?it/s]"
      ]
     },
     "metadata": {},
     "output_type": "display_data"
    },
    {
     "name": "stderr",
     "output_type": "stream",
     "text": [
      "2022-04-14 14:45:18,353 - bertfttrain - INFO - [Epoch 3/4] Validatation Accuracy:0.49654\n"
     ]
    },
    {
     "data": {
      "application/vnd.jupyter.widget-view+json": {
       "model_id": "bbe7b8fe523244c4a8cd7288bd5aae72",
       "version_major": 2,
       "version_minor": 0
      },
      "text/plain": [
       "  0%|          | 0/9375 [00:00<?, ?it/s]"
      ]
     },
     "metadata": {},
     "output_type": "display_data"
    },
    {
     "name": "stderr",
     "output_type": "stream",
     "text": [
      "2022-04-14 14:47:00,964 - bertfttrain - INFO - [Epoch 4/4] Iteration 29047 -> Train Loss: 0.6957, Train Accuracy: 0.499\n"
     ]
    },
    {
     "data": {
      "application/vnd.jupyter.widget-view+json": {
       "model_id": "208c661114a84cbe8bb200fae3e87105",
       "version_major": 2,
       "version_minor": 0
      },
      "text/plain": [
       "  0%|          | 0/3125 [00:00<?, ?it/s]"
      ]
     },
     "metadata": {},
     "output_type": "display_data"
    },
    {
     "name": "stderr",
     "output_type": "stream",
     "text": [
      "2022-04-14 14:48:01,218 - bertfttrain - INFO - [Epoch 4/4] Validatation Accuracy:0.49654\n",
      "2022-04-14 14:49:35,641 - bertfttrain - INFO - [Epoch 4/4] Iteration 29984 -> Train Loss: 0.6935, Train Accuracy: 0.500\n"
     ]
    },
    {
     "data": {
      "application/vnd.jupyter.widget-view+json": {
       "model_id": "2abe5c1291484f11890f616a40f5913c",
       "version_major": 2,
       "version_minor": 0
      },
      "text/plain": [
       "  0%|          | 0/3125 [00:00<?, ?it/s]"
      ]
     },
     "metadata": {},
     "output_type": "display_data"
    },
    {
     "name": "stderr",
     "output_type": "stream",
     "text": [
      "2022-04-14 14:50:36,310 - bertfttrain - INFO - [Epoch 4/4] Validatation Accuracy:0.49654\n",
      "2022-04-14 14:52:20,095 - bertfttrain - INFO - [Epoch 4/4] Iteration 30921 -> Train Loss: 0.6936, Train Accuracy: 0.502\n"
     ]
    },
    {
     "data": {
      "application/vnd.jupyter.widget-view+json": {
       "model_id": "10217af9bfd14b75b9e5b4f35e0b030b",
       "version_major": 2,
       "version_minor": 0
      },
      "text/plain": [
       "  0%|          | 0/3125 [00:00<?, ?it/s]"
      ]
     },
     "metadata": {},
     "output_type": "display_data"
    },
    {
     "name": "stderr",
     "output_type": "stream",
     "text": [
      "2022-04-14 14:53:20,696 - bertfttrain - INFO - [Epoch 4/4] Validatation Accuracy:0.49654\n",
      "2022-04-14 14:55:05,756 - bertfttrain - INFO - [Epoch 4/4] Iteration 31858 -> Train Loss: 0.6935, Train Accuracy: 0.503\n"
     ]
    },
    {
     "data": {
      "application/vnd.jupyter.widget-view+json": {
       "model_id": "4fdb531f96ae4cdda19963befcbd02ff",
       "version_major": 2,
       "version_minor": 0
      },
      "text/plain": [
       "  0%|          | 0/3125 [00:00<?, ?it/s]"
      ]
     },
     "metadata": {},
     "output_type": "display_data"
    },
    {
     "name": "stderr",
     "output_type": "stream",
     "text": [
      "2022-04-14 14:56:06,328 - bertfttrain - INFO - [Epoch 4/4] Validatation Accuracy:0.50346\n",
      "2022-04-14 14:57:46,007 - bertfttrain - INFO - [Epoch 4/4] Iteration 32795 -> Train Loss: 0.6928, Train Accuracy: 0.517\n"
     ]
    },
    {
     "data": {
      "application/vnd.jupyter.widget-view+json": {
       "model_id": "db4c92dedf8747848a01386faaa86f36",
       "version_major": 2,
       "version_minor": 0
      },
      "text/plain": [
       "  0%|          | 0/3125 [00:00<?, ?it/s]"
      ]
     },
     "metadata": {},
     "output_type": "display_data"
    },
    {
     "name": "stderr",
     "output_type": "stream",
     "text": [
      "2022-04-14 14:58:46,966 - bertfttrain - INFO - [Epoch 4/4] Validatation Accuracy:0.49654\n",
      "2022-04-14 15:00:27,352 - bertfttrain - INFO - [Epoch 4/4] Iteration 33732 -> Train Loss: 0.6937, Train Accuracy: 0.495\n"
     ]
    },
    {
     "data": {
      "application/vnd.jupyter.widget-view+json": {
       "model_id": "161aa19abf834a1cad45fc6ad01c4a1c",
       "version_major": 2,
       "version_minor": 0
      },
      "text/plain": [
       "  0%|          | 0/3125 [00:00<?, ?it/s]"
      ]
     },
     "metadata": {},
     "output_type": "display_data"
    },
    {
     "name": "stderr",
     "output_type": "stream",
     "text": [
      "2022-04-14 15:01:27,447 - bertfttrain - INFO - [Epoch 4/4] Validatation Accuracy:0.50346\n",
      "2022-04-14 15:03:10,708 - bertfttrain - INFO - [Epoch 4/4] Iteration 34669 -> Train Loss: 0.6932, Train Accuracy: 0.505\n"
     ]
    },
    {
     "data": {
      "application/vnd.jupyter.widget-view+json": {
       "model_id": "fb0f2a2392154e28941e6f6104bcbb5e",
       "version_major": 2,
       "version_minor": 0
      },
      "text/plain": [
       "  0%|          | 0/3125 [00:00<?, ?it/s]"
      ]
     },
     "metadata": {},
     "output_type": "display_data"
    },
    {
     "name": "stderr",
     "output_type": "stream",
     "text": [
      "2022-04-14 15:04:10,730 - bertfttrain - INFO - [Epoch 4/4] Validatation Accuracy:0.50346\n",
      "2022-04-14 15:05:52,887 - bertfttrain - INFO - [Epoch 4/4] Iteration 35606 -> Train Loss: 0.6935, Train Accuracy: 0.499\n"
     ]
    },
    {
     "data": {
      "application/vnd.jupyter.widget-view+json": {
       "model_id": "fb974b55abfc44b38728347bc8daaa3a",
       "version_major": 2,
       "version_minor": 0
      },
      "text/plain": [
       "  0%|          | 0/3125 [00:00<?, ?it/s]"
      ]
     },
     "metadata": {},
     "output_type": "display_data"
    },
    {
     "name": "stderr",
     "output_type": "stream",
     "text": [
      "2022-04-14 15:06:52,753 - bertfttrain - INFO - [Epoch 4/4] Validatation Accuracy:0.50346\n",
      "2022-04-14 15:08:35,054 - bertfttrain - INFO - [Epoch 4/4] Iteration 36543 -> Train Loss: 0.6934, Train Accuracy: 0.494\n"
     ]
    },
    {
     "data": {
      "application/vnd.jupyter.widget-view+json": {
       "model_id": "f29f3ba5486d426883e03630269de175",
       "version_major": 2,
       "version_minor": 0
      },
      "text/plain": [
       "  0%|          | 0/3125 [00:00<?, ?it/s]"
      ]
     },
     "metadata": {},
     "output_type": "display_data"
    },
    {
     "name": "stderr",
     "output_type": "stream",
     "text": [
      "2022-04-14 15:09:35,034 - bertfttrain - INFO - [Epoch 4/4] Validatation Accuracy:0.50346\n",
      "2022-04-14 15:11:17,350 - bertfttrain - INFO - [Epoch 4/4] Iteration 37480 -> Train Loss: 0.6932, Train Accuracy: 0.500\n"
     ]
    },
    {
     "data": {
      "application/vnd.jupyter.widget-view+json": {
       "model_id": "79baace2daa5432d93b731ce2a695908",
       "version_major": 2,
       "version_minor": 0
      },
      "text/plain": [
       "  0%|          | 0/3125 [00:00<?, ?it/s]"
      ]
     },
     "metadata": {},
     "output_type": "display_data"
    },
    {
     "name": "stderr",
     "output_type": "stream",
     "text": [
      "2022-04-14 15:12:17,337 - bertfttrain - INFO - [Epoch 4/4] Validatation Accuracy:0.50346\n"
     ]
    },
    {
     "name": "stdout",
     "output_type": "stream",
     "text": [
      "\n"
     ]
    },
    {
     "data": {
      "text/html": [
       "Waiting for W&B process to finish... <strong style=\"color:green\">(success).</strong>"
      ],
      "text/plain": [
       "<IPython.core.display.HTML object>"
      ]
     },
     "metadata": {},
     "output_type": "display_data"
    },
    {
     "data": {
      "application/vnd.jupyter.widget-view+json": {
       "model_id": "",
       "version_major": 2,
       "version_minor": 0
      },
      "text/plain": [
       "VBox(children=(Label(value='0.001 MB of 0.001 MB uploaded (0.000 MB deduped)\\r'), FloatProgress(value=1.0, max…"
      ]
     },
     "metadata": {},
     "output_type": "display_data"
    },
    {
     "data": {
      "text/html": [
       "<style>\n",
       "    table.wandb td:nth-child(1) { padding: 0 10px; text-align: right }\n",
       "    .wandb-row { display: flex; flex-direction: row; flex-wrap: wrap; width: 100% }\n",
       "    .wandb-col { display: flex; flex-direction: column; flex-basis: 100%; flex: 1; padding: 10px; }\n",
       "    </style>\n",
       "<div class=\"wandb-row\"><div class=\"wandb-col\"><h3>Run history:</h3><br/><table class=\"wandb\"><tr><td>Loss</td><td>▁▂▄█████████████████████████████████████</td></tr><tr><td>train_accuracy</td><td>██▇▂▁▁▁▁▁▁▁▁▁▁▁▁▁▁▁▁▁▁▁▁▁▁▁▁▁▁▁▁▁▁▁▁▁▁▁▁</td></tr><tr><td>val_accuracy</td><td>██▇▁▁▁▁▁▁▁▁▁▁▁▁▁▁▁▁▁▁▁▁▁▁▁▁▁▁▁▁▁▁▁▁▁▁▁▁▁</td></tr></table><br/></div><div class=\"wandb-col\"><h3>Run summary:</h3><br/><table class=\"wandb\"><tr><td>Loss</td><td>0.6932</td></tr><tr><td>train_accuracy</td><td>0.50007</td></tr><tr><td>val_accuracy</td><td>0.50346</td></tr></table><br/></div></div>"
      ],
      "text/plain": [
       "<IPython.core.display.HTML object>"
      ]
     },
     "metadata": {},
     "output_type": "display_data"
    },
    {
     "data": {
      "text/html": [
       "Synced <strong style=\"color:#cdcd00\">cosmic-sweep-2</strong>: <a href=\"https://wandb.ai/kobongsoo/bert-wb-test/runs/ukh3gl0l\" target=\"_blank\">https://wandb.ai/kobongsoo/bert-wb-test/runs/ukh3gl0l</a><br/>Synced 6 W&B file(s), 0 media file(s), 0 artifact file(s) and 0 other file(s)"
      ],
      "text/plain": [
       "<IPython.core.display.HTML object>"
      ]
     },
     "metadata": {},
     "output_type": "display_data"
    },
    {
     "data": {
      "text/html": [
       "Find logs at: <code>./wandb/run-20220414_132239-ukh3gl0l/logs</code>"
      ],
      "text/plain": [
       "<IPython.core.display.HTML object>"
      ]
     },
     "metadata": {},
     "output_type": "display_data"
    },
    {
     "name": "stderr",
     "output_type": "stream",
     "text": [
      "\u001b[34m\u001b[1mwandb\u001b[0m: Agent Starting Run: gow339bx with config:\n",
      "\u001b[34m\u001b[1mwandb\u001b[0m: \tbatch_size: 32\n",
      "\u001b[34m\u001b[1mwandb\u001b[0m: \tepochs: 4\n",
      "\u001b[34m\u001b[1mwandb\u001b[0m: \tlearning_rate: 0.00016089660761818152\n",
      "Failed to detect the name of this notebook, you can set it manually with the WANDB_NOTEBOOK_NAME environment variable to enable code saving.\n"
     ]
    },
    {
     "data": {
      "text/html": [
       "Tracking run with wandb version 0.12.14"
      ],
      "text/plain": [
       "<IPython.core.display.HTML object>"
      ]
     },
     "metadata": {},
     "output_type": "display_data"
    },
    {
     "data": {
      "text/html": [
       "Run data is saved locally in <code>/MOCOMSYS/dev/bong/BERT/W&B/wandb/run-20220414_151227-gow339bx</code>"
      ],
      "text/plain": [
       "<IPython.core.display.HTML object>"
      ]
     },
     "metadata": {},
     "output_type": "display_data"
    },
    {
     "data": {
      "text/html": [
       "Syncing run <strong><a href=\"https://wandb.ai/kobongsoo/bert-wb-test/runs/gow339bx\" target=\"_blank\">iconic-sweep-3</a></strong> to <a href=\"https://wandb.ai/kobongsoo/bert-wb-test\" target=\"_blank\">Weights & Biases</a> (<a href=\"https://wandb.me/run\" target=\"_blank\">docs</a>)<br/>Sweep page:  <a href=\"https://wandb.ai/kobongsoo/bert-wb-test/sweeps/0g05iq6k\" target=\"_blank\">https://wandb.ai/kobongsoo/bert-wb-test/sweeps/0g05iq6k</a>"
      ],
      "text/plain": [
       "<IPython.core.display.HTML object>"
      ]
     },
     "metadata": {},
     "output_type": "display_data"
    },
    {
     "name": "stderr",
     "output_type": "stream",
     "text": [
      "2022-04-14 15:12:42,813 - bwpdataset - INFO - Loading features from cached file ../../korpora/nsmc/cached_BertTokenizer_128_ratings_train.txt [took 9.181 s]\n",
      "2022-04-14 15:12:45,871 - bwpdataset - INFO - Loading features from cached file ../../korpora/nsmc/cached_BertTokenizer_128_ratings_test.txt [took 3.055 s]\n",
      "2022-04-14 15:12:45,876 - bertfttrain - INFO - total_steps: 18752, warnup_steps: 1875, p_itr: 468\n"
     ]
    },
    {
     "data": {
      "application/vnd.jupyter.widget-view+json": {
       "model_id": "c875141cd51f4c7fb74facf36c4db667",
       "version_major": 2,
       "version_minor": 0
      },
      "text/plain": [
       "  0%|          | 0/4 [00:00<?, ?it/s]"
      ]
     },
     "metadata": {},
     "output_type": "display_data"
    },
    {
     "data": {
      "application/vnd.jupyter.widget-view+json": {
       "model_id": "ca1054ae6a854f82bf071dc85b31d60e",
       "version_major": 2,
       "version_minor": 0
      },
      "text/plain": [
       "  0%|          | 0/4688 [00:00<?, ?it/s]"
      ]
     },
     "metadata": {},
     "output_type": "display_data"
    },
    {
     "name": "stderr",
     "output_type": "stream",
     "text": [
      "/tmp/ipykernel_118732/3640600870.py:77: UserWarning: Implicit dimension choice for softmax has been deprecated. Change the call to include dim=X as an argument.\n",
      "  pred = torch.argmax(F.softmax(logits), dim=1)\n",
      "2022-04-14 15:13:53,841 - bertfttrain - INFO - [Epoch 1/4] Iteration 468 -> Train Loss: 0.6948, Train Accuracy: 0.502\n"
     ]
    },
    {
     "data": {
      "application/vnd.jupyter.widget-view+json": {
       "model_id": "d8f5ba5b4be5433ab7c92744c17e5446",
       "version_major": 2,
       "version_minor": 0
      },
      "text/plain": [
       "  0%|          | 0/1563 [00:00<?, ?it/s]"
      ]
     },
     "metadata": {},
     "output_type": "display_data"
    },
    {
     "name": "stderr",
     "output_type": "stream",
     "text": [
      "/tmp/ipykernel_118732/3640600870.py:131: UserWarning: Implicit dimension choice for softmax has been deprecated. Change the call to include dim=X as an argument.\n",
      "  pred = torch.argmax(F.softmax(logits), dim=1)\n",
      "2022-04-14 15:14:48,124 - bertfttrain - INFO - [Epoch 1/4] Validatation Accuracy:0.50346\n",
      "2022-04-14 15:15:54,775 - bertfttrain - INFO - [Epoch 1/4] Iteration 936 -> Train Loss: 0.6935, Train Accuracy: 0.505\n"
     ]
    },
    {
     "data": {
      "application/vnd.jupyter.widget-view+json": {
       "model_id": "f0ed2b0f03e74820831e11a8b3fc67c3",
       "version_major": 2,
       "version_minor": 0
      },
      "text/plain": [
       "  0%|          | 0/1563 [00:00<?, ?it/s]"
      ]
     },
     "metadata": {},
     "output_type": "display_data"
    },
    {
     "name": "stderr",
     "output_type": "stream",
     "text": [
      "2022-04-14 15:16:49,388 - bertfttrain - INFO - [Epoch 1/4] Validatation Accuracy:0.50346\n",
      "2022-04-14 15:17:58,320 - bertfttrain - INFO - [Epoch 1/4] Iteration 1404 -> Train Loss: 0.6944, Train Accuracy: 0.497\n"
     ]
    },
    {
     "data": {
      "application/vnd.jupyter.widget-view+json": {
       "model_id": "008e0208f5944439bb50e3c9caa6cae2",
       "version_major": 2,
       "version_minor": 0
      },
      "text/plain": [
       "  0%|          | 0/1563 [00:00<?, ?it/s]"
      ]
     },
     "metadata": {},
     "output_type": "display_data"
    },
    {
     "name": "stderr",
     "output_type": "stream",
     "text": [
      "2022-04-14 15:18:52,841 - bertfttrain - INFO - [Epoch 1/4] Validatation Accuracy:0.49654\n",
      "2022-04-14 15:20:00,518 - bertfttrain - INFO - [Epoch 1/4] Iteration 1872 -> Train Loss: 0.6943, Train Accuracy: 0.502\n"
     ]
    },
    {
     "data": {
      "application/vnd.jupyter.widget-view+json": {
       "model_id": "23c3920331ea407ca5ad2b3d573f6674",
       "version_major": 2,
       "version_minor": 0
      },
      "text/plain": [
       "  0%|          | 0/1563 [00:00<?, ?it/s]"
      ]
     },
     "metadata": {},
     "output_type": "display_data"
    },
    {
     "name": "stderr",
     "output_type": "stream",
     "text": [
      "2022-04-14 15:20:55,567 - bertfttrain - INFO - [Epoch 1/4] Validatation Accuracy:0.49654\n",
      "2022-04-14 15:22:01,113 - bertfttrain - INFO - [Epoch 1/4] Iteration 2340 -> Train Loss: 0.6943, Train Accuracy: 0.507\n"
     ]
    },
    {
     "data": {
      "application/vnd.jupyter.widget-view+json": {
       "model_id": "ed1cff5e6e5140b88390be61481011bb",
       "version_major": 2,
       "version_minor": 0
      },
      "text/plain": [
       "  0%|          | 0/1563 [00:00<?, ?it/s]"
      ]
     },
     "metadata": {},
     "output_type": "display_data"
    },
    {
     "name": "stderr",
     "output_type": "stream",
     "text": [
      "2022-04-14 15:22:55,798 - bertfttrain - INFO - [Epoch 1/4] Validatation Accuracy:0.50346\n",
      "2022-04-14 15:24:01,718 - bertfttrain - INFO - [Epoch 1/4] Iteration 2808 -> Train Loss: 0.6944, Train Accuracy: 0.501\n"
     ]
    },
    {
     "data": {
      "application/vnd.jupyter.widget-view+json": {
       "model_id": "f9dc2172c2804980a82f4592b8d74ced",
       "version_major": 2,
       "version_minor": 0
      },
      "text/plain": [
       "  0%|          | 0/1563 [00:00<?, ?it/s]"
      ]
     },
     "metadata": {},
     "output_type": "display_data"
    },
    {
     "name": "stderr",
     "output_type": "stream",
     "text": [
      "2022-04-14 15:24:56,516 - bertfttrain - INFO - [Epoch 1/4] Validatation Accuracy:0.49654\n",
      "2022-04-14 15:26:01,907 - bertfttrain - INFO - [Epoch 1/4] Iteration 3276 -> Train Loss: 0.6942, Train Accuracy: 0.508\n"
     ]
    },
    {
     "data": {
      "application/vnd.jupyter.widget-view+json": {
       "model_id": "074de5e214a0439d8005cba24a6d1d2d",
       "version_major": 2,
       "version_minor": 0
      },
      "text/plain": [
       "  0%|          | 0/1563 [00:00<?, ?it/s]"
      ]
     },
     "metadata": {},
     "output_type": "display_data"
    },
    {
     "name": "stderr",
     "output_type": "stream",
     "text": [
      "2022-04-14 15:26:56,598 - bertfttrain - INFO - [Epoch 1/4] Validatation Accuracy:0.49654\n",
      "2022-04-14 15:28:02,696 - bertfttrain - INFO - [Epoch 1/4] Iteration 3744 -> Train Loss: 0.6946, Train Accuracy: 0.502\n"
     ]
    },
    {
     "data": {
      "application/vnd.jupyter.widget-view+json": {
       "model_id": "2ddec14fac7b4bcdbf8599cb40e46959",
       "version_major": 2,
       "version_minor": 0
      },
      "text/plain": [
       "  0%|          | 0/1563 [00:00<?, ?it/s]"
      ]
     },
     "metadata": {},
     "output_type": "display_data"
    },
    {
     "name": "stderr",
     "output_type": "stream",
     "text": [
      "2022-04-14 15:28:57,450 - bertfttrain - INFO - [Epoch 1/4] Validatation Accuracy:0.49654\n",
      "2022-04-14 15:30:03,641 - bertfttrain - INFO - [Epoch 1/4] Iteration 4212 -> Train Loss: 0.6951, Train Accuracy: 0.500\n"
     ]
    },
    {
     "data": {
      "application/vnd.jupyter.widget-view+json": {
       "model_id": "f99681c10caa4ef9b97b3af344a1ac02",
       "version_major": 2,
       "version_minor": 0
      },
      "text/plain": [
       "  0%|          | 0/1563 [00:00<?, ?it/s]"
      ]
     },
     "metadata": {},
     "output_type": "display_data"
    },
    {
     "name": "stderr",
     "output_type": "stream",
     "text": [
      "2022-04-14 15:30:58,158 - bertfttrain - INFO - [Epoch 1/4] Validatation Accuracy:0.50346\n",
      "2022-04-14 15:32:04,215 - bertfttrain - INFO - [Epoch 1/4] Iteration 4680 -> Train Loss: 0.6941, Train Accuracy: 0.498\n"
     ]
    },
    {
     "data": {
      "application/vnd.jupyter.widget-view+json": {
       "model_id": "81545fa9f94f412a9789586e7f9b3a91",
       "version_major": 2,
       "version_minor": 0
      },
      "text/plain": [
       "  0%|          | 0/1563 [00:00<?, ?it/s]"
      ]
     },
     "metadata": {},
     "output_type": "display_data"
    },
    {
     "name": "stderr",
     "output_type": "stream",
     "text": [
      "2022-04-14 15:32:58,790 - bertfttrain - INFO - [Epoch 1/4] Validatation Accuracy:0.49654\n"
     ]
    },
    {
     "data": {
      "application/vnd.jupyter.widget-view+json": {
       "model_id": "c48bf8a5ebb54db18108c43f0a5b4771",
       "version_major": 2,
       "version_minor": 0
      },
      "text/plain": [
       "  0%|          | 0/4688 [00:00<?, ?it/s]"
      ]
     },
     "metadata": {},
     "output_type": "display_data"
    },
    {
     "name": "stderr",
     "output_type": "stream",
     "text": [
      "2022-04-14 15:34:07,877 - bertfttrain - INFO - [Epoch 2/4] Iteration 5148 -> Train Loss: 0.6953, Train Accuracy: 0.504\n"
     ]
    },
    {
     "data": {
      "application/vnd.jupyter.widget-view+json": {
       "model_id": "823dc0c2a9384c7cb31167936a08a7ef",
       "version_major": 2,
       "version_minor": 0
      },
      "text/plain": [
       "  0%|          | 0/1563 [00:00<?, ?it/s]"
      ]
     },
     "metadata": {},
     "output_type": "display_data"
    },
    {
     "name": "stderr",
     "output_type": "stream",
     "text": [
      "2022-04-14 15:35:02,341 - bertfttrain - INFO - [Epoch 2/4] Validatation Accuracy:0.50346\n",
      "2022-04-14 15:36:08,481 - bertfttrain - INFO - [Epoch 2/4] Iteration 5616 -> Train Loss: 0.6943, Train Accuracy: 0.500\n"
     ]
    },
    {
     "data": {
      "application/vnd.jupyter.widget-view+json": {
       "model_id": "4b17cb3cbe7f42bd9c0431ef5ec9ffad",
       "version_major": 2,
       "version_minor": 0
      },
      "text/plain": [
       "  0%|          | 0/1563 [00:00<?, ?it/s]"
      ]
     },
     "metadata": {},
     "output_type": "display_data"
    },
    {
     "name": "stderr",
     "output_type": "stream",
     "text": [
      "2022-04-14 15:37:03,077 - bertfttrain - INFO - [Epoch 2/4] Validatation Accuracy:0.49654\n",
      "2022-04-14 15:38:15,898 - bertfttrain - INFO - [Epoch 2/4] Iteration 6084 -> Train Loss: 0.6945, Train Accuracy: 0.498\n"
     ]
    },
    {
     "data": {
      "application/vnd.jupyter.widget-view+json": {
       "model_id": "63a16a0c3a06488791ff7d748d59791d",
       "version_major": 2,
       "version_minor": 0
      },
      "text/plain": [
       "  0%|          | 0/1563 [00:00<?, ?it/s]"
      ]
     },
     "metadata": {},
     "output_type": "display_data"
    },
    {
     "name": "stderr",
     "output_type": "stream",
     "text": [
      "2022-04-14 15:39:10,600 - bertfttrain - INFO - [Epoch 2/4] Validatation Accuracy:0.50346\n",
      "2022-04-14 15:40:21,162 - bertfttrain - INFO - [Epoch 2/4] Iteration 6552 -> Train Loss: 0.6941, Train Accuracy: 0.496\n"
     ]
    },
    {
     "data": {
      "application/vnd.jupyter.widget-view+json": {
       "model_id": "e283be46ce0c4560b0d0d554102076ae",
       "version_major": 2,
       "version_minor": 0
      },
      "text/plain": [
       "  0%|          | 0/1563 [00:00<?, ?it/s]"
      ]
     },
     "metadata": {},
     "output_type": "display_data"
    },
    {
     "name": "stderr",
     "output_type": "stream",
     "text": [
      "2022-04-14 15:41:15,514 - bertfttrain - INFO - [Epoch 2/4] Validatation Accuracy:0.49654\n",
      "2022-04-14 15:42:21,419 - bertfttrain - INFO - [Epoch 2/4] Iteration 7020 -> Train Loss: 0.6941, Train Accuracy: 0.499\n"
     ]
    },
    {
     "data": {
      "application/vnd.jupyter.widget-view+json": {
       "model_id": "44557a8832c0475682c36f65a0a55810",
       "version_major": 2,
       "version_minor": 0
      },
      "text/plain": [
       "  0%|          | 0/1563 [00:00<?, ?it/s]"
      ]
     },
     "metadata": {},
     "output_type": "display_data"
    },
    {
     "name": "stderr",
     "output_type": "stream",
     "text": [
      "2022-04-14 15:43:15,973 - bertfttrain - INFO - [Epoch 2/4] Validatation Accuracy:0.50346\n",
      "2022-04-14 15:44:21,975 - bertfttrain - INFO - [Epoch 2/4] Iteration 7488 -> Train Loss: 0.6940, Train Accuracy: 0.503\n"
     ]
    },
    {
     "data": {
      "application/vnd.jupyter.widget-view+json": {
       "model_id": "16f3409ccdb6466583b02d76abc334e2",
       "version_major": 2,
       "version_minor": 0
      },
      "text/plain": [
       "  0%|          | 0/1563 [00:00<?, ?it/s]"
      ]
     },
     "metadata": {},
     "output_type": "display_data"
    },
    {
     "name": "stderr",
     "output_type": "stream",
     "text": [
      "2022-04-14 15:45:16,489 - bertfttrain - INFO - [Epoch 2/4] Validatation Accuracy:0.50346\n",
      "2022-04-14 15:46:21,952 - bertfttrain - INFO - [Epoch 2/4] Iteration 7956 -> Train Loss: 0.6935, Train Accuracy: 0.503\n"
     ]
    },
    {
     "data": {
      "application/vnd.jupyter.widget-view+json": {
       "model_id": "90c83a8958184ab3b1a6e8d13f7d36f0",
       "version_major": 2,
       "version_minor": 0
      },
      "text/plain": [
       "  0%|          | 0/1563 [00:00<?, ?it/s]"
      ]
     },
     "metadata": {},
     "output_type": "display_data"
    },
    {
     "name": "stderr",
     "output_type": "stream",
     "text": [
      "2022-04-14 15:47:16,516 - bertfttrain - INFO - [Epoch 2/4] Validatation Accuracy:0.50346\n",
      "2022-04-14 15:48:23,527 - bertfttrain - INFO - [Epoch 2/4] Iteration 8424 -> Train Loss: 0.6941, Train Accuracy: 0.501\n"
     ]
    },
    {
     "data": {
      "application/vnd.jupyter.widget-view+json": {
       "model_id": "0dda637f3cf9454aaeafeb1384b66b2a",
       "version_major": 2,
       "version_minor": 0
      },
      "text/plain": [
       "  0%|          | 0/1563 [00:00<?, ?it/s]"
      ]
     },
     "metadata": {},
     "output_type": "display_data"
    },
    {
     "name": "stderr",
     "output_type": "stream",
     "text": [
      "2022-04-14 15:49:18,374 - bertfttrain - INFO - [Epoch 2/4] Validatation Accuracy:0.49654\n",
      "2022-04-14 15:50:31,293 - bertfttrain - INFO - [Epoch 2/4] Iteration 8892 -> Train Loss: 0.6938, Train Accuracy: 0.492\n"
     ]
    },
    {
     "data": {
      "application/vnd.jupyter.widget-view+json": {
       "model_id": "7abe6f66b77241eba976d129948d58fe",
       "version_major": 2,
       "version_minor": 0
      },
      "text/plain": [
       "  0%|          | 0/1563 [00:00<?, ?it/s]"
      ]
     },
     "metadata": {},
     "output_type": "display_data"
    },
    {
     "name": "stderr",
     "output_type": "stream",
     "text": [
      "2022-04-14 15:51:25,765 - bertfttrain - INFO - [Epoch 2/4] Validatation Accuracy:0.50346\n",
      "2022-04-14 15:52:33,889 - bertfttrain - INFO - [Epoch 2/4] Iteration 9360 -> Train Loss: 0.6943, Train Accuracy: 0.500\n"
     ]
    },
    {
     "data": {
      "application/vnd.jupyter.widget-view+json": {
       "model_id": "2db5216677ee48eeaa605ccb83558e0a",
       "version_major": 2,
       "version_minor": 0
      },
      "text/plain": [
       "  0%|          | 0/1563 [00:00<?, ?it/s]"
      ]
     },
     "metadata": {},
     "output_type": "display_data"
    },
    {
     "name": "stderr",
     "output_type": "stream",
     "text": [
      "2022-04-14 15:53:28,589 - bertfttrain - INFO - [Epoch 2/4] Validatation Accuracy:0.49654\n"
     ]
    },
    {
     "data": {
      "application/vnd.jupyter.widget-view+json": {
       "model_id": "772e31e4e40548f1bd3ac754fee489b3",
       "version_major": 2,
       "version_minor": 0
      },
      "text/plain": [
       "  0%|          | 0/4688 [00:00<?, ?it/s]"
      ]
     },
     "metadata": {},
     "output_type": "display_data"
    },
    {
     "name": "stderr",
     "output_type": "stream",
     "text": [
      "2022-04-14 15:54:36,581 - bertfttrain - INFO - [Epoch 3/4] Iteration 9828 -> Train Loss: 0.6954, Train Accuracy: 0.500\n"
     ]
    },
    {
     "data": {
      "application/vnd.jupyter.widget-view+json": {
       "model_id": "eefa7353f2b0472cb1a0c59da2bc758c",
       "version_major": 2,
       "version_minor": 0
      },
      "text/plain": [
       "  0%|          | 0/1563 [00:00<?, ?it/s]"
      ]
     },
     "metadata": {},
     "output_type": "display_data"
    },
    {
     "name": "stderr",
     "output_type": "stream",
     "text": [
      "2022-04-14 15:55:34,147 - bertfttrain - INFO - [Epoch 3/4] Validatation Accuracy:0.49654\n",
      "2022-04-14 15:56:39,719 - bertfttrain - INFO - [Epoch 3/4] Iteration 10296 -> Train Loss: 0.6938, Train Accuracy: 0.501\n"
     ]
    },
    {
     "data": {
      "application/vnd.jupyter.widget-view+json": {
       "model_id": "13fdf39c336f401198737051430b7012",
       "version_major": 2,
       "version_minor": 0
      },
      "text/plain": [
       "  0%|          | 0/1563 [00:00<?, ?it/s]"
      ]
     },
     "metadata": {},
     "output_type": "display_data"
    },
    {
     "name": "stderr",
     "output_type": "stream",
     "text": [
      "2022-04-14 15:57:34,251 - bertfttrain - INFO - [Epoch 3/4] Validatation Accuracy:0.50346\n",
      "2022-04-14 15:58:39,742 - bertfttrain - INFO - [Epoch 3/4] Iteration 10764 -> Train Loss: 0.6935, Train Accuracy: 0.505\n"
     ]
    },
    {
     "data": {
      "application/vnd.jupyter.widget-view+json": {
       "model_id": "1c6f4606009846a7bdd9a3a63ba4174d",
       "version_major": 2,
       "version_minor": 0
      },
      "text/plain": [
       "  0%|          | 0/1563 [00:00<?, ?it/s]"
      ]
     },
     "metadata": {},
     "output_type": "display_data"
    },
    {
     "name": "stderr",
     "output_type": "stream",
     "text": [
      "2022-04-14 15:59:34,400 - bertfttrain - INFO - [Epoch 3/4] Validatation Accuracy:0.49654\n",
      "2022-04-14 16:00:40,108 - bertfttrain - INFO - [Epoch 3/4] Iteration 11232 -> Train Loss: 0.6935, Train Accuracy: 0.499\n"
     ]
    },
    {
     "data": {
      "application/vnd.jupyter.widget-view+json": {
       "model_id": "04fee1178668485ea638a2172c453d45",
       "version_major": 2,
       "version_minor": 0
      },
      "text/plain": [
       "  0%|          | 0/1563 [00:00<?, ?it/s]"
      ]
     },
     "metadata": {},
     "output_type": "display_data"
    },
    {
     "name": "stderr",
     "output_type": "stream",
     "text": [
      "2022-04-14 16:01:34,620 - bertfttrain - INFO - [Epoch 3/4] Validatation Accuracy:0.50346\n",
      "2022-04-14 16:02:42,712 - bertfttrain - INFO - [Epoch 3/4] Iteration 11700 -> Train Loss: 0.6935, Train Accuracy: 0.495\n"
     ]
    },
    {
     "data": {
      "application/vnd.jupyter.widget-view+json": {
       "model_id": "e1b474096a5245e5881fb2e3bc2c7bf4",
       "version_major": 2,
       "version_minor": 0
      },
      "text/plain": [
       "  0%|          | 0/1563 [00:00<?, ?it/s]"
      ]
     },
     "metadata": {},
     "output_type": "display_data"
    },
    {
     "name": "stderr",
     "output_type": "stream",
     "text": [
      "2022-04-14 16:03:37,256 - bertfttrain - INFO - [Epoch 3/4] Validatation Accuracy:0.50346\n",
      "2022-04-14 16:04:43,095 - bertfttrain - INFO - [Epoch 3/4] Iteration 12168 -> Train Loss: 0.6933, Train Accuracy: 0.503\n"
     ]
    },
    {
     "data": {
      "application/vnd.jupyter.widget-view+json": {
       "model_id": "fc3b1e9b58e746128f516106b29a016c",
       "version_major": 2,
       "version_minor": 0
      },
      "text/plain": [
       "  0%|          | 0/1563 [00:00<?, ?it/s]"
      ]
     },
     "metadata": {},
     "output_type": "display_data"
    },
    {
     "name": "stderr",
     "output_type": "stream",
     "text": [
      "2022-04-14 16:05:37,836 - bertfttrain - INFO - [Epoch 3/4] Validatation Accuracy:0.49654\n",
      "2022-04-14 16:06:44,064 - bertfttrain - INFO - [Epoch 3/4] Iteration 12636 -> Train Loss: 0.6934, Train Accuracy: 0.492\n"
     ]
    },
    {
     "data": {
      "application/vnd.jupyter.widget-view+json": {
       "model_id": "975bfcc48a4a4143be4d7456aba60547",
       "version_major": 2,
       "version_minor": 0
      },
      "text/plain": [
       "  0%|          | 0/1563 [00:00<?, ?it/s]"
      ]
     },
     "metadata": {},
     "output_type": "display_data"
    },
    {
     "name": "stderr",
     "output_type": "stream",
     "text": [
      "2022-04-14 16:07:38,933 - bertfttrain - INFO - [Epoch 3/4] Validatation Accuracy:0.50346\n",
      "2022-04-14 16:08:44,997 - bertfttrain - INFO - [Epoch 3/4] Iteration 13104 -> Train Loss: 0.6933, Train Accuracy: 0.504\n"
     ]
    },
    {
     "data": {
      "application/vnd.jupyter.widget-view+json": {
       "model_id": "3be1f8d9a4de4800a8825a9e9af3b7d9",
       "version_major": 2,
       "version_minor": 0
      },
      "text/plain": [
       "  0%|          | 0/1563 [00:00<?, ?it/s]"
      ]
     },
     "metadata": {},
     "output_type": "display_data"
    },
    {
     "name": "stderr",
     "output_type": "stream",
     "text": [
      "2022-04-14 16:09:39,823 - bertfttrain - INFO - [Epoch 3/4] Validatation Accuracy:0.50346\n",
      "2022-04-14 16:10:45,500 - bertfttrain - INFO - [Epoch 3/4] Iteration 13572 -> Train Loss: 0.6932, Train Accuracy: 0.501\n"
     ]
    },
    {
     "data": {
      "application/vnd.jupyter.widget-view+json": {
       "model_id": "1700542eced046a4b1c0f11748329fcf",
       "version_major": 2,
       "version_minor": 0
      },
      "text/plain": [
       "  0%|          | 0/1563 [00:00<?, ?it/s]"
      ]
     },
     "metadata": {},
     "output_type": "display_data"
    },
    {
     "name": "stderr",
     "output_type": "stream",
     "text": [
      "2022-04-14 16:11:40,227 - bertfttrain - INFO - [Epoch 3/4] Validatation Accuracy:0.49654\n",
      "2022-04-14 16:12:46,081 - bertfttrain - INFO - [Epoch 3/4] Iteration 14040 -> Train Loss: 0.6932, Train Accuracy: 0.501\n"
     ]
    },
    {
     "data": {
      "application/vnd.jupyter.widget-view+json": {
       "model_id": "60ece612022b4e058441eb5dee74be1e",
       "version_major": 2,
       "version_minor": 0
      },
      "text/plain": [
       "  0%|          | 0/1563 [00:00<?, ?it/s]"
      ]
     },
     "metadata": {},
     "output_type": "display_data"
    },
    {
     "name": "stderr",
     "output_type": "stream",
     "text": [
      "2022-04-14 16:13:40,864 - bertfttrain - INFO - [Epoch 3/4] Validatation Accuracy:0.49654\n"
     ]
    },
    {
     "data": {
      "application/vnd.jupyter.widget-view+json": {
       "model_id": "957a3f693ce44e77ae0c4c33e3a5dbdf",
       "version_major": 2,
       "version_minor": 0
      },
      "text/plain": [
       "  0%|          | 0/4688 [00:00<?, ?it/s]"
      ]
     },
     "metadata": {},
     "output_type": "display_data"
    },
    {
     "name": "stderr",
     "output_type": "stream",
     "text": [
      "2022-04-14 16:14:48,601 - bertfttrain - INFO - [Epoch 4/4] Iteration 14508 -> Train Loss: 0.6935, Train Accuracy: 0.503\n"
     ]
    },
    {
     "data": {
      "application/vnd.jupyter.widget-view+json": {
       "model_id": "ad60a277ca744ea98597d4857f4ecde5",
       "version_major": 2,
       "version_minor": 0
      },
      "text/plain": [
       "  0%|          | 0/1563 [00:00<?, ?it/s]"
      ]
     },
     "metadata": {},
     "output_type": "display_data"
    },
    {
     "name": "stderr",
     "output_type": "stream",
     "text": [
      "2022-04-14 16:15:43,330 - bertfttrain - INFO - [Epoch 4/4] Validatation Accuracy:0.49654\n",
      "2022-04-14 16:16:48,868 - bertfttrain - INFO - [Epoch 4/4] Iteration 14976 -> Train Loss: 0.6932, Train Accuracy: 0.509\n"
     ]
    },
    {
     "data": {
      "application/vnd.jupyter.widget-view+json": {
       "model_id": "fe874ddf48144e82b0504ff2d50389bb",
       "version_major": 2,
       "version_minor": 0
      },
      "text/plain": [
       "  0%|          | 0/1563 [00:00<?, ?it/s]"
      ]
     },
     "metadata": {},
     "output_type": "display_data"
    },
    {
     "name": "stderr",
     "output_type": "stream",
     "text": [
      "2022-04-14 16:17:43,334 - bertfttrain - INFO - [Epoch 4/4] Validatation Accuracy:0.50346\n",
      "2022-04-14 16:18:49,327 - bertfttrain - INFO - [Epoch 4/4] Iteration 15444 -> Train Loss: 0.6933, Train Accuracy: 0.502\n"
     ]
    },
    {
     "data": {
      "application/vnd.jupyter.widget-view+json": {
       "model_id": "162a41fcfd5c41d8aa56733d2b7d7fbe",
       "version_major": 2,
       "version_minor": 0
      },
      "text/plain": [
       "  0%|          | 0/1563 [00:00<?, ?it/s]"
      ]
     },
     "metadata": {},
     "output_type": "display_data"
    },
    {
     "name": "stderr",
     "output_type": "stream",
     "text": [
      "2022-04-14 16:19:43,901 - bertfttrain - INFO - [Epoch 4/4] Validatation Accuracy:0.50346\n",
      "2022-04-14 16:20:49,528 - bertfttrain - INFO - [Epoch 4/4] Iteration 15912 -> Train Loss: 0.6932, Train Accuracy: 0.499\n"
     ]
    },
    {
     "data": {
      "application/vnd.jupyter.widget-view+json": {
       "model_id": "60ea4ae967964ddd9fff5238de8d3daf",
       "version_major": 2,
       "version_minor": 0
      },
      "text/plain": [
       "  0%|          | 0/1563 [00:00<?, ?it/s]"
      ]
     },
     "metadata": {},
     "output_type": "display_data"
    },
    {
     "name": "stderr",
     "output_type": "stream",
     "text": [
      "2022-04-14 16:21:44,047 - bertfttrain - INFO - [Epoch 4/4] Validatation Accuracy:0.49654\n",
      "2022-04-14 16:22:49,721 - bertfttrain - INFO - [Epoch 4/4] Iteration 16380 -> Train Loss: 0.6932, Train Accuracy: 0.498\n"
     ]
    },
    {
     "data": {
      "application/vnd.jupyter.widget-view+json": {
       "model_id": "66999026cf3949bb931976f02e2a31b1",
       "version_major": 2,
       "version_minor": 0
      },
      "text/plain": [
       "  0%|          | 0/1563 [00:00<?, ?it/s]"
      ]
     },
     "metadata": {},
     "output_type": "display_data"
    },
    {
     "name": "stderr",
     "output_type": "stream",
     "text": [
      "2022-04-14 16:23:47,281 - bertfttrain - INFO - [Epoch 4/4] Validatation Accuracy:0.49654\n",
      "2022-04-14 16:24:52,418 - bertfttrain - INFO - [Epoch 4/4] Iteration 16848 -> Train Loss: 0.6932, Train Accuracy: 0.505\n"
     ]
    },
    {
     "data": {
      "application/vnd.jupyter.widget-view+json": {
       "model_id": "089d4b47d8ad44dab1a0edbc8d31c8bd",
       "version_major": 2,
       "version_minor": 0
      },
      "text/plain": [
       "  0%|          | 0/1563 [00:00<?, ?it/s]"
      ]
     },
     "metadata": {},
     "output_type": "display_data"
    },
    {
     "name": "stderr",
     "output_type": "stream",
     "text": [
      "2022-04-14 16:25:46,893 - bertfttrain - INFO - [Epoch 4/4] Validatation Accuracy:0.49654\n",
      "2022-04-14 16:26:52,318 - bertfttrain - INFO - [Epoch 4/4] Iteration 17316 -> Train Loss: 0.6931, Train Accuracy: 0.505\n"
     ]
    },
    {
     "data": {
      "application/vnd.jupyter.widget-view+json": {
       "model_id": "1b7d436f740a452e9a324ba75d98fa99",
       "version_major": 2,
       "version_minor": 0
      },
      "text/plain": [
       "  0%|          | 0/1563 [00:00<?, ?it/s]"
      ]
     },
     "metadata": {},
     "output_type": "display_data"
    },
    {
     "name": "stderr",
     "output_type": "stream",
     "text": [
      "2022-04-14 16:27:49,862 - bertfttrain - INFO - [Epoch 4/4] Validatation Accuracy:0.49654\n",
      "2022-04-14 16:28:56,595 - bertfttrain - INFO - [Epoch 4/4] Iteration 17784 -> Train Loss: 0.6931, Train Accuracy: 0.507\n"
     ]
    },
    {
     "data": {
      "application/vnd.jupyter.widget-view+json": {
       "model_id": "fa1d8b3d408a42e5b797012343a4908f",
       "version_major": 2,
       "version_minor": 0
      },
      "text/plain": [
       "  0%|          | 0/1563 [00:00<?, ?it/s]"
      ]
     },
     "metadata": {},
     "output_type": "display_data"
    },
    {
     "name": "stderr",
     "output_type": "stream",
     "text": [
      "2022-04-14 16:29:54,239 - bertfttrain - INFO - [Epoch 4/4] Validatation Accuracy:0.49654\n",
      "2022-04-14 16:30:59,886 - bertfttrain - INFO - [Epoch 4/4] Iteration 18252 -> Train Loss: 0.6933, Train Accuracy: 0.495\n"
     ]
    },
    {
     "data": {
      "application/vnd.jupyter.widget-view+json": {
       "model_id": "6aec4189acc242c2b6096be0ab5028cf",
       "version_major": 2,
       "version_minor": 0
      },
      "text/plain": [
       "  0%|          | 0/1563 [00:00<?, ?it/s]"
      ]
     },
     "metadata": {},
     "output_type": "display_data"
    },
    {
     "name": "stderr",
     "output_type": "stream",
     "text": [
      "2022-04-14 16:31:54,377 - bertfttrain - INFO - [Epoch 4/4] Validatation Accuracy:0.49654\n",
      "2022-04-14 16:33:04,896 - bertfttrain - INFO - [Epoch 4/4] Iteration 18720 -> Train Loss: 0.6932, Train Accuracy: 0.499\n"
     ]
    },
    {
     "data": {
      "application/vnd.jupyter.widget-view+json": {
       "model_id": "1d248f0894fb40c68003dc2522a6a60e",
       "version_major": 2,
       "version_minor": 0
      },
      "text/plain": [
       "  0%|          | 0/1563 [00:00<?, ?it/s]"
      ]
     },
     "metadata": {},
     "output_type": "display_data"
    },
    {
     "name": "stderr",
     "output_type": "stream",
     "text": [
      "2022-04-14 16:33:59,495 - bertfttrain - INFO - [Epoch 4/4] Validatation Accuracy:0.50346\n"
     ]
    },
    {
     "name": "stdout",
     "output_type": "stream",
     "text": [
      "\n"
     ]
    },
    {
     "data": {
      "text/html": [
       "Waiting for W&B process to finish... <strong style=\"color:green\">(success).</strong>"
      ],
      "text/plain": [
       "<IPython.core.display.HTML object>"
      ]
     },
     "metadata": {},
     "output_type": "display_data"
    },
    {
     "data": {
      "application/vnd.jupyter.widget-view+json": {
       "model_id": "",
       "version_major": 2,
       "version_minor": 0
      },
      "text/plain": [
       "VBox(children=(Label(value='0.001 MB of 0.001 MB uploaded (0.000 MB deduped)\\r'), FloatProgress(value=1.0, max…"
      ]
     },
     "metadata": {},
     "output_type": "display_data"
    },
    {
     "data": {
      "text/html": [
       "<style>\n",
       "    table.wandb td:nth-child(1) { padding: 0 10px; text-align: right }\n",
       "    .wandb-row { display: flex; flex-direction: row; flex-wrap: wrap; width: 100% }\n",
       "    .wandb-col { display: flex; flex-direction: column; flex-basis: 100%; flex: 1; padding: 10px; }\n",
       "    </style>\n",
       "<div class=\"wandb-row\"><div class=\"wandb-col\"><h3>Run history:</h3><br/><table class=\"wandb\"><tr><td>Loss</td><td>▆▂▅▅▅▅▄▆▇▄█▅▅▄▄▄▂▄▃▅█▃▂▂▂▂▂▂▁▁▂▁▂▁▁▁▁▁▂▁</td></tr><tr><td>train_accuracy</td><td>▅▆▃▅▇▅█▅▄▄▆▄▄▃▄▅▆▅▁▄▄▅▆▄▂▆▁▆▅▅▆█▅▄▄▆▆▇▂▄</td></tr><tr><td>val_accuracy</td><td>██▁▁█▁▁▁█▁█▁█▁███▁█▁▁█▁██▁██▁▁▁██▁▁▁▁▁▁█</td></tr></table><br/></div><div class=\"wandb-col\"><h3>Run summary:</h3><br/><table class=\"wandb\"><tr><td>Loss</td><td>0.69316</td></tr><tr><td>train_accuracy</td><td>0.49907</td></tr><tr><td>val_accuracy</td><td>0.50346</td></tr></table><br/></div></div>"
      ],
      "text/plain": [
       "<IPython.core.display.HTML object>"
      ]
     },
     "metadata": {},
     "output_type": "display_data"
    },
    {
     "data": {
      "text/html": [
       "Synced <strong style=\"color:#cdcd00\">iconic-sweep-3</strong>: <a href=\"https://wandb.ai/kobongsoo/bert-wb-test/runs/gow339bx\" target=\"_blank\">https://wandb.ai/kobongsoo/bert-wb-test/runs/gow339bx</a><br/>Synced 6 W&B file(s), 0 media file(s), 0 artifact file(s) and 0 other file(s)"
      ],
      "text/plain": [
       "<IPython.core.display.HTML object>"
      ]
     },
     "metadata": {},
     "output_type": "display_data"
    },
    {
     "data": {
      "text/html": [
       "Find logs at: <code>./wandb/run-20220414_151227-gow339bx/logs</code>"
      ],
      "text/plain": [
       "<IPython.core.display.HTML object>"
      ]
     },
     "metadata": {},
     "output_type": "display_data"
    }
   ],
   "source": [
    "# 훈련을 시작 (총 3번(epoch이 아님))\n",
    "wandb.agent(sweep_id, train, count=3)"
   ]
  },
  {
   "cell_type": "code",
   "execution_count": 11,
   "id": "bdbe8b51-19eb-4562-a5be-317702cfcb73",
   "metadata": {},
   "outputs": [],
   "source": [
    "# wnandb 종료\n",
    "wandb.finish()"
   ]
  },
  {
   "cell_type": "code",
   "execution_count": null,
   "id": "e0b0f930-7f94-4acb-ab54-9e57985f513d",
   "metadata": {},
   "outputs": [],
   "source": [
    "# 그래프로 loss 표기\n",
    "#!pip install matplotlib\n",
    "import matplotlib.pyplot as plt\n",
    "\n",
    "plt.plot(list_training_loss, label='Train Loss')\n",
    "plt.plot(list_acc_loss, label='Train Accuracy')\n",
    "plt.legend()\n",
    "plt.show()"
   ]
  },
  {
   "cell_type": "code",
   "execution_count": null,
   "id": "3e39d088-5f2a-48c3-99fc-d9648ae5e336",
   "metadata": {},
   "outputs": [],
   "source": [
    "# train loss와 Validatiaon acc 출력\n",
    "plt.plot(list_training_loss, label='Train Loss')\n",
    "plt.plot(list_validation_acc_loss, label='Validatiaon Accuracy')\n",
    "plt.legend()\n",
    "plt.show()"
   ]
  },
  {
   "cell_type": "code",
   "execution_count": null,
   "id": "66e0678a-51be-4335-8435-b5e75dc97b65",
   "metadata": {},
   "outputs": [],
   "source": [
    "### 전체모델 저장\n",
    "os.makedirs(OUTPATH)\n",
    "#torch.save(model, OUTPATH + 'pytorch_model.bin') \n",
    "model.save_pretrained(OUTPATH)  # save_pretrained 로 저장하면 config.json, pytorch_model.bin 2개의 파일이 생성됨\n",
    "\n",
    "# tokeinizer 파일 저장(vocab)\n",
    "VOCAB_PATH = OUTPATH + 'vocab'\n",
    "os.makedirs(VOCAB_PATH)\n",
    "tokenizer.save_pretrained(VOCAB_PATH)"
   ]
  },
  {
   "cell_type": "code",
   "execution_count": null,
   "id": "8fac7a89-f56e-42ea-a56d-2931254df36e",
   "metadata": {},
   "outputs": [],
   "source": [
    "# 최종 평가 시작\n",
    "model.eval()\n",
    "\n",
    "total_loss = 0\n",
    "total_len = 0\n",
    "total_correct = 0\n",
    "\n",
    "for data in tqdm(eval_loader):\n",
    "   \n",
    "    # 입력 값 설정\n",
    "    input_ids = data['input_ids'].to(device)\n",
    "    attention_mask = data['attention_mask'].to(device)\n",
    "    token_type_ids = data['token_type_ids'].to(device)       \n",
    "    labels = data['labels'].to(device)\n",
    " \n",
    "    # 모델 실행\n",
    "    outputs = model(input_ids=input_ids, \n",
    "                   attention_mask=attention_mask,\n",
    "                   token_type_ids=token_type_ids,\n",
    "                   labels=labels)\n",
    "    \n",
    "     # 출력값 loss,logits를 outputs에서 얻어옴\n",
    "    loss = outputs.loss\n",
    "    logits = outputs.logits\n",
    "    \n",
    "    # 총 손실류 구함\n",
    "    pred = torch.argmax(F.softmax(logits), dim=1)\n",
    "    correct = pred.eq(labels)\n",
    "    total_correct += correct.sum().item()\n",
    "    total_len += len(labels)\n",
    "\n",
    "print('Test-accuracy: ', total_correct / total_len)\n",
    "logger.info(f\"Test-accuracy: {total_correct / total_len}\")\n",
    "    \n"
   ]
  },
  {
   "cell_type": "code",
   "execution_count": null,
   "id": "afa8e8c5-c642-468f-940c-630083165c15",
   "metadata": {},
   "outputs": [],
   "source": [
    "# 여러 가지 값 저장, 학습 중 진행 상황 저장을 위해 epoch, loss 값 등 일반 scalar값 저장 가능\n",
    "'''\n",
    "torch.save({\n",
    "    'model': model.state_dict(),\n",
    "    'optimizer': optimizer.state_dict()\n",
    "}, OUTPATH + 'all.tar')  \n",
    "'''"
   ]
  }
 ],
 "metadata": {
  "kernelspec": {
   "display_name": "Python 3 (ipykernel)",
   "language": "python",
   "name": "python3"
  },
  "language_info": {
   "codemirror_mode": {
    "name": "ipython",
    "version": 3
   },
   "file_extension": ".py",
   "mimetype": "text/x-python",
   "name": "python",
   "nbconvert_exporter": "python",
   "pygments_lexer": "ipython3",
   "version": "3.9.7"
  }
 },
 "nbformat": 4,
 "nbformat_minor": 5
}
