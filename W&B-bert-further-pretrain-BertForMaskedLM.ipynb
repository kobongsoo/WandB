{
 "cells": [
  {
   "cell_type": "code",
   "execution_count": 1,
   "id": "1bd66b12-3efc-49a7-bdeb-739ff11bd456",
   "metadata": {},
   "outputs": [
    {
     "name": "stdout",
     "output_type": "stream",
     "text": [
      "logfilepath:../log/bwdataset_2022-04-19.log\n",
      "logfilepath:../log/qnadataset_2022-04-19.log\n"
     ]
    }
   ],
   "source": [
    "# MLM 방식을 이용한 Further pre-traning 방식 구현 예제\n",
    "# 참고 소스 : https://towardsdatascience.com/masked-language-modelling-with-bert-7d49793e5d2c 참조 바람\n",
    "import torch\n",
    "import os\n",
    "\n",
    "from tqdm.notebook import tqdm\n",
    "from transformers import BertTokenizer, BertConfig, BertForMaskedLM, BertTokenizerFast\n",
    "from transformers import AdamW, get_linear_schedule_with_warmup\n",
    "from myutils import GPU_info, seed_everything, mlogging, AccuracyForMLM, SaveBERTModel"
   ]
  },
  {
   "cell_type": "code",
   "execution_count": 2,
   "id": "d7837f0b-29db-43f6-a649-c3608d2417ff",
   "metadata": {},
   "outputs": [
    {
     "name": "stderr",
     "output_type": "stream",
     "text": [
      "Failed to detect the name of this notebook, you can set it manually with the WANDB_NOTEBOOK_NAME environment variable to enable code saving.\n",
      "\u001b[34m\u001b[1mwandb\u001b[0m: Currently logged in as: \u001b[33mkobongsoo\u001b[0m (use `wandb login --relogin` to force relogin)\n"
     ]
    },
    {
     "data": {
      "text/plain": [
       "True"
      ]
     },
     "execution_count": 2,
     "metadata": {},
     "output_type": "execute_result"
    }
   ],
   "source": [
    "#======================================================================================================\n",
    "# *WandB 툴을 이용하여, HyperPrameter sweeps 하는 예제임(http://wandb.ai 에 회원가입 해야 함)\n",
    "#  \n",
    "# == HyperPrameter sweeps 과정 ==\n",
    "#\n",
    "# 1. 로그인\n",
    "# import wandb\n",
    "# wandb.login()  # 로그인 => wandb.ai 사이트에 로그인 후, API Key 입력해야 함\n",
    "#\n",
    "# 2. sweep_config 설정\n",
    "# sweep_config ={ \n",
    "#       'method': 'random', #grid, random\n",
    "#       'metric':{\n",
    "#           'name': 'val_accuracy', #loss\n",
    "#           'goal': 'maximize'      # loss일때는 minimize로 설정해야함\n",
    "#       },\n",
    "#      'parameters':{\n",
    "#           'learning_rate':{\n",
    "#               'distribution': 'uniform',\n",
    "#               'min' : 0,\n",
    "#               'max': 7e-5\n",
    "#           },\n",
    "#           'batch_size':{\n",
    "#               'values' : [8, 16, 32]\n",
    "#           },\n",
    "#           'epochs':{\n",
    "#               'values' : [2, 3, 4]\n",
    "#           }\n",
    "#       }\n",
    "#}\n",
    "#\n",
    "#sweep_id = wandb.sweep(sweep_config, project=\"bert-wb-test\")\n",
    "#\n",
    "# 3. wandb 초기화 \n",
    "# - wandb.init(config=config)\n",
    "#\n",
    "# 4. wandb 로그설정\n",
    "# - wandb.log({\"val_accuracy\": total_test_correct / total_test_len})\n",
    "#\n",
    "# 5. wand 실행\n",
    "# - wandb.agent(sweep_id, train, count=3)\n",
    "#\n",
    "# 6. wand 종료\n",
    "# -wandb.finish()\n",
    "#======================================================================================================\n",
    "# 1. 로그인\n",
    "#!pip install wandb -qqq\n",
    "import wandb\n",
    "wandb.login()  # 로그인 => wandb.ai 사이트에 로그인 후, API Key 입력해야 함"
   ]
  },
  {
   "cell_type": "code",
   "execution_count": 3,
   "id": "4b08e24a-e5e0-4ae5-9bc0-9c39a93a6a7a",
   "metadata": {},
   "outputs": [
    {
     "name": "stdout",
     "output_type": "stream",
     "text": [
      "Create sweep with ID: xa300dr9\n",
      "Sweep URL: https://wandb.ai/kobongsoo/bert-wb-mlm-test-2/sweeps/xa300dr9\n"
     ]
    }
   ],
   "source": [
    "# 2. sweep_config 설정\n",
    "\n",
    "sweep_config ={ \n",
    "      'method': 'random', #grid, random\n",
    "      'metric':{\n",
    "          'name': 'val_accuracy', #loss\n",
    "          'goal': 'maximize'      # loss일때는 minimize로 설정해야함\n",
    "      },\n",
    "     'parameters':{\n",
    "          'learning_rate':{\n",
    "              'distribution': 'uniform',\n",
    "              'min' :1e-5,\n",
    "              'max': 7e-5\n",
    "          },\n",
    "          'batch_size':{\n",
    "              'values' : [16, 32]\n",
    "          },\n",
    "          'epochs':{\n",
    "              'values' : [3, 4, 5]\n",
    "          }\n",
    "      }\n",
    "}\n",
    "\n",
    "sweep_id = wandb.sweep(sweep_config, project=\"bert-wb-mlm-test-2\")"
   ]
  },
  {
   "cell_type": "code",
   "execution_count": 4,
   "id": "f3321a0d-57d3-400b-be05-619e1bf63842",
   "metadata": {},
   "outputs": [
    {
     "name": "stdout",
     "output_type": "stream",
     "text": [
      "True\n",
      "device: cuda:0\n",
      "cuda index: 0\n",
      "gpu 개수: 1\n",
      "graphic name: NVIDIA A30\n",
      "cuda:0\n",
      "logfilepath:../log/wb-bert-fpt-mlm_2022-04-19.log\n"
     ]
    }
   ],
   "source": [
    "# 훈련시킬 말뭉치(사전 만들때 동일한 말뭉치 이용)\n",
    "input_corpus = \"../korpora/kowiki_20190620/wiki_20190620_small.txt\"\n",
    "\n",
    "# eval 말뭉치 \n",
    "eval_corpus = \"../korpora/kowiki_20190620/wiki_eval_test.txt\"\n",
    "\n",
    "# 기존 사전훈련된 모델\n",
    "model_path = \"../model/bert/bmc-fpt-wiki_20190620_mecab_false_0311-nouns-0416/\"\n",
    "\n",
    "# 기존 사전 + 추가된 사전 파일\n",
    "#vocab_path=\"tokenizer/wiki_20190620_false_0311_speical/bmc_add_wiki_20190620_false_0311.txt\"\n",
    "vocab_path=\"../model/bert/bmc-fpt-wiki_20190620_mecab_false_0311-nouns-0416/\"\n",
    "\n",
    "# 출력\n",
    "OUTPATH = '../model/bert/bmc-fpt-wiki_20190620_mecab_false_0311-nouns-0418/'\n",
    "\n",
    "token_max_len = 128\n",
    "\n",
    "device = GPU_info()\n",
    "print(device)\n",
    "\n",
    "#seed 설정\n",
    "seed_everything(222)\n",
    "\n",
    "#logging 설정\n",
    "logger =  mlogging(loggername=\"wb-bert-fpt-mlm\", logfilename=\"../log/wb-bert-fpt-mlm\")"
   ]
  },
  {
   "cell_type": "code",
   "execution_count": 5,
   "id": "bd6fad4a-7b5b-4502-93bc-7564f197398e",
   "metadata": {},
   "outputs": [
    {
     "name": "stdout",
     "output_type": "stream",
     "text": [
      "special_token_size: 27, tokenizer.vocab_size: 167537\n",
      "vocab_size: 167560\n",
      "tokenizer_len: 167550\n"
     ]
    }
   ],
   "source": [
    "# tokeinzier 생성\n",
    "# tokenizer 생성\n",
    "# => BertTokenizer, BertTokenizerFast 둘중 사용하면됨\n",
    "\n",
    "#tokenizer = BertTokenizer(vocab_file=vocab_path, max_len=token_max_len, do_lower_case=False)\n",
    "tokenizer = BertTokenizer.from_pretrained(vocab_path, max_len=token_max_len, do_lower_case=False)\n",
    "# tokenizer = BertTokenizerFast(vocab_file=vocab_file, max_len=token_max_len, do_lower_case=False)\n",
    "\n",
    "\n",
    "# speical 토큰 계수 + vocab 계수 - 이미 vocab에 포함된 speical 토큰 계수(5)\n",
    "vocab_size = len(tokenizer.all_special_tokens) + tokenizer.vocab_size - 5 + 1\n",
    "#vocab_size = len(tokenizer.all_special_tokens) + tokenizer.vocab_size - 5\n",
    "print('special_token_size: {}, tokenizer.vocab_size: {}'.format(len(tokenizer.all_special_tokens), tokenizer.vocab_size))\n",
    "print('vocab_size: {}'.format(vocab_size))\n",
    "print('tokenizer_len: {}'.format(len(tokenizer)))\n"
   ]
  },
  {
   "cell_type": "code",
   "execution_count": 6,
   "id": "c2bfa9e0-34ad-4c1d-95b9-8fc65cfc0923",
   "metadata": {},
   "outputs": [],
   "source": [
    "def load_model():\n",
    "    # 모델 로딩 further pre-training \n",
    "    #config = BertConfig.from_pretrained(model_path)\n",
    "    #model = BertForMaskedLM.from_pretrained(model_path, from_tf=bool(\".ckpt\" in model_path), config=config) \n",
    "    model = BertForMaskedLM.from_pretrained(model_path)    \n",
    "\n",
    "    #################################################################################\n",
    "    # 모델 embedding 사이즈를 tokenizer 크기 만큼 재 설정함.\n",
    "    # 재설정하지 않으면, 다음과 같은 에러 발생함\n",
    "    # CUDA error: CUBLAS_STATUS_NOT_INITIALIZED when calling `cublasCreate(handle)` CUDA 에러가 발생함\n",
    "    #  indexSelectLargeIndex: block: [306,0,0], thread: [0,0,0] Assertion `srcIndex < srcSelectDimSize` failed.\n",
    "    #\n",
    "    #     해당 오류는 기존 Embedding(8002, 768, padding_idx=1) 처럼 입력 vocab 사이즈가 8002인데,\n",
    "    #     0~8001 사이를 초과하는 word idx 값이 들어가면 에러 발생함.\n",
    "    #################################################################################\n",
    "    model.resize_token_embeddings(len(tokenizer))\n",
    "\n",
    "    model.to(device)\n",
    "    \n",
    "    return model"
   ]
  },
  {
   "cell_type": "code",
   "execution_count": 7,
   "id": "8e41cf1f-4010-4348-8921-67d0f21ea09b",
   "metadata": {},
   "outputs": [],
   "source": [
    "def build_dataset(batch_size):\n",
    "    from torch.utils.data import DataLoader, RandomSampler\n",
    "    import sys\n",
    "    sys.path.append('..')\n",
    "    from myutils import MLMDataset\n",
    "  \n",
    "    # 각 스페셜 tokenid를 구함\n",
    "    CLStokenid = tokenizer.convert_tokens_to_ids('[CLS]')\n",
    "    SEPtokenid = tokenizer.convert_tokens_to_ids('[SEP]')\n",
    "    UNKtokenid = tokenizer.convert_tokens_to_ids('[UNK]')\n",
    "    PADtokenid = tokenizer.convert_tokens_to_ids('[PAD]')\n",
    "    MASKtokenid = tokenizer.convert_tokens_to_ids('[MASK]')\n",
    "    print('CLSid:{}, SEPid:{}, UNKid:{}, PADid:{}, MASKid:{}'.format(CLStokenid, SEPtokenid, UNKtokenid, PADtokenid, MASKtokenid))\n",
    "\n",
    "    #===============================================================================\n",
    "    # 학습 dataloader 생성\n",
    "    train_dataset = MLMDataset(corpus_path = input_corpus,\n",
    "                               tokenizer = tokenizer, \n",
    "                               CLStokeinid = CLStokenid ,   # [CLS] 토큰 id\n",
    "                               SEPtokenid = SEPtokenid ,    # [SEP] 토큰 id\n",
    "                               UNKtokenid = UNKtokenid ,    # [UNK] 토큰 id\n",
    "                               PADtokenid = PADtokenid,    # [PAD] 토큰 id\n",
    "                               Masktokenid = MASKtokenid,   # [MASK] 토큰 id\n",
    "                               max_sequence_len=token_max_len,  # max_sequence_len)\n",
    "                               mlm_probability=0.15,\n",
    "                               overwrite_cache=False\n",
    "                              )\n",
    "\n",
    "\n",
    "    # 학습 dataloader 생성\n",
    "    # => tenosor로 만듬\n",
    "    train_loader = DataLoader(train_dataset, \n",
    "                              batch_size=batch_size, \n",
    "                              #shuffle=True, # dataset을 섞음\n",
    "                              sampler=RandomSampler(train_dataset, replacement=False), #dataset을 랜덤하게 샘플링함\n",
    "                              num_workers=3\n",
    "                             )\n",
    "    #===============================================================================\n",
    "\n",
    "    #===============================================================================\n",
    "    # eval dataloader 생성\n",
    "    eval_dataset = MLMDataset(corpus_path = eval_corpus,\n",
    "                               tokenizer = tokenizer, \n",
    "                               CLStokeinid = CLStokenid ,   # [CLS] 토큰 id\n",
    "                               SEPtokenid = SEPtokenid ,    # [SEP] 토큰 id\n",
    "                               UNKtokenid = UNKtokenid ,    # [UNK] 토큰 id\n",
    "                               PADtokenid = PADtokenid,    # [PAD] 토큰 id\n",
    "                               Masktokenid = MASKtokenid,   # [MASK] 토큰 id\n",
    "                               max_sequence_len=token_max_len,  # max_sequence_len)\n",
    "                               mlm_probability=0.15,\n",
    "                               overwrite_cache=False\n",
    "                              )\n",
    "\n",
    "\n",
    "    # eval dataloader 생성\n",
    "    # => tenosor로 만듬\n",
    "    eval_loader = DataLoader(eval_dataset, \n",
    "                              batch_size=batch_size, \n",
    "                              #shuffle=True, # dataset을 섞음\n",
    "                              sampler=RandomSampler(eval_dataset, replacement=False), #dataset을 랜덤하게 샘플링함\n",
    "                              num_workers=3\n",
    "                             )\n",
    "     #===============================================================================\n",
    "\n",
    "    #print(train_dataset[0])\n",
    "    \n",
    "    return train_loader, eval_loader"
   ]
  },
  {
   "cell_type": "code",
   "execution_count": 8,
   "id": "89756e9c-7002-4d63-b2ef-a3431486fb74",
   "metadata": {},
   "outputs": [],
   "source": [
    "def Train_epoch(config,\n",
    "                model,\n",
    "                train_loader,\n",
    "                eval_loader):\n",
    "    \n",
    "    ##################################################\n",
    "    epochs = config.epochs            # epochs\n",
    "    learning_rate = config.learning_rate  # 학습률\n",
    "    #p_itr = 15000           # 손실률 보여줄 step 수\n",
    "    #save_steps = 50000     # 50000 step마다 모델 저장\n",
    "    ##################################################\n",
    "\n",
    "    # optimizer 적용\n",
    "    optimizer = AdamW(model.parameters(), \n",
    "                     lr=learning_rate, \n",
    "                     eps=1e-8) # 0으로 나누는 것을 방지하기 위한 epsilon 값(10^-6 ~ 10^-8 사이 이값 입력합)\n",
    "\n",
    "    # 총 훈련과정에서 반복할 스탭\n",
    "    total_steps = len(train_loader)*epochs\n",
    "    warmup_steps = total_steps * 0.1 #10% of train data for warm-up\n",
    "    \n",
    "    # 손실률 보여줄 step 수\n",
    "    p_itr = int(len(train_loader)*0.1)  \n",
    "    \n",
    "    # step마다 모델 저장\n",
    "    save_steps = int(total_steps * 0.5)\n",
    "    \n",
    "    # 스캐줄러 생성\n",
    "    scheduler = get_linear_schedule_with_warmup(optimizer, \n",
    "                                                num_warmup_steps=warmup_steps, \n",
    "                                                num_training_steps=total_steps)\n",
    "\n",
    "    itr = 1\n",
    "    total_loss = 0\n",
    "    total_len = 0\n",
    "    total_correct = 0\n",
    "    total_test_correct = 0\n",
    "    total_test_len = 0\n",
    "            \n",
    "    list_train_loss = []\n",
    "    list_train_acc = []\n",
    "    list_validation_acc = []\n",
    "\n",
    "    model.zero_grad()# 그래디언트 초기화\n",
    "    for epoch in tqdm(range(epochs)):\n",
    "\n",
    "        # model.train() # 훈련모드로 변환\n",
    "        for data in tqdm(train_loader):\n",
    "            model.train() # 훈련모드로 변환\n",
    "            #optimizer.zero_grad()\n",
    "            model.zero_grad()# 그래디언트 초기화\n",
    "\n",
    "            # 입력 값 설정\n",
    "            input_ids = data['input_ids'].to(device)\n",
    "            attention_mask = data['attention_mask'].to(device)\n",
    "            token_type_ids = data['token_type_ids'].to(device)       \n",
    "            labels = data['labels'].to(device)\n",
    "            #print('Labels:{}'.format(labels))\n",
    "\n",
    "            # 모델 실행\n",
    "            outputs = model(input_ids=input_ids, \n",
    "                            attention_mask=attention_mask,\n",
    "                            token_type_ids=token_type_ids,\n",
    "                            labels=labels)\n",
    "\n",
    "            # 출력값 loss,logits를 outputs에서 얻어옴\n",
    "            loss = outputs.loss\n",
    "            logits = outputs.logits\n",
    "            #print('Loss:{}, logits:{}'.format(loss, logits))\n",
    "\n",
    "            # optimizer 과 scheduler 업데이트 시킴\n",
    "            loss.backward()   # backward 구함\n",
    "            torch.nn.utils.clip_grad_norm_(model.parameters(), 1.0)   # 그래디언트 클리핑 (gradient vanishing이나 gradient exploding 방지하기 위한 기법)\n",
    "            optimizer.step()  # 가중치 파라미터 업데이트(optimizer 이동)\n",
    "            scheduler.step()  # 학습률 감소\n",
    "\n",
    "            # ***further pretrain 에는 손실률 계산을 넣지 않음\n",
    "            # 정확도 계산하는 부분은 no_grade 시켜서, 계산량을 줄임.\n",
    "\n",
    "            # => torch.no_grad()는 gradient을 계산하는 autograd engine를 비활성화 하여 \n",
    "            # 필요한 메모리를 줄이고, 연산속도를 증가시키는 역활을 함\n",
    "            with torch.no_grad():\n",
    "                \n",
    "                # 손실(loss) 계산 \n",
    "                total_loss += loss.item()\n",
    "                \n",
    "                #===========================================\n",
    "                # 정확도(Accurarcy) 계산\n",
    "                correct = AccuracyForMLM(logits, labels, attention_mask)\n",
    "                total_correct += correct.sum().item() \n",
    "                total_len += attention_mask.sum().item()  # 단어 총 수는 attension_mask가 1(True) 인 것들의 합\n",
    "                #=========================================   \n",
    "    \n",
    "                # 주기마다 test(validataion) 데이터로 평가하여 손실류 계산함.\n",
    "                if itr % p_itr == 0:\n",
    "                    train_loss = total_loss/p_itr\n",
    "                    train_acc = total_correct/total_len\n",
    "                         \n",
    "                    ####################################################################\n",
    "                    # 주기마다 eval(validataion) 데이터로 평가하여 손실류 계산함.\n",
    "                    # 평가 시작\n",
    "                    model.eval()\n",
    "\n",
    "                    #for data in tqdm(eval_loader):\n",
    "                    for data in eval_loader:\n",
    "                        # 입력 값 설정\n",
    "                        input_ids = data['input_ids'].to(device)\n",
    "                        attention_mask = data['attention_mask'].to(device)\n",
    "                        token_type_ids = data['token_type_ids'].to(device)       \n",
    "                        labels = data['labels'].to(device)\n",
    "\n",
    "                        # 손실률 계산하는 부분은 no_grade 시켜서, 계산량을 줄임.\n",
    "                        # => torch.no_grad()는 gradient을 계산하는 autograd engine를 비활성화 하여 \n",
    "                        # 필요한 메모리를 줄이고, 연산속도를 증가시키는 역활을 함\n",
    "                        with torch.no_grad():\n",
    "                            # 모델 실행\n",
    "                            outputs = model(input_ids=input_ids, \n",
    "                                            attention_mask=attention_mask,\n",
    "                                            token_type_ids=token_type_ids,\n",
    "                                            labels=labels)\n",
    "\n",
    "                            # 출력값 loss,logits를 outputs에서 얻어옴\n",
    "                            #loss = outputs.loss\n",
    "                            logits = outputs.logits\n",
    "\n",
    "                             #===========================================\n",
    "                            # 정확도(Accurarcy) 계산\n",
    "                            correct = AccuracyForMLM(logits, labels, attention_mask)\n",
    "                            total_test_correct += correct.sum().item() \n",
    "                            total_test_len += attention_mask.sum().item() # 단어 총 수는 attension_mask가 1(True) 인 것들의 합\n",
    "                            #========================================= \n",
    "\n",
    "                    val_acc = total_test_correct/total_test_len\n",
    "                    \n",
    "                    logger.info('[Epoch {}/{}] Iteration {} -> Train Loss: {:.4f}, Train Acc: {:.4f}, Val Acc:{}'.format(epoch+1, epochs, itr, train_loss, train_acc, val_acc))\n",
    "                    \n",
    "                    list_train_loss.append(train_loss)\n",
    "                    list_train_acc.append(train_acc)\n",
    "                    list_validation_acc.append(val_acc)\n",
    "                 \n",
    "                    \n",
    "                    # wandb 로그 기록\n",
    "                    wandb.log({\"Loss\": train_loss,\n",
    "                              \"train_accuracy\": train_acc,\n",
    "                              \"val_accuracy\": val_acc\n",
    "                              })\n",
    "                 \n",
    "                    total_loss = 0\n",
    "                    total_len = 0\n",
    "                    total_correct = 0\n",
    "                    total_test_correct = 0\n",
    "                    total_test_len = 0\n",
    "                    ####################################################################\n",
    "\n",
    "                  # 모델 저장\n",
    "                if itr % save_steps == 0:\n",
    "                    SaveBERTModel(model, tokenizer, OUTPATH, config.epochs, config.learning_rate, config.batch_size)\n",
    "                    \n",
    "            itr+=1\n"
   ]
  },
  {
   "cell_type": "code",
   "execution_count": 9,
   "id": "09742433-658c-4fec-9ea3-bea2ad09a4cd",
   "metadata": {},
   "outputs": [],
   "source": [
    "# 훈련\n",
    "def train(config=None):\n",
    "    # wandb 초기화\n",
    "    with wandb.init(config=config):\n",
    "        config = wandb.config\n",
    "        \n",
    "        # 데이터 로더 생성\n",
    "        train_loader, eval_loader = build_dataset(config.batch_size)\n",
    "        \n",
    "        # 모델 로딩\n",
    "        tmodel = load_model()\n",
    "        \n",
    "        # 훈련 시작 \n",
    "        Train_epoch(config, tmodel, train_loader, eval_loader)\n",
    "        \n",
    "        # 모델 저장\n",
    "        #save_model(tmodel, tokenizer, OUTPATH, config.epochs, config.learning_rate, config.batch_size)"
   ]
  },
  {
   "cell_type": "code",
   "execution_count": 10,
   "id": "aa04ae9e-a88f-441b-9af4-dcff61530a85",
   "metadata": {},
   "outputs": [
    {
     "name": "stderr",
     "output_type": "stream",
     "text": [
      "\u001b[34m\u001b[1mwandb\u001b[0m: Agent Starting Run: cy4xwr32 with config:\n",
      "\u001b[34m\u001b[1mwandb\u001b[0m: \tbatch_size: 32\n",
      "\u001b[34m\u001b[1mwandb\u001b[0m: \tepochs: 4\n",
      "\u001b[34m\u001b[1mwandb\u001b[0m: \tlearning_rate: 5.098061509128108e-05\n",
      "Failed to detect the name of this notebook, you can set it manually with the WANDB_NOTEBOOK_NAME environment variable to enable code saving.\n"
     ]
    },
    {
     "data": {
      "text/html": [
       "Tracking run with wandb version 0.12.14"
      ],
      "text/plain": [
       "<IPython.core.display.HTML object>"
      ]
     },
     "metadata": {},
     "output_type": "display_data"
    },
    {
     "data": {
      "text/html": [
       "Run data is saved locally in <code>/MOCOMSYS/dev/bong/WandB/wandb/run-20220419_145026-cy4xwr32</code>"
      ],
      "text/plain": [
       "<IPython.core.display.HTML object>"
      ]
     },
     "metadata": {},
     "output_type": "display_data"
    },
    {
     "data": {
      "text/html": [
       "Syncing run <strong><a href=\"https://wandb.ai/kobongsoo/bert-wb-mlm-test-2/runs/cy4xwr32\" target=\"_blank\">summer-sweep-1</a></strong> to <a href=\"https://wandb.ai/kobongsoo/bert-wb-mlm-test-2\" target=\"_blank\">Weights & Biases</a> (<a href=\"https://wandb.me/run\" target=\"_blank\">docs</a>)<br/>Sweep page:  <a href=\"https://wandb.ai/kobongsoo/bert-wb-mlm-test-2/sweeps/xa300dr9\" target=\"_blank\">https://wandb.ai/kobongsoo/bert-wb-mlm-test-2/sweeps/xa300dr9</a>"
      ],
      "text/plain": [
       "<IPython.core.display.HTML object>"
      ]
     },
     "metadata": {},
     "output_type": "display_data"
    },
    {
     "name": "stderr",
     "output_type": "stream",
     "text": [
      "2022-04-19 14:50:32,431 - bwpdataset - INFO - ==>[Start] cached file read: ../korpora/kowiki_20190620/cached_lm_BertTokenizer_128_wiki_20190620_small.txt\n"
     ]
    },
    {
     "name": "stdout",
     "output_type": "stream",
     "text": [
      "CLSid:101, SEPid:102, UNKid:100, PADid:0, MASKid:103\n",
      "*corpus:../korpora/kowiki_20190620/wiki_20190620_small.txt\n",
      "*max_sequence_len:128\n",
      "*mlm_probability:0.15\n",
      "*CLStokenid:101, SEPtokenid:102, UNKtokenid:100, PADtokeinid:0, Masktokeid:103\n"
     ]
    },
    {
     "name": "stderr",
     "output_type": "stream",
     "text": [
      "2022-04-19 14:50:32,926 - bwpdataset - INFO - <==[End] Loading features from cached file ../korpora/kowiki_20190620/cached_lm_BertTokenizer_128_wiki_20190620_small.txt [took 0.494 s]\n"
     ]
    },
    {
     "name": "stdout",
     "output_type": "stream",
     "text": [
      "*corpus:../korpora/kowiki_20190620/wiki_eval_test.txt\n",
      "*max_sequence_len:128\n",
      "*mlm_probability:0.15\n",
      "*CLStokenid:101, SEPtokenid:102, UNKtokenid:100, PADtokeinid:0, Masktokeid:103\n",
      "*total_line: 114\n"
     ]
    },
    {
     "data": {
      "application/vnd.jupyter.widget-view+json": {
       "model_id": "ad94833ca4694c7da79b46ad50adfba5",
       "version_major": 2,
       "version_minor": 0
      },
      "text/plain": [
       "  0%|          | 0/114 [00:00<?, ?it/s]"
      ]
     },
     "metadata": {},
     "output_type": "display_data"
    },
    {
     "data": {
      "application/vnd.jupyter.widget-view+json": {
       "model_id": "351fc839a2374e3db931093eb8e97a8d",
       "version_major": 2,
       "version_minor": 0
      },
      "text/plain": [
       "  0%|          | 0/114 [00:00<?, ?it/s]"
      ]
     },
     "metadata": {},
     "output_type": "display_data"
    },
    {
     "data": {
      "application/vnd.jupyter.widget-view+json": {
       "model_id": "89f7e935491d4a89b0de6faa31858bce",
       "version_major": 2,
       "version_minor": 0
      },
      "text/plain": [
       "  0%|          | 0/4 [00:00<?, ?it/s]"
      ]
     },
     "metadata": {},
     "output_type": "display_data"
    },
    {
     "data": {
      "application/vnd.jupyter.widget-view+json": {
       "model_id": "8cb1356da9f64883b988fe9e6845f504",
       "version_major": 2,
       "version_minor": 0
      },
      "text/plain": [
       "  0%|          | 0/307 [00:00<?, ?it/s]"
      ]
     },
     "metadata": {},
     "output_type": "display_data"
    },
    {
     "name": "stderr",
     "output_type": "stream",
     "text": [
      "2022-04-19 14:50:50,778 - wb-bert-fpt-mlm - INFO - [Epoch 1/4] Iteration 30 -> Train Loss: 0.4460, Train Acc: 0.8002, Val Acc:0.832107451231212\n",
      "2022-04-19 14:50:59,764 - wb-bert-fpt-mlm - INFO - [Epoch 1/4] Iteration 60 -> Train Loss: 0.3370, Train Acc: 0.8156, Val Acc:0.841701311160857\n",
      "2022-04-19 14:51:08,707 - wb-bert-fpt-mlm - INFO - [Epoch 1/4] Iteration 90 -> Train Loss: 0.2795, Train Acc: 0.8286, Val Acc:0.8564118963863128\n",
      "2022-04-19 14:51:17,657 - wb-bert-fpt-mlm - INFO - [Epoch 1/4] Iteration 120 -> Train Loss: 0.2384, Train Acc: 0.8434, Val Acc:0.8596098496961945\n",
      "2022-04-19 14:51:26,671 - wb-bert-fpt-mlm - INFO - [Epoch 1/4] Iteration 150 -> Train Loss: 0.2039, Train Acc: 0.8551, Val Acc:0.8720818676047329\n",
      "2022-04-19 14:51:35,747 - wb-bert-fpt-mlm - INFO - [Epoch 1/4] Iteration 180 -> Train Loss: 0.2018, Train Acc: 0.8596, Val Acc:0.8839142948512951\n",
      "2022-04-19 14:51:44,808 - wb-bert-fpt-mlm - INFO - [Epoch 1/4] Iteration 210 -> Train Loss: 0.1885, Train Acc: 0.8716, Val Acc:0.8880716341541414\n",
      "2022-04-19 14:51:53,497 - wb-bert-fpt-mlm - INFO - [Epoch 1/4] Iteration 240 -> Train Loss: 0.1716, Train Acc: 0.8833, Val Acc:0.8947873361048929\n",
      "wandb: Network error (ConnectionError), entering retry loop.\n",
      "2022-04-19 14:52:02,584 - wb-bert-fpt-mlm - INFO - [Epoch 1/4] Iteration 270 -> Train Loss: 0.1655, Train Acc: 0.8847, Val Acc:0.8973456987527982\n",
      "2022-04-19 14:52:11,557 - wb-bert-fpt-mlm - INFO - [Epoch 1/4] Iteration 300 -> Train Loss: 0.1622, Train Acc: 0.8905, Val Acc:0.9011832427246562\n"
     ]
    },
    {
     "data": {
      "application/vnd.jupyter.widget-view+json": {
       "model_id": "65472e9b362b45bebcbe51b4d1ffe6f9",
       "version_major": 2,
       "version_minor": 0
      },
      "text/plain": [
       "  0%|          | 0/307 [00:00<?, ?it/s]"
      ]
     },
     "metadata": {},
     "output_type": "display_data"
    },
    {
     "name": "stderr",
     "output_type": "stream",
     "text": [
      "2022-04-19 14:52:21,036 - wb-bert-fpt-mlm - INFO - [Epoch 2/4] Iteration 330 -> Train Loss: 0.1288, Train Acc: 0.9084, Val Acc:0.9015030380556444\n",
      "2022-04-19 14:52:30,255 - wb-bert-fpt-mlm - INFO - [Epoch 2/4] Iteration 360 -> Train Loss: 0.1137, Train Acc: 0.9131, Val Acc:0.9040614007035497\n",
      "2022-04-19 14:52:39,337 - wb-bert-fpt-mlm - INFO - [Epoch 2/4] Iteration 390 -> Train Loss: 0.1173, Train Acc: 0.9118, Val Acc:0.9047009913655261\n",
      "2022-04-19 14:52:48,427 - wb-bert-fpt-mlm - INFO - [Epoch 2/4] Iteration 420 -> Train Loss: 0.1163, Train Acc: 0.9147, Val Acc:0.9062999680204669\n",
      "2022-04-19 14:52:57,523 - wb-bert-fpt-mlm - INFO - [Epoch 2/4] Iteration 450 -> Train Loss: 0.1047, Train Acc: 0.9185, Val Acc:0.9053405820275024\n",
      "2022-04-19 14:53:06,603 - wb-bert-fpt-mlm - INFO - [Epoch 2/4] Iteration 480 -> Train Loss: 0.1101, Train Acc: 0.9187, Val Acc:0.908538535337384\n",
      "2022-04-19 14:53:15,688 - wb-bert-fpt-mlm - INFO - [Epoch 2/4] Iteration 510 -> Train Loss: 0.1054, Train Acc: 0.9198, Val Acc:0.9094979213303486\n",
      "2022-04-19 14:53:24,734 - wb-bert-fpt-mlm - INFO - [Epoch 2/4] Iteration 540 -> Train Loss: 0.1098, Train Acc: 0.9191, Val Acc:0.908538535337384\n",
      "2022-04-19 14:53:33,831 - wb-bert-fpt-mlm - INFO - [Epoch 2/4] Iteration 570 -> Train Loss: 0.1053, Train Acc: 0.9200, Val Acc:0.910137511992325\n",
      "2022-04-19 14:53:42,891 - wb-bert-fpt-mlm - INFO - [Epoch 2/4] Iteration 600 -> Train Loss: 0.1055, Train Acc: 0.9210, Val Acc:0.9107771026543012\n",
      "2022-04-19 14:53:48,482 - bwpdataset - INFO - ==> save_model : ../model/bert/bmc-fpt-wiki_20190620_mecab_false_0311-nouns-0418/batch:32-ep:4-lr:0.000050981-4m19d-14:53\n"
     ]
    },
    {
     "data": {
      "application/vnd.jupyter.widget-view+json": {
       "model_id": "820dc1b77e084ebd83650017dfb9559f",
       "version_major": 2,
       "version_minor": 0
      },
      "text/plain": [
       "  0%|          | 0/307 [00:00<?, ?it/s]"
      ]
     },
     "metadata": {},
     "output_type": "display_data"
    },
    {
     "name": "stderr",
     "output_type": "stream",
     "text": [
      "2022-04-19 14:53:54,246 - wb-bert-fpt-mlm - INFO - [Epoch 3/4] Iteration 630 -> Train Loss: 0.0921, Train Acc: 0.9298, Val Acc:0.9107771026543012\n",
      "2022-04-19 14:54:02,687 - wb-bert-fpt-mlm - INFO - [Epoch 3/4] Iteration 660 -> Train Loss: 0.0720, Train Acc: 0.9436, Val Acc:0.9120562839782539\n",
      "2022-04-19 14:54:11,736 - wb-bert-fpt-mlm - INFO - [Epoch 3/4] Iteration 690 -> Train Loss: 0.0819, Train Acc: 0.9370, Val Acc:0.9126958746402303\n",
      "2022-04-19 14:54:20,646 - wb-bert-fpt-mlm - INFO - [Epoch 3/4] Iteration 720 -> Train Loss: 0.0792, Train Acc: 0.9381, Val Acc:0.9120562839782539\n",
      "2022-04-19 14:54:29,765 - wb-bert-fpt-mlm - INFO - [Epoch 3/4] Iteration 750 -> Train Loss: 0.0789, Train Acc: 0.9381, Val Acc:0.9126958746402303\n",
      "2022-04-19 14:54:38,932 - wb-bert-fpt-mlm - INFO - [Epoch 3/4] Iteration 780 -> Train Loss: 0.0743, Train Acc: 0.9398, Val Acc:0.9110968979852894\n",
      "2022-04-19 14:54:48,059 - wb-bert-fpt-mlm - INFO - [Epoch 3/4] Iteration 810 -> Train Loss: 0.0735, Train Acc: 0.9416, Val Acc:0.9114166933162776\n",
      "2022-04-19 14:54:57,191 - wb-bert-fpt-mlm - INFO - [Epoch 3/4] Iteration 840 -> Train Loss: 0.0707, Train Acc: 0.9405, Val Acc:0.9107771026543012\n",
      "2022-04-19 14:55:06,121 - wb-bert-fpt-mlm - INFO - [Epoch 3/4] Iteration 870 -> Train Loss: 0.0697, Train Acc: 0.9420, Val Acc:0.9123760793092421\n",
      "2022-04-19 14:55:15,286 - wb-bert-fpt-mlm - INFO - [Epoch 3/4] Iteration 900 -> Train Loss: 0.0698, Train Acc: 0.9427, Val Acc:0.9120562839782539\n"
     ]
    },
    {
     "data": {
      "application/vnd.jupyter.widget-view+json": {
       "model_id": "3d5280b1f15848c591a56f9a12bc002c",
       "version_major": 2,
       "version_minor": 0
      },
      "text/plain": [
       "  0%|          | 0/307 [00:00<?, ?it/s]"
      ]
     },
     "metadata": {},
     "output_type": "display_data"
    },
    {
     "name": "stderr",
     "output_type": "stream",
     "text": [
      "2022-04-19 14:55:24,746 - wb-bert-fpt-mlm - INFO - [Epoch 4/4] Iteration 930 -> Train Loss: 0.0673, Train Acc: 0.9435, Val Acc:0.9120562839782539\n",
      "2022-04-19 14:55:33,839 - wb-bert-fpt-mlm - INFO - [Epoch 4/4] Iteration 960 -> Train Loss: 0.0570, Train Acc: 0.9548, Val Acc:0.9133354653022066\n",
      "2022-04-19 14:55:42,974 - wb-bert-fpt-mlm - INFO - [Epoch 4/4] Iteration 990 -> Train Loss: 0.0575, Train Acc: 0.9533, Val Acc:0.9133354653022066\n",
      "2022-04-19 14:55:52,078 - wb-bert-fpt-mlm - INFO - [Epoch 4/4] Iteration 1020 -> Train Loss: 0.0598, Train Acc: 0.9504, Val Acc:0.9136552606331948\n",
      "2022-04-19 14:56:01,094 - wb-bert-fpt-mlm - INFO - [Epoch 4/4] Iteration 1050 -> Train Loss: 0.0610, Train Acc: 0.9519, Val Acc:0.9126958746402303\n",
      "2022-04-19 14:56:10,147 - wb-bert-fpt-mlm - INFO - [Epoch 4/4] Iteration 1080 -> Train Loss: 0.0607, Train Acc: 0.9527, Val Acc:0.9117364886472658\n",
      "2022-04-19 14:56:19,272 - wb-bert-fpt-mlm - INFO - [Epoch 4/4] Iteration 1110 -> Train Loss: 0.0586, Train Acc: 0.9522, Val Acc:0.9120562839782539\n",
      "2022-04-19 14:56:28,381 - wb-bert-fpt-mlm - INFO - [Epoch 4/4] Iteration 1140 -> Train Loss: 0.0558, Train Acc: 0.9520, Val Acc:0.9130156699712184\n",
      "2022-04-19 14:56:37,497 - wb-bert-fpt-mlm - INFO - [Epoch 4/4] Iteration 1170 -> Train Loss: 0.0586, Train Acc: 0.9541, Val Acc:0.9130156699712184\n",
      "2022-04-19 14:56:46,618 - wb-bert-fpt-mlm - INFO - [Epoch 4/4] Iteration 1200 -> Train Loss: 0.0566, Train Acc: 0.9530, Val Acc:0.9133354653022066\n",
      "2022-04-19 14:56:55,955 - bwpdataset - INFO - ==> save_model : ../model/bert/bmc-fpt-wiki_20190620_mecab_false_0311-nouns-0418/batch:32-ep:4-lr:0.000050981-4m19d-14:56\n"
     ]
    },
    {
     "name": "stdout",
     "output_type": "stream",
     "text": [
      "\n"
     ]
    },
    {
     "data": {
      "text/html": [
       "Waiting for W&B process to finish... <strong style=\"color:green\">(success).</strong>"
      ],
      "text/plain": [
       "<IPython.core.display.HTML object>"
      ]
     },
     "metadata": {},
     "output_type": "display_data"
    },
    {
     "data": {
      "application/vnd.jupyter.widget-view+json": {
       "model_id": "",
       "version_major": 2,
       "version_minor": 0
      },
      "text/plain": [
       "VBox(children=(Label(value='0.001 MB of 0.001 MB uploaded (0.000 MB deduped)\\r'), FloatProgress(value=1.0, max…"
      ]
     },
     "metadata": {},
     "output_type": "display_data"
    },
    {
     "data": {
      "text/html": [
       "<style>\n",
       "    table.wandb td:nth-child(1) { padding: 0 10px; text-align: right }\n",
       "    .wandb-row { display: flex; flex-direction: row; flex-wrap: wrap; width: 100% }\n",
       "    .wandb-col { display: flex; flex-direction: column; flex-basis: 100%; flex: 1; padding: 10px; }\n",
       "    </style>\n",
       "<div class=\"wandb-row\"><div class=\"wandb-col\"><h3>Run history:</h3><br/><table class=\"wandb\"><tr><td>Loss</td><td>█▆▅▄▄▄▃▃▃▃▂▂▂▂▂▂▂▂▂▂▂▁▁▁▁▁▁▁▁▁▁▁▁▁▁▁▁▁▁▁</td></tr><tr><td>train_accuracy</td><td>▁▂▂▃▃▄▄▅▅▅▆▆▆▆▆▆▆▆▆▆▇▇▇▇▇▇▇▇▇▇▇█████████</td></tr><tr><td>val_accuracy</td><td>▁▂▃▃▄▅▆▆▇▇▇▇▇▇▇█████████████████████████</td></tr></table><br/></div><div class=\"wandb-col\"><h3>Run summary:</h3><br/><table class=\"wandb\"><tr><td>Loss</td><td>0.05664</td></tr><tr><td>train_accuracy</td><td>0.953</td></tr><tr><td>val_accuracy</td><td>0.91334</td></tr></table><br/></div></div>"
      ],
      "text/plain": [
       "<IPython.core.display.HTML object>"
      ]
     },
     "metadata": {},
     "output_type": "display_data"
    },
    {
     "data": {
      "text/html": [
       "Synced <strong style=\"color:#cdcd00\">summer-sweep-1</strong>: <a href=\"https://wandb.ai/kobongsoo/bert-wb-mlm-test-2/runs/cy4xwr32\" target=\"_blank\">https://wandb.ai/kobongsoo/bert-wb-mlm-test-2/runs/cy4xwr32</a><br/>Synced 6 W&B file(s), 0 media file(s), 0 artifact file(s) and 0 other file(s)"
      ],
      "text/plain": [
       "<IPython.core.display.HTML object>"
      ]
     },
     "metadata": {},
     "output_type": "display_data"
    },
    {
     "data": {
      "text/html": [
       "Find logs at: <code>./wandb/run-20220419_145026-cy4xwr32/logs</code>"
      ],
      "text/plain": [
       "<IPython.core.display.HTML object>"
      ]
     },
     "metadata": {},
     "output_type": "display_data"
    },
    {
     "name": "stderr",
     "output_type": "stream",
     "text": [
      "\u001b[34m\u001b[1mwandb\u001b[0m: Agent Starting Run: n0kyr6se with config:\n",
      "\u001b[34m\u001b[1mwandb\u001b[0m: \tbatch_size: 16\n",
      "\u001b[34m\u001b[1mwandb\u001b[0m: \tepochs: 4\n",
      "\u001b[34m\u001b[1mwandb\u001b[0m: \tlearning_rate: 6.759004708688057e-05\n",
      "Failed to detect the name of this notebook, you can set it manually with the WANDB_NOTEBOOK_NAME environment variable to enable code saving.\n"
     ]
    },
    {
     "data": {
      "text/html": [
       "Tracking run with wandb version 0.12.14"
      ],
      "text/plain": [
       "<IPython.core.display.HTML object>"
      ]
     },
     "metadata": {},
     "output_type": "display_data"
    },
    {
     "data": {
      "text/html": [
       "Run data is saved locally in <code>/MOCOMSYS/dev/bong/WandB/wandb/run-20220419_145704-n0kyr6se</code>"
      ],
      "text/plain": [
       "<IPython.core.display.HTML object>"
      ]
     },
     "metadata": {},
     "output_type": "display_data"
    },
    {
     "data": {
      "text/html": [
       "Syncing run <strong><a href=\"https://wandb.ai/kobongsoo/bert-wb-mlm-test-2/runs/n0kyr6se\" target=\"_blank\">rural-sweep-2</a></strong> to <a href=\"https://wandb.ai/kobongsoo/bert-wb-mlm-test-2\" target=\"_blank\">Weights & Biases</a> (<a href=\"https://wandb.me/run\" target=\"_blank\">docs</a>)<br/>Sweep page:  <a href=\"https://wandb.ai/kobongsoo/bert-wb-mlm-test-2/sweeps/xa300dr9\" target=\"_blank\">https://wandb.ai/kobongsoo/bert-wb-mlm-test-2/sweeps/xa300dr9</a>"
      ],
      "text/plain": [
       "<IPython.core.display.HTML object>"
      ]
     },
     "metadata": {},
     "output_type": "display_data"
    },
    {
     "name": "stderr",
     "output_type": "stream",
     "text": [
      "2022-04-19 14:57:13,692 - bwpdataset - INFO - ==>[Start] cached file read: ../korpora/kowiki_20190620/cached_lm_BertTokenizer_128_wiki_20190620_small.txt\n"
     ]
    },
    {
     "name": "stdout",
     "output_type": "stream",
     "text": [
      "CLSid:101, SEPid:102, UNKid:100, PADid:0, MASKid:103\n",
      "*corpus:../korpora/kowiki_20190620/wiki_20190620_small.txt\n",
      "*max_sequence_len:128\n",
      "*mlm_probability:0.15\n",
      "*CLStokenid:101, SEPtokenid:102, UNKtokenid:100, PADtokeinid:0, Masktokeid:103\n"
     ]
    },
    {
     "name": "stderr",
     "output_type": "stream",
     "text": [
      "2022-04-19 14:57:13,905 - bwpdataset - INFO - <==[End] Loading features from cached file ../korpora/kowiki_20190620/cached_lm_BertTokenizer_128_wiki_20190620_small.txt [took 0.212 s]\n"
     ]
    },
    {
     "name": "stdout",
     "output_type": "stream",
     "text": [
      "*corpus:../korpora/kowiki_20190620/wiki_eval_test.txt\n",
      "*max_sequence_len:128\n",
      "*mlm_probability:0.15\n",
      "*CLStokenid:101, SEPtokenid:102, UNKtokenid:100, PADtokeinid:0, Masktokeid:103\n",
      "*total_line: 114\n"
     ]
    },
    {
     "data": {
      "application/vnd.jupyter.widget-view+json": {
       "model_id": "c348ecae56ff4b40ace71767a012e7ed",
       "version_major": 2,
       "version_minor": 0
      },
      "text/plain": [
       "  0%|          | 0/114 [00:00<?, ?it/s]"
      ]
     },
     "metadata": {},
     "output_type": "display_data"
    },
    {
     "data": {
      "application/vnd.jupyter.widget-view+json": {
       "model_id": "23403dc0b0e44eef89b1f97be3efe614",
       "version_major": 2,
       "version_minor": 0
      },
      "text/plain": [
       "  0%|          | 0/114 [00:00<?, ?it/s]"
      ]
     },
     "metadata": {},
     "output_type": "display_data"
    },
    {
     "data": {
      "application/vnd.jupyter.widget-view+json": {
       "model_id": "64c6a90336ae422c94407c1144075bcf",
       "version_major": 2,
       "version_minor": 0
      },
      "text/plain": [
       "  0%|          | 0/4 [00:00<?, ?it/s]"
      ]
     },
     "metadata": {},
     "output_type": "display_data"
    },
    {
     "data": {
      "application/vnd.jupyter.widget-view+json": {
       "model_id": "bdbff0f14bb94a1fbbe011668ec2eafb",
       "version_major": 2,
       "version_minor": 0
      },
      "text/plain": [
       "  0%|          | 0/614 [00:00<?, ?it/s]"
      ]
     },
     "metadata": {},
     "output_type": "display_data"
    },
    {
     "name": "stderr",
     "output_type": "stream",
     "text": [
      "2022-04-19 14:57:28,050 - wb-bert-fpt-mlm - INFO - [Epoch 1/4] Iteration 61 -> Train Loss: 0.4111, Train Acc: 0.8036, Val Acc:0.8346658138791173\n",
      "2022-04-19 14:57:38,412 - wb-bert-fpt-mlm - INFO - [Epoch 1/4] Iteration 122 -> Train Loss: 0.2959, Train Acc: 0.8234, Val Acc:0.8567316917173009\n",
      "2022-04-19 14:57:48,809 - wb-bert-fpt-mlm - INFO - [Epoch 1/4] Iteration 183 -> Train Loss: 0.2327, Train Acc: 0.8453, Val Acc:0.8615286216821234\n",
      "2022-04-19 14:57:58,966 - wb-bert-fpt-mlm - INFO - [Epoch 1/4] Iteration 244 -> Train Loss: 0.2067, Train Acc: 0.8588, Val Acc:0.8784777742244964\n",
      "2022-04-19 14:58:09,090 - wb-bert-fpt-mlm - INFO - [Epoch 1/4] Iteration 305 -> Train Loss: 0.1789, Train Acc: 0.8738, Val Acc:0.8909497921330348\n",
      "2022-04-19 14:58:19,115 - wb-bert-fpt-mlm - INFO - [Epoch 1/4] Iteration 366 -> Train Loss: 0.1633, Train Acc: 0.8867, Val Acc:0.8944675407739047\n",
      "2022-04-19 14:58:29,307 - wb-bert-fpt-mlm - INFO - [Epoch 1/4] Iteration 427 -> Train Loss: 0.1513, Train Acc: 0.8916, Val Acc:0.9011832427246562\n",
      "2022-04-19 14:58:39,462 - wb-bert-fpt-mlm - INFO - [Epoch 1/4] Iteration 488 -> Train Loss: 0.1521, Train Acc: 0.8984, Val Acc:0.9031020147105853\n",
      "2022-04-19 14:58:49,728 - wb-bert-fpt-mlm - INFO - [Epoch 1/4] Iteration 549 -> Train Loss: 0.1395, Train Acc: 0.9006, Val Acc:0.9011832427246562\n",
      "2022-04-19 14:58:59,899 - wb-bert-fpt-mlm - INFO - [Epoch 1/4] Iteration 610 -> Train Loss: 0.1421, Train Acc: 0.9008, Val Acc:0.9069395586824432\n"
     ]
    },
    {
     "data": {
      "application/vnd.jupyter.widget-view+json": {
       "model_id": "3002a5007f6342eda2da1f1564ca5eea",
       "version_major": 2,
       "version_minor": 0
      },
      "text/plain": [
       "  0%|          | 0/614 [00:00<?, ?it/s]"
      ]
     },
     "metadata": {},
     "output_type": "display_data"
    },
    {
     "name": "stderr",
     "output_type": "stream",
     "text": [
      "2022-04-19 14:59:10,611 - wb-bert-fpt-mlm - INFO - [Epoch 2/4] Iteration 671 -> Train Loss: 0.0920, Train Acc: 0.9274, Val Acc:0.9031020147105853\n",
      "2022-04-19 14:59:20,761 - wb-bert-fpt-mlm - INFO - [Epoch 2/4] Iteration 732 -> Train Loss: 0.0861, Train Acc: 0.9321, Val Acc:0.9047009913655261\n",
      "2022-04-19 14:59:30,891 - wb-bert-fpt-mlm - INFO - [Epoch 2/4] Iteration 793 -> Train Loss: 0.0881, Train Acc: 0.9314, Val Acc:0.9056603773584906\n",
      "2022-04-19 14:59:41,059 - wb-bert-fpt-mlm - INFO - [Epoch 2/4] Iteration 854 -> Train Loss: 0.0840, Train Acc: 0.9320, Val Acc:0.9053405820275024\n",
      "2022-04-19 14:59:51,136 - wb-bert-fpt-mlm - INFO - [Epoch 2/4] Iteration 915 -> Train Loss: 0.0823, Train Acc: 0.9329, Val Acc:0.9069395586824432\n",
      "2022-04-19 15:00:01,404 - wb-bert-fpt-mlm - INFO - [Epoch 2/4] Iteration 976 -> Train Loss: 0.0800, Train Acc: 0.9346, Val Acc:0.9059801726894787\n",
      "2022-04-19 15:00:11,524 - wb-bert-fpt-mlm - INFO - [Epoch 2/4] Iteration 1037 -> Train Loss: 0.0875, Train Acc: 0.9309, Val Acc:0.9062999680204669\n",
      "2022-04-19 15:00:21,926 - wb-bert-fpt-mlm - INFO - [Epoch 2/4] Iteration 1098 -> Train Loss: 0.0865, Train Acc: 0.9312, Val Acc:0.9059801726894787\n",
      "2022-04-19 15:00:32,077 - wb-bert-fpt-mlm - INFO - [Epoch 2/4] Iteration 1159 -> Train Loss: 0.0827, Train Acc: 0.9314, Val Acc:0.9059801726894787\n",
      "2022-04-19 15:00:42,179 - wb-bert-fpt-mlm - INFO - [Epoch 2/4] Iteration 1220 -> Train Loss: 0.0818, Train Acc: 0.9337, Val Acc:0.9094979213303486\n",
      "2022-04-19 15:00:45,114 - bwpdataset - INFO - ==> save_model : ../model/bert/bmc-fpt-wiki_20190620_mecab_false_0311-nouns-0418/batch:16-ep:4-lr:0.000067590-4m19d-15:0\n"
     ]
    },
    {
     "data": {
      "application/vnd.jupyter.widget-view+json": {
       "model_id": "1db7997edcd24ca6a9cfab850e27fe7f",
       "version_major": 2,
       "version_minor": 0
      },
      "text/plain": [
       "  0%|          | 0/614 [00:00<?, ?it/s]"
      ]
     },
     "metadata": {},
     "output_type": "display_data"
    },
    {
     "name": "stderr",
     "output_type": "stream",
     "text": [
      "2022-04-19 15:00:54,605 - wb-bert-fpt-mlm - INFO - [Epoch 3/4] Iteration 1281 -> Train Loss: 0.0544, Train Acc: 0.9568, Val Acc:0.9107771026543012\n",
      "2022-04-19 15:01:04,673 - wb-bert-fpt-mlm - INFO - [Epoch 3/4] Iteration 1342 -> Train Loss: 0.0447, Train Acc: 0.9621, Val Acc:0.908538535337384\n",
      "2022-04-19 15:01:14,809 - wb-bert-fpt-mlm - INFO - [Epoch 3/4] Iteration 1403 -> Train Loss: 0.0477, Train Acc: 0.9607, Val Acc:0.9091781259993604\n",
      "2022-04-19 15:01:24,915 - wb-bert-fpt-mlm - INFO - [Epoch 3/4] Iteration 1464 -> Train Loss: 0.0465, Train Acc: 0.9607, Val Acc:0.9088583306683723\n",
      "2022-04-19 15:01:35,006 - wb-bert-fpt-mlm - INFO - [Epoch 3/4] Iteration 1525 -> Train Loss: 0.0470, Train Acc: 0.9595, Val Acc:0.9088583306683723\n",
      "2022-04-19 15:01:45,125 - wb-bert-fpt-mlm - INFO - [Epoch 3/4] Iteration 1586 -> Train Loss: 0.0441, Train Acc: 0.9621, Val Acc:0.9072593540134314\n",
      "2022-04-19 15:01:55,560 - wb-bert-fpt-mlm - INFO - [Epoch 3/4] Iteration 1647 -> Train Loss: 0.0435, Train Acc: 0.9627, Val Acc:0.9110968979852894\n",
      "2022-04-19 15:02:05,688 - wb-bert-fpt-mlm - INFO - [Epoch 3/4] Iteration 1708 -> Train Loss: 0.0474, Train Acc: 0.9592, Val Acc:0.9069395586824432\n",
      "2022-04-19 15:02:15,827 - wb-bert-fpt-mlm - INFO - [Epoch 3/4] Iteration 1769 -> Train Loss: 0.0446, Train Acc: 0.9605, Val Acc:0.9091781259993604\n",
      "2022-04-19 15:02:25,968 - wb-bert-fpt-mlm - INFO - [Epoch 3/4] Iteration 1830 -> Train Loss: 0.0453, Train Acc: 0.9610, Val Acc:0.9069395586824432\n"
     ]
    },
    {
     "data": {
      "application/vnd.jupyter.widget-view+json": {
       "model_id": "1c0a8af1b7824745b7a7de032f4aa5f3",
       "version_major": 2,
       "version_minor": 0
      },
      "text/plain": [
       "  0%|          | 0/614 [00:00<?, ?it/s]"
      ]
     },
     "metadata": {},
     "output_type": "display_data"
    },
    {
     "name": "stderr",
     "output_type": "stream",
     "text": [
      "2022-04-19 15:02:36,707 - wb-bert-fpt-mlm - INFO - [Epoch 4/4] Iteration 1891 -> Train Loss: 0.0345, Train Acc: 0.9728, Val Acc:0.908538535337384\n",
      "2022-04-19 15:02:46,841 - wb-bert-fpt-mlm - INFO - [Epoch 4/4] Iteration 1952 -> Train Loss: 0.0277, Train Acc: 0.9771, Val Acc:0.9075791493444195\n",
      "2022-04-19 15:02:56,976 - wb-bert-fpt-mlm - INFO - [Epoch 4/4] Iteration 2013 -> Train Loss: 0.0302, Train Acc: 0.9758, Val Acc:0.9091781259993604\n",
      "2022-04-19 15:03:07,138 - wb-bert-fpt-mlm - INFO - [Epoch 4/4] Iteration 2074 -> Train Loss: 0.0279, Train Acc: 0.9773, Val Acc:0.9088583306683723\n",
      "2022-04-19 15:03:17,269 - wb-bert-fpt-mlm - INFO - [Epoch 4/4] Iteration 2135 -> Train Loss: 0.0293, Train Acc: 0.9772, Val Acc:0.9078989446754078\n",
      "2022-04-19 15:03:27,394 - wb-bert-fpt-mlm - INFO - [Epoch 4/4] Iteration 2196 -> Train Loss: 0.0288, Train Acc: 0.9764, Val Acc:0.9088583306683723\n",
      "2022-04-19 15:03:37,507 - wb-bert-fpt-mlm - INFO - [Epoch 4/4] Iteration 2257 -> Train Loss: 0.0298, Train Acc: 0.9757, Val Acc:0.9088583306683723\n",
      "2022-04-19 15:03:47,651 - wb-bert-fpt-mlm - INFO - [Epoch 4/4] Iteration 2318 -> Train Loss: 0.0274, Train Acc: 0.9779, Val Acc:0.9094979213303486\n",
      "2022-04-19 15:03:57,853 - wb-bert-fpt-mlm - INFO - [Epoch 4/4] Iteration 2379 -> Train Loss: 0.0283, Train Acc: 0.9780, Val Acc:0.9094979213303486\n",
      "2022-04-19 15:04:07,953 - wb-bert-fpt-mlm - INFO - [Epoch 4/4] Iteration 2440 -> Train Loss: 0.0278, Train Acc: 0.9767, Val Acc:0.9088583306683723\n",
      "2022-04-19 15:04:12,130 - bwpdataset - INFO - ==> save_model : ../model/bert/bmc-fpt-wiki_20190620_mecab_false_0311-nouns-0418/batch:16-ep:4-lr:0.000067590-4m19d-15:4\n"
     ]
    },
    {
     "name": "stdout",
     "output_type": "stream",
     "text": [
      "\n"
     ]
    },
    {
     "data": {
      "text/html": [
       "Waiting for W&B process to finish... <strong style=\"color:green\">(success).</strong>"
      ],
      "text/plain": [
       "<IPython.core.display.HTML object>"
      ]
     },
     "metadata": {},
     "output_type": "display_data"
    },
    {
     "data": {
      "application/vnd.jupyter.widget-view+json": {
       "model_id": "",
       "version_major": 2,
       "version_minor": 0
      },
      "text/plain": [
       "VBox(children=(Label(value='0.001 MB of 0.001 MB uploaded (0.000 MB deduped)\\r'), FloatProgress(value=1.0, max…"
      ]
     },
     "metadata": {},
     "output_type": "display_data"
    },
    {
     "data": {
      "text/html": [
       "<style>\n",
       "    table.wandb td:nth-child(1) { padding: 0 10px; text-align: right }\n",
       "    .wandb-row { display: flex; flex-direction: row; flex-wrap: wrap; width: 100% }\n",
       "    .wandb-col { display: flex; flex-direction: column; flex-basis: 100%; flex: 1; padding: 10px; }\n",
       "    </style>\n",
       "<div class=\"wandb-row\"><div class=\"wandb-col\"><h3>Run history:</h3><br/><table class=\"wandb\"><tr><td>Loss</td><td>█▆▅▄▄▃▃▃▃▃▂▂▂▂▂▂▂▂▂▂▁▁▁▁▁▁▁▁▁▁▁▁▁▁▁▁▁▁▁▁</td></tr><tr><td>train_accuracy</td><td>▁▂▃▃▄▄▅▅▅▅▆▆▆▆▆▆▆▆▆▆▇▇▇▇▇▇▇▇▇▇██████████</td></tr><tr><td>val_accuracy</td><td>▁▃▃▅▆▆▇▇▇█▇▇█▇██████████████████████████</td></tr></table><br/></div><div class=\"wandb-col\"><h3>Run summary:</h3><br/><table class=\"wandb\"><tr><td>Loss</td><td>0.02777</td></tr><tr><td>train_accuracy</td><td>0.97668</td></tr><tr><td>val_accuracy</td><td>0.90886</td></tr></table><br/></div></div>"
      ],
      "text/plain": [
       "<IPython.core.display.HTML object>"
      ]
     },
     "metadata": {},
     "output_type": "display_data"
    },
    {
     "data": {
      "text/html": [
       "Synced <strong style=\"color:#cdcd00\">rural-sweep-2</strong>: <a href=\"https://wandb.ai/kobongsoo/bert-wb-mlm-test-2/runs/n0kyr6se\" target=\"_blank\">https://wandb.ai/kobongsoo/bert-wb-mlm-test-2/runs/n0kyr6se</a><br/>Synced 6 W&B file(s), 0 media file(s), 0 artifact file(s) and 0 other file(s)"
      ],
      "text/plain": [
       "<IPython.core.display.HTML object>"
      ]
     },
     "metadata": {},
     "output_type": "display_data"
    },
    {
     "data": {
      "text/html": [
       "Find logs at: <code>./wandb/run-20220419_145704-n0kyr6se/logs</code>"
      ],
      "text/plain": [
       "<IPython.core.display.HTML object>"
      ]
     },
     "metadata": {},
     "output_type": "display_data"
    }
   ],
   "source": [
    "# 훈련을 시작 (총 3번(epoch이 아님))\n",
    "wandb.agent(sweep_id, train, count=2)"
   ]
  },
  {
   "cell_type": "code",
   "execution_count": null,
   "id": "111fac71-a6d8-4eb6-bc77-e1bca6b19225",
   "metadata": {},
   "outputs": [],
   "source": []
  }
 ],
 "metadata": {
  "kernelspec": {
   "display_name": "Python 3 (ipykernel)",
   "language": "python",
   "name": "python3"
  },
  "language_info": {
   "codemirror_mode": {
    "name": "ipython",
    "version": 3
   },
   "file_extension": ".py",
   "mimetype": "text/x-python",
   "name": "python",
   "nbconvert_exporter": "python",
   "pygments_lexer": "ipython3",
   "version": "3.9.7"
  }
 },
 "nbformat": 4,
 "nbformat_minor": 5
}
