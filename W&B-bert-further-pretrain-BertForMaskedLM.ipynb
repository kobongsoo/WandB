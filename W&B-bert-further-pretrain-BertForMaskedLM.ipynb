{
 "cells": [
  {
   "cell_type": "code",
   "execution_count": 1,
   "id": "1bd66b12-3efc-49a7-bdeb-739ff11bd456",
   "metadata": {},
   "outputs": [
    {
     "name": "stdout",
     "output_type": "stream",
     "text": [
      "logfilepath:bwdataset_2022-04-15.log\n",
      "logfilepath:qnadataset_2022-04-15.log\n"
     ]
    }
   ],
   "source": [
    "# MLM 방식을 이용한 Further pre-traning 방식 구현 예제\n",
    "# 참고 소스 : https://towardsdatascience.com/masked-language-modelling-with-bert-7d49793e5d2c 참조 바람\n",
    "import torch\n",
    "import os\n",
    "\n",
    "from tqdm.notebook import tqdm\n",
    "from transformers import BertTokenizer, BertConfig, BertForMaskedLM, BertTokenizerFast\n",
    "from transformers import AdamW, get_linear_schedule_with_warmup\n",
    "from os import sys\n",
    "#sys.path.append('..')\n",
    "from myutils import GPU_info, seed_everything, mlogging"
   ]
  },
  {
   "cell_type": "code",
   "execution_count": 2,
   "id": "d7837f0b-29db-43f6-a649-c3608d2417ff",
   "metadata": {},
   "outputs": [
    {
     "name": "stderr",
     "output_type": "stream",
     "text": [
      "Failed to detect the name of this notebook, you can set it manually with the WANDB_NOTEBOOK_NAME environment variable to enable code saving.\n",
      "\u001b[34m\u001b[1mwandb\u001b[0m: Currently logged in as: \u001b[33mkobongsoo\u001b[0m (use `wandb login --relogin` to force relogin)\n"
     ]
    },
    {
     "data": {
      "text/plain": [
       "True"
      ]
     },
     "execution_count": 2,
     "metadata": {},
     "output_type": "execute_result"
    }
   ],
   "source": [
    "#======================================================================================================\n",
    "# *WandB 툴을 이용하여, HyperPrameter sweeps 하는 예제임(http://wandb.ai 에 회원가입 해야 함)\n",
    "#  \n",
    "# == HyperPrameter sweeps 과정 ==\n",
    "#\n",
    "# 1. 로그인\n",
    "# import wandb\n",
    "# wandb.login()  # 로그인 => wandb.ai 사이트에 로그인 후, API Key 입력해야 함\n",
    "#\n",
    "# 2. sweep_config 설정\n",
    "# sweep_config ={ \n",
    "#       'method': 'random', #grid, random\n",
    "#       'metric':{\n",
    "#           'name': 'val_accuracy', #loss\n",
    "#           'goal': 'maximize'      # loss일때는 minimize로 설정해야함\n",
    "#       },\n",
    "#      'parameters':{\n",
    "#           'learning_rate':{\n",
    "#               'distribution': 'uniform',\n",
    "#               'min' : 0,\n",
    "#               'max': 7e-5\n",
    "#           },\n",
    "#           'batch_size':{\n",
    "#               'values' : [8, 16, 32]\n",
    "#           },\n",
    "#           'epochs':{\n",
    "#               'values' : [2, 3, 4]\n",
    "#           }\n",
    "#       }\n",
    "#}\n",
    "#\n",
    "#sweep_id = wandb.sweep(sweep_config, project=\"bert-wb-test\")\n",
    "#\n",
    "# 3. wandb 초기화 \n",
    "# - wandb.init(config=config)\n",
    "#\n",
    "# 4. wandb 로그설정\n",
    "# - wandb.log({\"val_accuracy\": total_test_correct / total_test_len})\n",
    "#\n",
    "# 5. wand 실행\n",
    "# - wandb.agent(sweep_id, train, count=3)\n",
    "#\n",
    "# 6. wand 종료\n",
    "# -wandb.finish()\n",
    "#======================================================================================================\n",
    "# 1. 로그인\n",
    "#!pip install wandb -qqq\n",
    "import wandb\n",
    "wandb.login()  # 로그인 => wandb.ai 사이트에 로그인 후, API Key 입력해야 함"
   ]
  },
  {
   "cell_type": "code",
   "execution_count": 3,
   "id": "4b08e24a-e5e0-4ae5-9bc0-9c39a93a6a7a",
   "metadata": {},
   "outputs": [
    {
     "name": "stdout",
     "output_type": "stream",
     "text": [
      "Create sweep with ID: 4fsqluk6\n",
      "Sweep URL: https://wandb.ai/kobongsoo/bert-wb-mlm-test/sweeps/4fsqluk6\n"
     ]
    }
   ],
   "source": [
    "# 2. sweep_config 설정\n",
    "\n",
    "sweep_config ={ \n",
    "      'method': 'random', #grid, random\n",
    "      'metric':{\n",
    "          'name': 'val_accuracy', #loss\n",
    "          'goal': 'maximize'      # loss일때는 minimize로 설정해야함\n",
    "      },\n",
    "     'parameters':{\n",
    "          'learning_rate':{\n",
    "              'distribution': 'uniform',\n",
    "              'min' : 0,\n",
    "              'max': 7e-5\n",
    "          },\n",
    "          'batch_size':{\n",
    "              'values' : [8, 16, 32]\n",
    "          },\n",
    "          'epochs':{\n",
    "              'values' : [3, 4, 5]\n",
    "          }\n",
    "      }\n",
    "}\n",
    "\n",
    "sweep_id = wandb.sweep(sweep_config, project=\"bert-wb-mlm-test\")"
   ]
  },
  {
   "cell_type": "code",
   "execution_count": 4,
   "id": "f3321a0d-57d3-400b-be05-619e1bf63842",
   "metadata": {},
   "outputs": [
    {
     "name": "stdout",
     "output_type": "stream",
     "text": [
      "True\n",
      "device: cuda:0\n",
      "cuda index: 0\n",
      "gpu 개수: 1\n",
      "graphic name: NVIDIA A30\n",
      "cuda:0\n",
      "logfilepath:../log/wb-bert-fpt-mlm_2022-04-15.log\n"
     ]
    }
   ],
   "source": [
    "# 훈련시킬 말뭉치(사전 만들때 동일한 말뭉치 이용)\n",
    "input_corpus = \"../korpora/kowiki_20190620/wiki_20190620_small.txt\"\n",
    "\n",
    "# test 말뭉치 \n",
    "eval_corpus = \"../korpora/kowiki_20190620/wiki_eval_test.txt\"\n",
    "\n",
    "# 기존 사전훈련된 모델\n",
    "model_path = \"../model/bert/bmc-fpt-wiki_20190620_mecab_false_0311-nouns-0327/\"\n",
    "\n",
    "# 기존 사전 + 추가된 사전 파일\n",
    "#vocab_path=\"tokenizer/wiki_20190620_false_0311_speical/bmc_add_wiki_20190620_false_0311.txt\"\n",
    "vocab_path=\"../model/bert/bmc-fpt-wiki_20190620_mecab_false_0311-nouns-0327/\"\n",
    "\n",
    "# 출력\n",
    "OUTPATH = '../model/bert/bmc-fpt-wiki_20190620_mecab_false_0311-nouns-0414/'\n",
    "\n",
    "#batch_size = 32\n",
    "token_max_len = 128\n",
    "\n",
    "device = GPU_info()\n",
    "print(device)\n",
    "\n",
    "#seed 설정\n",
    "seed_everything(222)\n",
    "\n",
    "#logging 설정\n",
    "logger =  mlogging(loggername=\"wb-bert-fpt-mlm\", logfilename=\"../log/wb-bert-fpt-mlm\")"
   ]
  },
  {
   "cell_type": "code",
   "execution_count": 5,
   "id": "bd6fad4a-7b5b-4502-93bc-7564f197398e",
   "metadata": {},
   "outputs": [
    {
     "name": "stdout",
     "output_type": "stream",
     "text": [
      "special_token_size: 27, tokenizer.vocab_size: 167537\n",
      "vocab_size: 167560\n",
      "tokenizer_len: 167550\n"
     ]
    }
   ],
   "source": [
    "# tokeinzier 생성\n",
    "# tokenizer 생성\n",
    "# => BertTokenizer, BertTokenizerFast 둘중 사용하면됨\n",
    "\n",
    "#tokenizer = BertTokenizer(vocab_file=vocab_path, max_len=token_max_len, do_lower_case=False)\n",
    "tokenizer = BertTokenizer.from_pretrained(vocab_path, max_len=token_max_len, do_lower_case=False)\n",
    "# tokenizer = BertTokenizerFast(vocab_file=vocab_file, max_len=token_max_len, do_lower_case=False)\n",
    "\n",
    "\n",
    "# speical 토큰 계수 + vocab 계수 - 이미 vocab에 포함된 speical 토큰 계수(5)\n",
    "vocab_size = len(tokenizer.all_special_tokens) + tokenizer.vocab_size - 5 + 1\n",
    "#vocab_size = len(tokenizer.all_special_tokens) + tokenizer.vocab_size - 5\n",
    "print('special_token_size: {}, tokenizer.vocab_size: {}'.format(len(tokenizer.all_special_tokens), tokenizer.vocab_size))\n",
    "print('vocab_size: {}'.format(vocab_size))\n",
    "print('tokenizer_len: {}'.format(len(tokenizer)))\n"
   ]
  },
  {
   "cell_type": "code",
   "execution_count": 6,
   "id": "c2bfa9e0-34ad-4c1d-95b9-8fc65cfc0923",
   "metadata": {},
   "outputs": [],
   "source": [
    "def load_model():\n",
    "    # 모델 로딩 further pre-training \n",
    "    #config = BertConfig.from_pretrained(model_path)\n",
    "    #model = BertForMaskedLM.from_pretrained(model_path, from_tf=bool(\".ckpt\" in model_path), config=config) \n",
    "    model = BertForMaskedLM.from_pretrained(model_path)    \n",
    "\n",
    "    #################################################################################\n",
    "    # 모델 embedding 사이즈를 tokenizer 크기 만큼 재 설정함.\n",
    "    # 재설정하지 않으면, 다음과 같은 에러 발생함\n",
    "    # CUDA error: CUBLAS_STATUS_NOT_INITIALIZED when calling `cublasCreate(handle)` CUDA 에러가 발생함\n",
    "    #  indexSelectLargeIndex: block: [306,0,0], thread: [0,0,0] Assertion `srcIndex < srcSelectDimSize` failed.\n",
    "    #\n",
    "    #     해당 오류는 기존 Embedding(8002, 768, padding_idx=1) 처럼 입력 vocab 사이즈가 8002인데,\n",
    "    #     0~8001 사이를 초과하는 word idx 값이 들어가면 에러 발생함.\n",
    "    #################################################################################\n",
    "    model.resize_token_embeddings(len(tokenizer))\n",
    "\n",
    "    model.to(device)\n",
    "    \n",
    "    return model"
   ]
  },
  {
   "cell_type": "code",
   "execution_count": 7,
   "id": "8e41cf1f-4010-4348-8921-67d0f21ea09b",
   "metadata": {},
   "outputs": [],
   "source": [
    "def build_dataset(batch_size):\n",
    "    from torch.utils.data import DataLoader, RandomSampler\n",
    "    import sys\n",
    "    sys.path.append('..')\n",
    "    from myutils import MLMDataset\n",
    "  \n",
    "    # 각 스페셜 tokenid를 구함\n",
    "    CLStokenid = tokenizer.convert_tokens_to_ids('[CLS]')\n",
    "    SEPtokenid = tokenizer.convert_tokens_to_ids('[SEP]')\n",
    "    UNKtokenid = tokenizer.convert_tokens_to_ids('[UNK]')\n",
    "    PADtokenid = tokenizer.convert_tokens_to_ids('[PAD]')\n",
    "    MASKtokenid = tokenizer.convert_tokens_to_ids('[MASK]')\n",
    "    print('CLSid:{}, SEPid:{}, UNKid:{}, PADid:{}, MASKid:{}'.format(CLStokenid, SEPtokenid, UNKtokenid, PADtokenid, MASKtokenid))\n",
    "\n",
    "    #===============================================================================\n",
    "    # 학습 dataloader 생성\n",
    "    train_dataset = MLMDataset(corpus_path = input_corpus,\n",
    "                               tokenizer = tokenizer, \n",
    "                               CLStokeinid = CLStokenid ,   # [CLS] 토큰 id\n",
    "                               SEPtokenid = SEPtokenid ,    # [SEP] 토큰 id\n",
    "                               UNKtokenid = UNKtokenid ,    # [UNK] 토큰 id\n",
    "                               PADtokenid = PADtokenid,    # [PAD] 토큰 id\n",
    "                               Masktokenid = MASKtokenid,   # [MASK] 토큰 id\n",
    "                               max_sequence_len=token_max_len,  # max_sequence_len)\n",
    "                               mlm_probability=0.15,\n",
    "                               overwrite_cache=False\n",
    "                              )\n",
    "\n",
    "\n",
    "    # 학습 dataloader 생성\n",
    "    # => tenosor로 만듬\n",
    "    train_loader = DataLoader(train_dataset, \n",
    "                              batch_size=batch_size, \n",
    "                              #shuffle=True, # dataset을 섞음\n",
    "                              sampler=RandomSampler(train_dataset, replacement=False), #dataset을 랜덤하게 샘플링함\n",
    "                              num_workers=3\n",
    "                             )\n",
    "    #===============================================================================\n",
    "\n",
    "    #===============================================================================\n",
    "    # eval dataloader 생성\n",
    "    eval_dataset = MLMDataset(corpus_path = eval_corpus,\n",
    "                               tokenizer = tokenizer, \n",
    "                               CLStokeinid = CLStokenid ,   # [CLS] 토큰 id\n",
    "                               SEPtokenid = SEPtokenid ,    # [SEP] 토큰 id\n",
    "                               UNKtokenid = UNKtokenid ,    # [UNK] 토큰 id\n",
    "                               PADtokenid = PADtokenid,    # [PAD] 토큰 id\n",
    "                               Masktokenid = MASKtokenid,   # [MASK] 토큰 id\n",
    "                               max_sequence_len=token_max_len,  # max_sequence_len)\n",
    "                               mlm_probability=0.15,\n",
    "                               overwrite_cache=False\n",
    "                              )\n",
    "\n",
    "\n",
    "    # eval dataloader 생성\n",
    "    # => tenosor로 만듬\n",
    "    eval_loader = DataLoader(eval_dataset, \n",
    "                              batch_size=batch_size, \n",
    "                              #shuffle=True, # dataset을 섞음\n",
    "                              sampler=RandomSampler(eval_dataset, replacement=False), #dataset을 랜덤하게 샘플링함\n",
    "                              num_workers=3\n",
    "                             )\n",
    "     #===============================================================================\n",
    "\n",
    "    #print(train_dataset[0])\n",
    "    \n",
    "    return train_loader, eval_loader"
   ]
  },
  {
   "cell_type": "code",
   "execution_count": 8,
   "id": "89756e9c-7002-4d63-b2ef-a3431486fb74",
   "metadata": {},
   "outputs": [],
   "source": [
    "def Train_epoch(config,\n",
    "                model,\n",
    "                train_loader,\n",
    "                eval_loader):\n",
    "    \n",
    "    ##################################################\n",
    "    epochs = config.epochs            # epochs\n",
    "    learning_rate = config.learning_rate  # 학습률\n",
    "    #p_itr = 15000           # 손실률 보여줄 step 수\n",
    "    #save_steps = 50000     # 50000 step마다 모델 저장\n",
    "    ##################################################\n",
    "\n",
    "    # optimizer 적용\n",
    "    optimizer = AdamW(model.parameters(), \n",
    "                     lr=learning_rate, \n",
    "                     eps=1e-8) # 0으로 나누는 것을 방지하기 위한 epsilon 값(10^-6 ~ 10^-8 사이 이값 입력합)\n",
    "\n",
    "    # 총 훈련과정에서 반복할 스탭\n",
    "    total_steps = len(train_loader)*epochs\n",
    "    warmup_steps = total_steps * 0.1 #10% of train data for warm-up\n",
    "    \n",
    "    # 손실률 보여줄 step 수\n",
    "    p_itr = int(len(train_loader)*0.1)  \n",
    "    \n",
    "    # step마다 모델 저장\n",
    "    save_steps = int(total_steps * 0.2)\n",
    "    \n",
    "    # 스캐줄러 생성\n",
    "    scheduler = get_linear_schedule_with_warmup(optimizer, \n",
    "                                                num_warmup_steps=warmup_steps, \n",
    "                                                num_training_steps=total_steps)\n",
    "\n",
    "    itr = 1\n",
    "    total_loss = 0\n",
    "    total_len = 0\n",
    "    total_correct = 0\n",
    "    list_training_loss = []\n",
    "    list_acc_loss = []\n",
    "    list_validation_acc_loss = []\n",
    "\n",
    "    model.zero_grad()# 그래디언트 초기화\n",
    "    for epoch in tqdm(range(epochs)):\n",
    "\n",
    "        # model.train() # 훈련모드로 변환\n",
    "        for data in tqdm(train_loader):\n",
    "            model.train() # 훈련모드로 변환\n",
    "            #optimizer.zero_grad()\n",
    "            model.zero_grad()# 그래디언트 초기화\n",
    "\n",
    "            # 입력 값 설정\n",
    "            input_ids = data['input_ids'].to(device)\n",
    "            attention_mask = data['attention_mask'].to(device)\n",
    "            token_type_ids = data['token_type_ids'].to(device)       \n",
    "            labels = data['labels'].to(device)\n",
    "            #print('Labels:{}'.format(labels))\n",
    "\n",
    "            # 모델 실행\n",
    "            outputs = model(input_ids=input_ids, \n",
    "                            attention_mask=attention_mask,\n",
    "                            token_type_ids=token_type_ids,\n",
    "                            labels=labels)\n",
    "\n",
    "            # 출력값 loss,logits를 outputs에서 얻어옴\n",
    "            loss = outputs.loss\n",
    "            logits = outputs.logits\n",
    "            #print('Loss:{}, logits:{}'.format(loss, logits))\n",
    "\n",
    "            # optimizer 과 scheduler 업데이트 시킴\n",
    "            loss.backward()   # backward 구함\n",
    "            torch.nn.utils.clip_grad_norm_(model.parameters(), 1.0)   # 그래디언트 클리핑 (gradient vanishing이나 gradient exploding 방지하기 위한 기법)\n",
    "            optimizer.step()  # 가중치 파라미터 업데이트(optimizer 이동)\n",
    "            scheduler.step()  # 학습률 감소\n",
    "\n",
    "            # ***further pretrain 에는 손실률 계산을 넣지 않음\n",
    "            # 정확도 계산하는 부분은 no_grade 시켜서, 계산량을 줄임.\n",
    "\n",
    "            # => torch.no_grad()는 gradient을 계산하는 autograd engine를 비활성화 하여 \n",
    "            # 필요한 메모리를 줄이고, 연산속도를 증가시키는 역활을 함\n",
    "            with torch.no_grad():\n",
    "                \n",
    "                # 손실(loss) 계산 \n",
    "                total_loss += loss.item()\n",
    "                \n",
    "                # 정확도(Accurarcy) 계산\n",
    "                pred = torch.argmax(logits, dim=2)\n",
    "                correct = pred.eq(labels)\n",
    "                total_correct += correct.sum().item()\n",
    "                total_len += len(labels) * token_max_len   \n",
    "    \n",
    "                # 주기마다 test(validataion) 데이터로 평가하여 손실류 계산함.\n",
    "                if itr % p_itr == 0:\n",
    "                    logger.info('[Epoch {}/{}] Iteration {} -> Train Loss: {:.4f}, Train Acc: {:.4f}'.format(epoch+1, epochs, itr, total_loss/p_itr, total_correct/total_len))\n",
    "\n",
    "                    list_training_loss.append(total_loss/p_itr)\n",
    "                    \n",
    "                    # wandb 로그 기록\n",
    "                    wandb.log({\"Loss\": total_loss/p_itr,\n",
    "                              \"train_accuracy\": total_correct/total_len\n",
    "                              })\n",
    "                        \n",
    "                    total_loss = 0\n",
    "                    total_len = 0\n",
    "                    total_correct = 0\n",
    "                    \n",
    "                    ####################################################################\n",
    "                    # 주기마다 eval(validataion) 데이터로 평가하여 손실류 계산함.\n",
    "                    # 평가 시작\n",
    "                    model.eval()\n",
    "\n",
    "                    total_test_correct = 0\n",
    "                    total_test_len = 0\n",
    "\n",
    "                    #for data in tqdm(eval_loader):\n",
    "                    for data in eval_loader:\n",
    "                        # 입력 값 설정\n",
    "                        input_ids = data['input_ids'].to(device)\n",
    "                        attention_mask = data['attention_mask'].to(device)\n",
    "                        token_type_ids = data['token_type_ids'].to(device)       \n",
    "                        labels = data['labels'].to(device)\n",
    "\n",
    "                        # 손실률 계산하는 부분은 no_grade 시켜서, 계산량을 줄임.\n",
    "                        # => torch.no_grad()는 gradient을 계산하는 autograd engine를 비활성화 하여 \n",
    "                        # 필요한 메모리를 줄이고, 연산속도를 증가시키는 역활을 함\n",
    "                        with torch.no_grad():\n",
    "                            # 모델 실행\n",
    "                            outputs = model(input_ids=input_ids, \n",
    "                                            attention_mask=attention_mask,\n",
    "                                            token_type_ids=token_type_ids,\n",
    "                                            labels=labels)\n",
    "\n",
    "                            # 출력값 loss,logits를 outputs에서 얻어옴\n",
    "                            #loss = outputs.loss\n",
    "                            logits = outputs.logits\n",
    "\n",
    "                            # 정확도(Accurarcy) 계산\n",
    "                            pred = torch.argmax(logits, dim=2)\n",
    "                            correct = pred.eq(labels)\n",
    "                            total_test_correct += correct.sum().item()\n",
    "                            total_test_len += len(labels) * token_max_len \n",
    "\n",
    "                    list_validation_acc_loss.append(total_test_correct/total_test_len)\n",
    "                    logger.info(\"[Epoch {}/{}] Validatation Accuracy:{}\".format(epoch+1, epochs, total_test_correct / total_test_len))\n",
    "\n",
    "                    # wandb 로그 기록\n",
    "                    wandb.log({\"val_accuracy\": total_test_correct / total_test_len})\n",
    "\n",
    "                    ####################################################################\n",
    "\n",
    "                '''\n",
    "                if itr % save_steps == 0:\n",
    "                    #전체모델 저장\n",
    "                    TMP_OUT_PATH = OUTPATH + str(itr)\n",
    "                    os.makedirs(TMP_OUT_PATH, exist_ok=True)\n",
    "                    # save_pretrained 로 저장하면 config.json, pytorch_model.bin 2개의 파일이 생성됨\n",
    "                    model.save_pretrained(TMP_OUT_PATH)\n",
    "                    #torch.save(model, TMP_OUT_PATH + 'pytorch_model.bin') \n",
    "\n",
    "                    # tokeinizer 파일 저장(vocab)\n",
    "                    VOCAB_PATH = TMP_OUT_PATH\n",
    "                    #os.makedirs(VOCAB_PATH)\n",
    "                    tokenizer.save_pretrained(VOCAB_PATH)\n",
    "\n",
    "                    logger.info('Iteration {} -> save model:{}'.format(itr, TMP_OUT_PATH))\n",
    "                '''\n",
    "            itr+=1\n"
   ]
  },
  {
   "cell_type": "code",
   "execution_count": 9,
   "id": "09742433-658c-4fec-9ea3-bea2ad09a4cd",
   "metadata": {},
   "outputs": [],
   "source": [
    "# 훈련\n",
    "def train(config=None):\n",
    "    # wandb 초기화\n",
    "    with wandb.init(config=config):\n",
    "        config = wandb.config\n",
    "        \n",
    "        # 데이터 로더 생성\n",
    "        train_loader, eval_loader = build_dataset(config.batch_size)\n",
    "        \n",
    "        # 모델 로딩\n",
    "        tmodel = load_model()\n",
    "        \n",
    "        # 훈련 시작 \n",
    "        Train_epoch(config, tmodel, train_loader, eval_loader)"
   ]
  },
  {
   "cell_type": "code",
   "execution_count": 12,
   "id": "aa04ae9e-a88f-441b-9af4-dcff61530a85",
   "metadata": {},
   "outputs": [
    {
     "name": "stderr",
     "output_type": "stream",
     "text": [
      "\u001b[34m\u001b[1mwandb\u001b[0m: Agent Starting Run: hxjl1sxx with config:\n",
      "\u001b[34m\u001b[1mwandb\u001b[0m: \tbatch_size: 32\n",
      "\u001b[34m\u001b[1mwandb\u001b[0m: \tepochs: 5\n",
      "\u001b[34m\u001b[1mwandb\u001b[0m: \tlearning_rate: 3.880686219829353e-05\n",
      "Failed to detect the name of this notebook, you can set it manually with the WANDB_NOTEBOOK_NAME environment variable to enable code saving.\n"
     ]
    },
    {
     "data": {
      "text/html": [
       "Tracking run with wandb version 0.12.14"
      ],
      "text/plain": [
       "<IPython.core.display.HTML object>"
      ]
     },
     "metadata": {},
     "output_type": "display_data"
    },
    {
     "data": {
      "text/html": [
       "Run data is saved locally in <code>/MOCOMSYS/dev/bong/W&B/wandb/run-20220415_103606-hxjl1sxx</code>"
      ],
      "text/plain": [
       "<IPython.core.display.HTML object>"
      ]
     },
     "metadata": {},
     "output_type": "display_data"
    },
    {
     "data": {
      "text/html": [
       "Syncing run <strong><a href=\"https://wandb.ai/kobongsoo/bert-wb-mlm-test/runs/hxjl1sxx\" target=\"_blank\">sparkling-sweep-6</a></strong> to <a href=\"https://wandb.ai/kobongsoo/bert-wb-mlm-test\" target=\"_blank\">Weights & Biases</a> (<a href=\"https://wandb.me/run\" target=\"_blank\">docs</a>)<br/>Sweep page:  <a href=\"https://wandb.ai/kobongsoo/bert-wb-mlm-test/sweeps/4fsqluk6\" target=\"_blank\">https://wandb.ai/kobongsoo/bert-wb-mlm-test/sweeps/4fsqluk6</a>"
      ],
      "text/plain": [
       "<IPython.core.display.HTML object>"
      ]
     },
     "metadata": {},
     "output_type": "display_data"
    },
    {
     "name": "stderr",
     "output_type": "stream",
     "text": [
      "2022-04-15 10:36:12,821 - bwpdataset - INFO - ==>[Start] cached file read: ../korpora/kowiki_20190620/cached_lm_BertTokenizer_128_wiki_20190620_small.txt\n"
     ]
    },
    {
     "name": "stdout",
     "output_type": "stream",
     "text": [
      "CLSid:101, SEPid:102, UNKid:100, PADid:0, MASKid:103\n",
      "*corpus:../korpora/kowiki_20190620/wiki_20190620_small.txt\n",
      "*max_sequence_len:128\n",
      "*mlm_probability:0.15\n",
      "*CLStokenid:101, SEPtokenid:102, UNKtokenid:100, PADtokeinid:0, Masktokeid:103\n"
     ]
    },
    {
     "name": "stderr",
     "output_type": "stream",
     "text": [
      "2022-04-15 10:36:13,071 - bwpdataset - INFO - <==[End] Loading features from cached file ../korpora/kowiki_20190620/cached_lm_BertTokenizer_128_wiki_20190620_small.txt [took 0.248 s]\n"
     ]
    },
    {
     "name": "stdout",
     "output_type": "stream",
     "text": [
      "*corpus:../korpora/kowiki_20190620/wiki_eval_test.txt\n",
      "*max_sequence_len:128\n",
      "*mlm_probability:0.15\n",
      "*CLStokenid:101, SEPtokenid:102, UNKtokenid:100, PADtokeinid:0, Masktokeid:103\n",
      "*total_line: 114\n"
     ]
    },
    {
     "data": {
      "application/vnd.jupyter.widget-view+json": {
       "model_id": "660b278a2785423c98dfa90f0161d978",
       "version_major": 2,
       "version_minor": 0
      },
      "text/plain": [
       "  0%|          | 0/114 [00:00<?, ?it/s]"
      ]
     },
     "metadata": {},
     "output_type": "display_data"
    },
    {
     "data": {
      "application/vnd.jupyter.widget-view+json": {
       "model_id": "4b5bd6a3bf3e413eb56e2e7ed929bc8e",
       "version_major": 2,
       "version_minor": 0
      },
      "text/plain": [
       "  0%|          | 0/114 [00:00<?, ?it/s]"
      ]
     },
     "metadata": {},
     "output_type": "display_data"
    },
    {
     "data": {
      "application/vnd.jupyter.widget-view+json": {
       "model_id": "58273d9ee3b642039304690b90755031",
       "version_major": 2,
       "version_minor": 0
      },
      "text/plain": [
       "  0%|          | 0/5 [00:00<?, ?it/s]"
      ]
     },
     "metadata": {},
     "output_type": "display_data"
    },
    {
     "data": {
      "application/vnd.jupyter.widget-view+json": {
       "model_id": "995a84b8d5314e738423b6f5401f33a4",
       "version_major": 2,
       "version_minor": 0
      },
      "text/plain": [
       "  0%|          | 0/307 [00:00<?, ?it/s]"
      ]
     },
     "metadata": {},
     "output_type": "display_data"
    },
    {
     "name": "stderr",
     "output_type": "stream",
     "text": [
      "2022-04-15 10:36:25,711 - wb-bert-fpt-mlm - INFO - [Epoch 1/5] Iteration 30 -> Train Loss: 0.2275, Train Acc: 0.9723\n",
      "2022-04-15 10:36:26,498 - wb-bert-fpt-mlm - INFO - [Epoch 1/5] Validatation Accuracy:0.9710526315789474\n",
      "2022-04-15 10:36:34,720 - wb-bert-fpt-mlm - INFO - [Epoch 1/5] Iteration 60 -> Train Loss: 0.1617, Train Acc: 0.9771\n",
      "2022-04-15 10:36:35,510 - wb-bert-fpt-mlm - INFO - [Epoch 1/5] Validatation Accuracy:0.9736842105263158\n",
      "2022-04-15 10:36:43,759 - wb-bert-fpt-mlm - INFO - [Epoch 1/5] Iteration 90 -> Train Loss: 0.1390, Train Acc: 0.9789\n",
      "2022-04-15 10:36:44,563 - wb-bert-fpt-mlm - INFO - [Epoch 1/5] Validatation Accuracy:0.9759046052631579\n",
      "2022-04-15 10:36:52,807 - wb-bert-fpt-mlm - INFO - [Epoch 1/5] Iteration 120 -> Train Loss: 0.1222, Train Acc: 0.9811\n",
      "2022-04-15 10:36:53,664 - wb-bert-fpt-mlm - INFO - [Epoch 1/5] Validatation Accuracy:0.9768092105263158\n",
      "2022-04-15 10:37:01,849 - wb-bert-fpt-mlm - INFO - [Epoch 1/5] Iteration 150 -> Train Loss: 0.1290, Train Acc: 0.9798\n",
      "2022-04-15 10:37:02,655 - wb-bert-fpt-mlm - INFO - [Epoch 1/5] Validatation Accuracy:0.9773026315789474\n",
      "2022-04-15 10:37:10,893 - wb-bert-fpt-mlm - INFO - [Epoch 1/5] Iteration 180 -> Train Loss: 0.1142, Train Acc: 0.9818\n",
      "2022-04-15 10:37:11,670 - wb-bert-fpt-mlm - INFO - [Epoch 1/5] Validatation Accuracy:0.9777138157894737\n",
      "2022-04-15 10:37:19,893 - wb-bert-fpt-mlm - INFO - [Epoch 1/5] Iteration 210 -> Train Loss: 0.1159, Train Acc: 0.9816\n",
      "2022-04-15 10:37:20,700 - wb-bert-fpt-mlm - INFO - [Epoch 1/5] Validatation Accuracy:0.976891447368421\n",
      "2022-04-15 10:37:28,946 - wb-bert-fpt-mlm - INFO - [Epoch 1/5] Iteration 240 -> Train Loss: 0.1172, Train Acc: 0.9811\n",
      "2022-04-15 10:37:29,724 - wb-bert-fpt-mlm - INFO - [Epoch 1/5] Validatation Accuracy:0.9774671052631579\n",
      "2022-04-15 10:37:37,989 - wb-bert-fpt-mlm - INFO - [Epoch 1/5] Iteration 270 -> Train Loss: 0.1157, Train Acc: 0.9812\n",
      "2022-04-15 10:37:38,749 - wb-bert-fpt-mlm - INFO - [Epoch 1/5] Validatation Accuracy:0.9775493421052631\n",
      "2022-04-15 10:37:46,970 - wb-bert-fpt-mlm - INFO - [Epoch 1/5] Iteration 300 -> Train Loss: 0.1066, Train Acc: 0.9826\n",
      "2022-04-15 10:37:47,705 - wb-bert-fpt-mlm - INFO - [Epoch 1/5] Validatation Accuracy:0.9779605263157894\n"
     ]
    },
    {
     "data": {
      "application/vnd.jupyter.widget-view+json": {
       "model_id": "fd8803675522435da95ff0eeedf2b0d6",
       "version_major": 2,
       "version_minor": 0
      },
      "text/plain": [
       "  0%|          | 0/307 [00:00<?, ?it/s]"
      ]
     },
     "metadata": {},
     "output_type": "display_data"
    },
    {
     "name": "stderr",
     "output_type": "stream",
     "text": [
      "2022-04-15 10:37:56,361 - wb-bert-fpt-mlm - INFO - [Epoch 2/5] Iteration 330 -> Train Loss: 0.0940, Train Acc: 0.9837\n",
      "2022-04-15 10:37:57,141 - wb-bert-fpt-mlm - INFO - [Epoch 2/5] Validatation Accuracy:0.9783717105263158\n",
      "2022-04-15 10:38:05,431 - wb-bert-fpt-mlm - INFO - [Epoch 2/5] Iteration 360 -> Train Loss: 0.0838, Train Acc: 0.9855\n",
      "2022-04-15 10:38:06,215 - wb-bert-fpt-mlm - INFO - [Epoch 2/5] Validatation Accuracy:0.9782072368421053\n",
      "2022-04-15 10:38:14,533 - wb-bert-fpt-mlm - INFO - [Epoch 2/5] Iteration 390 -> Train Loss: 0.0826, Train Acc: 0.9854\n",
      "2022-04-15 10:38:15,305 - wb-bert-fpt-mlm - INFO - [Epoch 2/5] Validatation Accuracy:0.9780427631578947\n",
      "2022-04-15 10:38:23,555 - wb-bert-fpt-mlm - INFO - [Epoch 2/5] Iteration 420 -> Train Loss: 0.0803, Train Acc: 0.9860\n",
      "2022-04-15 10:38:24,352 - wb-bert-fpt-mlm - INFO - [Epoch 2/5] Validatation Accuracy:0.9782894736842105\n",
      "2022-04-15 10:38:32,640 - wb-bert-fpt-mlm - INFO - [Epoch 2/5] Iteration 450 -> Train Loss: 0.0792, Train Acc: 0.9857\n",
      "2022-04-15 10:38:33,481 - wb-bert-fpt-mlm - INFO - [Epoch 2/5] Validatation Accuracy:0.9787006578947368\n",
      "2022-04-15 10:38:41,784 - wb-bert-fpt-mlm - INFO - [Epoch 2/5] Iteration 480 -> Train Loss: 0.0781, Train Acc: 0.9861\n",
      "2022-04-15 10:38:42,535 - wb-bert-fpt-mlm - INFO - [Epoch 2/5] Validatation Accuracy:0.9787828947368421\n",
      "2022-04-15 10:38:50,813 - wb-bert-fpt-mlm - INFO - [Epoch 2/5] Iteration 510 -> Train Loss: 0.0825, Train Acc: 0.9854\n",
      "2022-04-15 10:38:51,566 - wb-bert-fpt-mlm - INFO - [Epoch 2/5] Validatation Accuracy:0.9786184210526315\n",
      "2022-04-15 10:38:59,797 - wb-bert-fpt-mlm - INFO - [Epoch 2/5] Iteration 540 -> Train Loss: 0.0811, Train Acc: 0.9857\n",
      "2022-04-15 10:39:00,553 - wb-bert-fpt-mlm - INFO - [Epoch 2/5] Validatation Accuracy:0.9786184210526315\n",
      "2022-04-15 10:39:08,807 - wb-bert-fpt-mlm - INFO - [Epoch 2/5] Iteration 570 -> Train Loss: 0.0802, Train Acc: 0.9859\n",
      "2022-04-15 10:39:09,587 - wb-bert-fpt-mlm - INFO - [Epoch 2/5] Validatation Accuracy:0.9789473684210527\n",
      "2022-04-15 10:39:17,736 - wb-bert-fpt-mlm - INFO - [Epoch 2/5] Iteration 600 -> Train Loss: 0.0763, Train Acc: 0.9860\n",
      "2022-04-15 10:39:18,535 - wb-bert-fpt-mlm - INFO - [Epoch 2/5] Validatation Accuracy:0.9788651315789474\n"
     ]
    },
    {
     "data": {
      "application/vnd.jupyter.widget-view+json": {
       "model_id": "20bea115eb7e4472be55bb17eb6d0677",
       "version_major": 2,
       "version_minor": 0
      },
      "text/plain": [
       "  0%|          | 0/307 [00:00<?, ?it/s]"
      ]
     },
     "metadata": {},
     "output_type": "display_data"
    },
    {
     "name": "stderr",
     "output_type": "stream",
     "text": [
      "2022-04-15 10:39:27,347 - wb-bert-fpt-mlm - INFO - [Epoch 3/5] Iteration 630 -> Train Loss: 0.0602, Train Acc: 0.9888\n",
      "2022-04-15 10:39:28,145 - wb-bert-fpt-mlm - INFO - [Epoch 3/5] Validatation Accuracy:0.9789473684210527\n",
      "2022-04-15 10:39:36,417 - wb-bert-fpt-mlm - INFO - [Epoch 3/5] Iteration 660 -> Train Loss: 0.0570, Train Acc: 0.9892\n",
      "2022-04-15 10:39:37,211 - wb-bert-fpt-mlm - INFO - [Epoch 3/5] Validatation Accuracy:0.9789473684210527\n",
      "2022-04-15 10:39:45,518 - wb-bert-fpt-mlm - INFO - [Epoch 3/5] Iteration 690 -> Train Loss: 0.0580, Train Acc: 0.9891\n",
      "2022-04-15 10:39:46,315 - wb-bert-fpt-mlm - INFO - [Epoch 3/5] Validatation Accuracy:0.9787828947368421\n",
      "2022-04-15 10:39:54,594 - wb-bert-fpt-mlm - INFO - [Epoch 3/5] Iteration 720 -> Train Loss: 0.0533, Train Acc: 0.9898\n",
      "2022-04-15 10:39:55,402 - wb-bert-fpt-mlm - INFO - [Epoch 3/5] Validatation Accuracy:0.9786184210526315\n",
      "2022-04-15 10:40:03,629 - wb-bert-fpt-mlm - INFO - [Epoch 3/5] Iteration 750 -> Train Loss: 0.0563, Train Acc: 0.9894\n",
      "2022-04-15 10:40:04,438 - wb-bert-fpt-mlm - INFO - [Epoch 3/5] Validatation Accuracy:0.9788651315789474\n",
      "2022-04-15 10:40:12,734 - wb-bert-fpt-mlm - INFO - [Epoch 3/5] Iteration 780 -> Train Loss: 0.0568, Train Acc: 0.9892\n",
      "2022-04-15 10:40:13,534 - wb-bert-fpt-mlm - INFO - [Epoch 3/5] Validatation Accuracy:0.9788651315789474\n",
      "2022-04-15 10:40:21,900 - wb-bert-fpt-mlm - INFO - [Epoch 3/5] Iteration 810 -> Train Loss: 0.0576, Train Acc: 0.9891\n",
      "2022-04-15 10:40:22,697 - wb-bert-fpt-mlm - INFO - [Epoch 3/5] Validatation Accuracy:0.9789473684210527\n",
      "2022-04-15 10:40:30,998 - wb-bert-fpt-mlm - INFO - [Epoch 3/5] Iteration 840 -> Train Loss: 0.0560, Train Acc: 0.9892\n",
      "2022-04-15 10:40:31,815 - wb-bert-fpt-mlm - INFO - [Epoch 3/5] Validatation Accuracy:0.9786184210526315\n",
      "2022-04-15 10:40:40,130 - wb-bert-fpt-mlm - INFO - [Epoch 3/5] Iteration 870 -> Train Loss: 0.0611, Train Acc: 0.9882\n",
      "2022-04-15 10:40:40,959 - wb-bert-fpt-mlm - INFO - [Epoch 3/5] Validatation Accuracy:0.9786184210526315\n",
      "2022-04-15 10:40:49,287 - wb-bert-fpt-mlm - INFO - [Epoch 3/5] Iteration 900 -> Train Loss: 0.0528, Train Acc: 0.9897\n",
      "2022-04-15 10:40:50,115 - wb-bert-fpt-mlm - INFO - [Epoch 3/5] Validatation Accuracy:0.9788651315789474\n"
     ]
    },
    {
     "data": {
      "application/vnd.jupyter.widget-view+json": {
       "model_id": "4ebd1738c3f04257a3834d3b4e7f20c0",
       "version_major": 2,
       "version_minor": 0
      },
      "text/plain": [
       "  0%|          | 0/307 [00:00<?, ?it/s]"
      ]
     },
     "metadata": {},
     "output_type": "display_data"
    },
    {
     "name": "stderr",
     "output_type": "stream",
     "text": [
      "2022-04-15 10:40:58,972 - wb-bert-fpt-mlm - INFO - [Epoch 4/5] Iteration 930 -> Train Loss: 0.0543, Train Acc: 0.9898\n",
      "2022-04-15 10:40:59,754 - wb-bert-fpt-mlm - INFO - [Epoch 4/5] Validatation Accuracy:0.9785361842105263\n",
      "2022-04-15 10:41:08,087 - wb-bert-fpt-mlm - INFO - [Epoch 4/5] Iteration 960 -> Train Loss: 0.0406, Train Acc: 0.9921\n",
      "2022-04-15 10:41:08,916 - wb-bert-fpt-mlm - INFO - [Epoch 4/5] Validatation Accuracy:0.9787828947368421\n",
      "2022-04-15 10:41:17,258 - wb-bert-fpt-mlm - INFO - [Epoch 4/5] Iteration 990 -> Train Loss: 0.0441, Train Acc: 0.9917\n",
      "2022-04-15 10:41:18,057 - wb-bert-fpt-mlm - INFO - [Epoch 4/5] Validatation Accuracy:0.9785361842105263\n",
      "2022-04-15 10:41:26,309 - wb-bert-fpt-mlm - INFO - [Epoch 4/5] Iteration 1020 -> Train Loss: 0.0433, Train Acc: 0.9917\n",
      "2022-04-15 10:41:27,155 - wb-bert-fpt-mlm - INFO - [Epoch 4/5] Validatation Accuracy:0.9784539473684211\n",
      "2022-04-15 10:41:35,464 - wb-bert-fpt-mlm - INFO - [Epoch 4/5] Iteration 1050 -> Train Loss: 0.0429, Train Acc: 0.9919\n",
      "2022-04-15 10:41:36,273 - wb-bert-fpt-mlm - INFO - [Epoch 4/5] Validatation Accuracy:0.9782072368421053\n",
      "2022-04-15 10:41:44,581 - wb-bert-fpt-mlm - INFO - [Epoch 4/5] Iteration 1080 -> Train Loss: 0.0418, Train Acc: 0.9919\n",
      "2022-04-15 10:41:45,399 - wb-bert-fpt-mlm - INFO - [Epoch 4/5] Validatation Accuracy:0.9786184210526315\n",
      "2022-04-15 10:41:53,719 - wb-bert-fpt-mlm - INFO - [Epoch 4/5] Iteration 1110 -> Train Loss: 0.0422, Train Acc: 0.9920\n",
      "2022-04-15 10:41:54,505 - wb-bert-fpt-mlm - INFO - [Epoch 4/5] Validatation Accuracy:0.9783717105263158\n",
      "2022-04-15 10:42:02,810 - wb-bert-fpt-mlm - INFO - [Epoch 4/5] Iteration 1140 -> Train Loss: 0.0407, Train Acc: 0.9920\n",
      "2022-04-15 10:42:03,608 - wb-bert-fpt-mlm - INFO - [Epoch 4/5] Validatation Accuracy:0.9786184210526315\n",
      "2022-04-15 10:42:11,936 - wb-bert-fpt-mlm - INFO - [Epoch 4/5] Iteration 1170 -> Train Loss: 0.0420, Train Acc: 0.9915\n",
      "2022-04-15 10:42:12,718 - wb-bert-fpt-mlm - INFO - [Epoch 4/5] Validatation Accuracy:0.9782894736842105\n",
      "2022-04-15 10:42:21,025 - wb-bert-fpt-mlm - INFO - [Epoch 4/5] Iteration 1200 -> Train Loss: 0.0417, Train Acc: 0.9919\n",
      "2022-04-15 10:42:21,844 - wb-bert-fpt-mlm - INFO - [Epoch 4/5] Validatation Accuracy:0.9787828947368421\n"
     ]
    },
    {
     "data": {
      "application/vnd.jupyter.widget-view+json": {
       "model_id": "3813a0e018c140029359582304b8c97f",
       "version_major": 2,
       "version_minor": 0
      },
      "text/plain": [
       "  0%|          | 0/307 [00:00<?, ?it/s]"
      ]
     },
     "metadata": {},
     "output_type": "display_data"
    },
    {
     "name": "stderr",
     "output_type": "stream",
     "text": [
      "2022-04-15 10:42:30,699 - wb-bert-fpt-mlm - INFO - [Epoch 5/5] Iteration 1230 -> Train Loss: 0.0397, Train Acc: 0.9923\n",
      "2022-04-15 10:42:31,487 - wb-bert-fpt-mlm - INFO - [Epoch 5/5] Validatation Accuracy:0.9786184210526315\n",
      "2022-04-15 10:42:39,745 - wb-bert-fpt-mlm - INFO - [Epoch 5/5] Iteration 1260 -> Train Loss: 0.0318, Train Acc: 0.9939\n",
      "2022-04-15 10:42:40,552 - wb-bert-fpt-mlm - INFO - [Epoch 5/5] Validatation Accuracy:0.9784539473684211\n",
      "2022-04-15 10:42:48,898 - wb-bert-fpt-mlm - INFO - [Epoch 5/5] Iteration 1290 -> Train Loss: 0.0347, Train Acc: 0.9933\n",
      "2022-04-15 10:42:49,706 - wb-bert-fpt-mlm - INFO - [Epoch 5/5] Validatation Accuracy:0.9784539473684211\n",
      "2022-04-15 10:42:58,035 - wb-bert-fpt-mlm - INFO - [Epoch 5/5] Iteration 1320 -> Train Loss: 0.0335, Train Acc: 0.9936\n",
      "2022-04-15 10:42:58,845 - wb-bert-fpt-mlm - INFO - [Epoch 5/5] Validatation Accuracy:0.9784539473684211\n",
      "2022-04-15 10:43:07,170 - wb-bert-fpt-mlm - INFO - [Epoch 5/5] Iteration 1350 -> Train Loss: 0.0360, Train Acc: 0.9934\n",
      "2022-04-15 10:43:07,980 - wb-bert-fpt-mlm - INFO - [Epoch 5/5] Validatation Accuracy:0.9785361842105263\n",
      "2022-04-15 10:43:16,314 - wb-bert-fpt-mlm - INFO - [Epoch 5/5] Iteration 1380 -> Train Loss: 0.0336, Train Acc: 0.9935\n",
      "2022-04-15 10:43:17,134 - wb-bert-fpt-mlm - INFO - [Epoch 5/5] Validatation Accuracy:0.9785361842105263\n",
      "2022-04-15 10:43:25,434 - wb-bert-fpt-mlm - INFO - [Epoch 5/5] Iteration 1410 -> Train Loss: 0.0339, Train Acc: 0.9935\n",
      "2022-04-15 10:43:26,203 - wb-bert-fpt-mlm - INFO - [Epoch 5/5] Validatation Accuracy:0.9785361842105263\n",
      "2022-04-15 10:43:34,520 - wb-bert-fpt-mlm - INFO - [Epoch 5/5] Iteration 1440 -> Train Loss: 0.0337, Train Acc: 0.9934\n",
      "2022-04-15 10:43:35,335 - wb-bert-fpt-mlm - INFO - [Epoch 5/5] Validatation Accuracy:0.9785361842105263\n",
      "2022-04-15 10:43:43,657 - wb-bert-fpt-mlm - INFO - [Epoch 5/5] Iteration 1470 -> Train Loss: 0.0358, Train Acc: 0.9930\n",
      "2022-04-15 10:43:44,444 - wb-bert-fpt-mlm - INFO - [Epoch 5/5] Validatation Accuracy:0.9785361842105263\n",
      "2022-04-15 10:43:52,775 - wb-bert-fpt-mlm - INFO - [Epoch 5/5] Iteration 1500 -> Train Loss: 0.0329, Train Acc: 0.9936\n",
      "2022-04-15 10:43:53,596 - wb-bert-fpt-mlm - INFO - [Epoch 5/5] Validatation Accuracy:0.9786184210526315\n",
      "2022-04-15 10:44:01,900 - wb-bert-fpt-mlm - INFO - [Epoch 5/5] Iteration 1530 -> Train Loss: 0.0360, Train Acc: 0.9933\n",
      "2022-04-15 10:44:02,715 - wb-bert-fpt-mlm - INFO - [Epoch 5/5] Validatation Accuracy:0.9786184210526315\n"
     ]
    },
    {
     "name": "stdout",
     "output_type": "stream",
     "text": [
      "\n"
     ]
    },
    {
     "data": {
      "text/html": [
       "Waiting for W&B process to finish... <strong style=\"color:green\">(success).</strong>"
      ],
      "text/plain": [
       "<IPython.core.display.HTML object>"
      ]
     },
     "metadata": {},
     "output_type": "display_data"
    },
    {
     "data": {
      "application/vnd.jupyter.widget-view+json": {
       "model_id": "",
       "version_major": 2,
       "version_minor": 0
      },
      "text/plain": [
       "VBox(children=(Label(value='0.001 MB of 0.001 MB uploaded (0.000 MB deduped)\\r'), FloatProgress(value=1.0, max…"
      ]
     },
     "metadata": {},
     "output_type": "display_data"
    },
    {
     "data": {
      "text/html": [
       "<style>\n",
       "    table.wandb td:nth-child(1) { padding: 0 10px; text-align: right }\n",
       "    .wandb-row { display: flex; flex-direction: row; flex-wrap: wrap; width: 100% }\n",
       "    .wandb-col { display: flex; flex-direction: column; flex-basis: 100%; flex: 1; padding: 10px; }\n",
       "    </style>\n",
       "<div class=\"wandb-row\"><div class=\"wandb-col\"><h3>Run history:</h3><br/><table class=\"wandb\"><tr><td>Loss</td><td>█▆▅▄▄▄▄▄▃▃▃▃▃▃▃▃▂▂▂▂▂▂▂▂▂▁▁▁▁▁▁▁▁▁▁▁▁▁▁▁</td></tr><tr><td>train_accuracy</td><td>▁▃▃▄▄▄▄▄▅▅▅▅▅▅▅▅▆▆▇▇▆▆▆▇▇▇▇▇▇▇▇▇████████</td></tr><tr><td>val_accuracy</td><td>▁▃▅▆▇▆▇▇▇▇▇████████████████▇██▇█████████</td></tr></table><br/></div><div class=\"wandb-col\"><h3>Run summary:</h3><br/><table class=\"wandb\"><tr><td>Loss</td><td>0.03596</td></tr><tr><td>train_accuracy</td><td>0.99325</td></tr><tr><td>val_accuracy</td><td>0.97862</td></tr></table><br/></div></div>"
      ],
      "text/plain": [
       "<IPython.core.display.HTML object>"
      ]
     },
     "metadata": {},
     "output_type": "display_data"
    },
    {
     "data": {
      "text/html": [
       "Synced <strong style=\"color:#cdcd00\">sparkling-sweep-6</strong>: <a href=\"https://wandb.ai/kobongsoo/bert-wb-mlm-test/runs/hxjl1sxx\" target=\"_blank\">https://wandb.ai/kobongsoo/bert-wb-mlm-test/runs/hxjl1sxx</a><br/>Synced 6 W&B file(s), 0 media file(s), 0 artifact file(s) and 0 other file(s)"
      ],
      "text/plain": [
       "<IPython.core.display.HTML object>"
      ]
     },
     "metadata": {},
     "output_type": "display_data"
    },
    {
     "data": {
      "text/html": [
       "Find logs at: <code>./wandb/run-20220415_103606-hxjl1sxx/logs</code>"
      ],
      "text/plain": [
       "<IPython.core.display.HTML object>"
      ]
     },
     "metadata": {},
     "output_type": "display_data"
    },
    {
     "name": "stderr",
     "output_type": "stream",
     "text": [
      "\u001b[34m\u001b[1mwandb\u001b[0m: Agent Starting Run: 15j4ezei with config:\n",
      "\u001b[34m\u001b[1mwandb\u001b[0m: \tbatch_size: 8\n",
      "\u001b[34m\u001b[1mwandb\u001b[0m: \tepochs: 3\n",
      "\u001b[34m\u001b[1mwandb\u001b[0m: \tlearning_rate: 4.7135827822144786e-05\n",
      "Failed to detect the name of this notebook, you can set it manually with the WANDB_NOTEBOOK_NAME environment variable to enable code saving.\n"
     ]
    },
    {
     "data": {
      "text/html": [
       "Tracking run with wandb version 0.12.14"
      ],
      "text/plain": [
       "<IPython.core.display.HTML object>"
      ]
     },
     "metadata": {},
     "output_type": "display_data"
    },
    {
     "data": {
      "text/html": [
       "Run data is saved locally in <code>/MOCOMSYS/dev/bong/W&B/wandb/run-20220415_104414-15j4ezei</code>"
      ],
      "text/plain": [
       "<IPython.core.display.HTML object>"
      ]
     },
     "metadata": {},
     "output_type": "display_data"
    },
    {
     "data": {
      "text/html": [
       "Syncing run <strong><a href=\"https://wandb.ai/kobongsoo/bert-wb-mlm-test/runs/15j4ezei\" target=\"_blank\">lunar-sweep-7</a></strong> to <a href=\"https://wandb.ai/kobongsoo/bert-wb-mlm-test\" target=\"_blank\">Weights & Biases</a> (<a href=\"https://wandb.me/run\" target=\"_blank\">docs</a>)<br/>Sweep page:  <a href=\"https://wandb.ai/kobongsoo/bert-wb-mlm-test/sweeps/4fsqluk6\" target=\"_blank\">https://wandb.ai/kobongsoo/bert-wb-mlm-test/sweeps/4fsqluk6</a>"
      ],
      "text/plain": [
       "<IPython.core.display.HTML object>"
      ]
     },
     "metadata": {},
     "output_type": "display_data"
    },
    {
     "name": "stderr",
     "output_type": "stream",
     "text": [
      "2022-04-15 10:44:20,698 - bwpdataset - INFO - ==>[Start] cached file read: ../korpora/kowiki_20190620/cached_lm_BertTokenizer_128_wiki_20190620_small.txt\n"
     ]
    },
    {
     "name": "stdout",
     "output_type": "stream",
     "text": [
      "CLSid:101, SEPid:102, UNKid:100, PADid:0, MASKid:103\n",
      "*corpus:../korpora/kowiki_20190620/wiki_20190620_small.txt\n",
      "*max_sequence_len:128\n",
      "*mlm_probability:0.15\n",
      "*CLStokenid:101, SEPtokenid:102, UNKtokenid:100, PADtokeinid:0, Masktokeid:103\n"
     ]
    },
    {
     "name": "stderr",
     "output_type": "stream",
     "text": [
      "2022-04-15 10:44:20,921 - bwpdataset - INFO - <==[End] Loading features from cached file ../korpora/kowiki_20190620/cached_lm_BertTokenizer_128_wiki_20190620_small.txt [took 0.222 s]\n"
     ]
    },
    {
     "name": "stdout",
     "output_type": "stream",
     "text": [
      "*corpus:../korpora/kowiki_20190620/wiki_eval_test.txt\n",
      "*max_sequence_len:128\n",
      "*mlm_probability:0.15\n",
      "*CLStokenid:101, SEPtokenid:102, UNKtokenid:100, PADtokeinid:0, Masktokeid:103\n",
      "*total_line: 114\n"
     ]
    },
    {
     "data": {
      "application/vnd.jupyter.widget-view+json": {
       "model_id": "53cf8a0737cf40289a7eee8cf6c05a44",
       "version_major": 2,
       "version_minor": 0
      },
      "text/plain": [
       "  0%|          | 0/114 [00:00<?, ?it/s]"
      ]
     },
     "metadata": {},
     "output_type": "display_data"
    },
    {
     "data": {
      "application/vnd.jupyter.widget-view+json": {
       "model_id": "7189526735474bb3800b3117d7228041",
       "version_major": 2,
       "version_minor": 0
      },
      "text/plain": [
       "  0%|          | 0/114 [00:00<?, ?it/s]"
      ]
     },
     "metadata": {},
     "output_type": "display_data"
    },
    {
     "data": {
      "application/vnd.jupyter.widget-view+json": {
       "model_id": "b5ff8b937b4b4319b473b1791c622491",
       "version_major": 2,
       "version_minor": 0
      },
      "text/plain": [
       "  0%|          | 0/3 [00:00<?, ?it/s]"
      ]
     },
     "metadata": {},
     "output_type": "display_data"
    },
    {
     "data": {
      "application/vnd.jupyter.widget-view+json": {
       "model_id": "4f5bfdc4629642e885a488f4de555c65",
       "version_major": 2,
       "version_minor": 0
      },
      "text/plain": [
       "  0%|          | 0/1228 [00:00<?, ?it/s]"
      ]
     },
     "metadata": {},
     "output_type": "display_data"
    },
    {
     "name": "stderr",
     "output_type": "stream",
     "text": [
      "2022-04-15 10:44:38,676 - wb-bert-fpt-mlm - INFO - [Epoch 1/3] Iteration 122 -> Train Loss: 0.1864, Train Acc: 0.9750\n",
      "2022-04-15 10:44:39,507 - wb-bert-fpt-mlm - INFO - [Epoch 1/3] Validatation Accuracy:0.9761513157894737\n",
      "2022-04-15 10:44:53,282 - wb-bert-fpt-mlm - INFO - [Epoch 1/3] Iteration 244 -> Train Loss: 0.1306, Train Acc: 0.9797\n",
      "2022-04-15 10:44:54,146 - wb-bert-fpt-mlm - INFO - [Epoch 1/3] Validatation Accuracy:0.9780427631578947\n",
      "2022-04-15 10:45:07,891 - wb-bert-fpt-mlm - INFO - [Epoch 1/3] Iteration 366 -> Train Loss: 0.1272, Train Acc: 0.9801\n",
      "2022-04-15 10:45:08,708 - wb-bert-fpt-mlm - INFO - [Epoch 1/3] Validatation Accuracy:0.978125\n",
      "2022-04-15 10:45:22,458 - wb-bert-fpt-mlm - INFO - [Epoch 1/3] Iteration 488 -> Train Loss: 0.1195, Train Acc: 0.9811\n",
      "2022-04-15 10:45:23,318 - wb-bert-fpt-mlm - INFO - [Epoch 1/3] Validatation Accuracy:0.9787006578947368\n",
      "2022-04-15 10:45:36,721 - wb-bert-fpt-mlm - INFO - [Epoch 1/3] Iteration 610 -> Train Loss: 0.1187, Train Acc: 0.9810\n",
      "2022-04-15 10:45:37,571 - wb-bert-fpt-mlm - INFO - [Epoch 1/3] Validatation Accuracy:0.9792763157894737\n",
      "2022-04-15 10:45:51,089 - wb-bert-fpt-mlm - INFO - [Epoch 1/3] Iteration 732 -> Train Loss: 0.1127, Train Acc: 0.9816\n",
      "2022-04-15 10:45:51,878 - wb-bert-fpt-mlm - INFO - [Epoch 1/3] Validatation Accuracy:0.9785361842105263\n",
      "2022-04-15 10:46:05,312 - wb-bert-fpt-mlm - INFO - [Epoch 1/3] Iteration 854 -> Train Loss: 0.1076, Train Acc: 0.9824\n",
      "2022-04-15 10:46:06,149 - wb-bert-fpt-mlm - INFO - [Epoch 1/3] Validatation Accuracy:0.9782894736842105\n",
      "2022-04-15 10:46:19,900 - wb-bert-fpt-mlm - INFO - [Epoch 1/3] Iteration 976 -> Train Loss: 0.1103, Train Acc: 0.9821\n",
      "2022-04-15 10:46:20,741 - wb-bert-fpt-mlm - INFO - [Epoch 1/3] Validatation Accuracy:0.9788651315789474\n",
      "2022-04-15 10:46:34,450 - wb-bert-fpt-mlm - INFO - [Epoch 1/3] Iteration 1098 -> Train Loss: 0.1113, Train Acc: 0.9823\n",
      "2022-04-15 10:46:35,255 - wb-bert-fpt-mlm - INFO - [Epoch 1/3] Validatation Accuracy:0.9791940789473684\n",
      "2022-04-15 10:46:48,553 - wb-bert-fpt-mlm - INFO - [Epoch 1/3] Iteration 1220 -> Train Loss: 0.1113, Train Acc: 0.9822\n",
      "2022-04-15 10:46:49,364 - wb-bert-fpt-mlm - INFO - [Epoch 1/3] Validatation Accuracy:0.9782072368421053\n"
     ]
    },
    {
     "data": {
      "application/vnd.jupyter.widget-view+json": {
       "model_id": "f6d88b03fc1240f8841be934d570fea4",
       "version_major": 2,
       "version_minor": 0
      },
      "text/plain": [
       "  0%|          | 0/1228 [00:00<?, ?it/s]"
      ]
     },
     "metadata": {},
     "output_type": "display_data"
    },
    {
     "name": "stderr",
     "output_type": "stream",
     "text": [
      "2022-04-15 10:47:02,829 - wb-bert-fpt-mlm - INFO - [Epoch 2/3] Iteration 1342 -> Train Loss: 0.0649, Train Acc: 0.9880\n",
      "2022-04-15 10:47:03,663 - wb-bert-fpt-mlm - INFO - [Epoch 2/3] Validatation Accuracy:0.9790296052631579\n",
      "2022-04-15 10:47:16,938 - wb-bert-fpt-mlm - INFO - [Epoch 2/3] Iteration 1464 -> Train Loss: 0.0658, Train Acc: 0.9877\n",
      "2022-04-15 10:47:17,772 - wb-bert-fpt-mlm - INFO - [Epoch 2/3] Validatation Accuracy:0.9788651315789474\n",
      "2022-04-15 10:47:31,374 - wb-bert-fpt-mlm - INFO - [Epoch 2/3] Iteration 1586 -> Train Loss: 0.0609, Train Acc: 0.9883\n",
      "2022-04-15 10:47:32,212 - wb-bert-fpt-mlm - INFO - [Epoch 2/3] Validatation Accuracy:0.9789473684210527\n",
      "2022-04-15 10:47:45,908 - wb-bert-fpt-mlm - INFO - [Epoch 2/3] Iteration 1708 -> Train Loss: 0.0620, Train Acc: 0.9885\n",
      "2022-04-15 10:47:46,760 - wb-bert-fpt-mlm - INFO - [Epoch 2/3] Validatation Accuracy:0.9792763157894737\n",
      "2022-04-15 10:48:00,444 - wb-bert-fpt-mlm - INFO - [Epoch 2/3] Iteration 1830 -> Train Loss: 0.0652, Train Acc: 0.9876\n",
      "2022-04-15 10:48:01,284 - wb-bert-fpt-mlm - INFO - [Epoch 2/3] Validatation Accuracy:0.9788651315789474\n",
      "2022-04-15 10:48:15,060 - wb-bert-fpt-mlm - INFO - [Epoch 2/3] Iteration 1952 -> Train Loss: 0.0642, Train Acc: 0.9880\n",
      "2022-04-15 10:48:15,901 - wb-bert-fpt-mlm - INFO - [Epoch 2/3] Validatation Accuracy:0.9787828947368421\n",
      "2022-04-15 10:48:29,630 - wb-bert-fpt-mlm - INFO - [Epoch 2/3] Iteration 2074 -> Train Loss: 0.0619, Train Acc: 0.9882\n",
      "2022-04-15 10:48:30,472 - wb-bert-fpt-mlm - INFO - [Epoch 2/3] Validatation Accuracy:0.9787828947368421\n",
      "2022-04-15 10:48:44,203 - wb-bert-fpt-mlm - INFO - [Epoch 2/3] Iteration 2196 -> Train Loss: 0.0654, Train Acc: 0.9875\n",
      "2022-04-15 10:48:45,041 - wb-bert-fpt-mlm - INFO - [Epoch 2/3] Validatation Accuracy:0.9796052631578948\n",
      "2022-04-15 10:48:58,804 - wb-bert-fpt-mlm - INFO - [Epoch 2/3] Iteration 2318 -> Train Loss: 0.0592, Train Acc: 0.9884\n",
      "2022-04-15 10:48:59,663 - wb-bert-fpt-mlm - INFO - [Epoch 2/3] Validatation Accuracy:0.9787828947368421\n",
      "2022-04-15 10:49:13,369 - wb-bert-fpt-mlm - INFO - [Epoch 2/3] Iteration 2440 -> Train Loss: 0.0651, Train Acc: 0.9877\n",
      "2022-04-15 10:49:14,187 - wb-bert-fpt-mlm - INFO - [Epoch 2/3] Validatation Accuracy:0.9789473684210527\n"
     ]
    },
    {
     "data": {
      "application/vnd.jupyter.widget-view+json": {
       "model_id": "99dbb73237e0418b861ba98d43b17289",
       "version_major": 2,
       "version_minor": 0
      },
      "text/plain": [
       "  0%|          | 0/1228 [00:00<?, ?it/s]"
      ]
     },
     "metadata": {},
     "output_type": "display_data"
    },
    {
     "name": "stderr",
     "output_type": "stream",
     "text": [
      "2022-04-15 10:49:28,298 - wb-bert-fpt-mlm - INFO - [Epoch 3/3] Iteration 2562 -> Train Loss: 0.0377, Train Acc: 0.9928\n",
      "2022-04-15 10:49:29,138 - wb-bert-fpt-mlm - INFO - [Epoch 3/3] Validatation Accuracy:0.9789473684210527\n",
      "2022-04-15 10:49:42,827 - wb-bert-fpt-mlm - INFO - [Epoch 3/3] Iteration 2684 -> Train Loss: 0.0355, Train Acc: 0.9933\n",
      "2022-04-15 10:49:43,671 - wb-bert-fpt-mlm - INFO - [Epoch 3/3] Validatation Accuracy:0.9786184210526315\n",
      "2022-04-15 10:49:57,427 - wb-bert-fpt-mlm - INFO - [Epoch 3/3] Iteration 2806 -> Train Loss: 0.0326, Train Acc: 0.9934\n",
      "2022-04-15 10:49:58,274 - wb-bert-fpt-mlm - INFO - [Epoch 3/3] Validatation Accuracy:0.9790296052631579\n",
      "2022-04-15 10:50:12,059 - wb-bert-fpt-mlm - INFO - [Epoch 3/3] Iteration 2928 -> Train Loss: 0.0351, Train Acc: 0.9932\n",
      "2022-04-15 10:50:12,929 - wb-bert-fpt-mlm - INFO - [Epoch 3/3] Validatation Accuracy:0.9787006578947368\n",
      "2022-04-15 10:50:26,263 - wb-bert-fpt-mlm - INFO - [Epoch 3/3] Iteration 3050 -> Train Loss: 0.0319, Train Acc: 0.9939\n",
      "2022-04-15 10:50:27,126 - wb-bert-fpt-mlm - INFO - [Epoch 3/3] Validatation Accuracy:0.9790296052631579\n",
      "2022-04-15 10:50:40,320 - wb-bert-fpt-mlm - INFO - [Epoch 3/3] Iteration 3172 -> Train Loss: 0.0361, Train Acc: 0.9931\n",
      "2022-04-15 10:50:41,163 - wb-bert-fpt-mlm - INFO - [Epoch 3/3] Validatation Accuracy:0.9787006578947368\n",
      "2022-04-15 10:50:54,920 - wb-bert-fpt-mlm - INFO - [Epoch 3/3] Iteration 3294 -> Train Loss: 0.0337, Train Acc: 0.9935\n",
      "2022-04-15 10:50:55,788 - wb-bert-fpt-mlm - INFO - [Epoch 3/3] Validatation Accuracy:0.9788651315789474\n",
      "2022-04-15 10:51:09,526 - wb-bert-fpt-mlm - INFO - [Epoch 3/3] Iteration 3416 -> Train Loss: 0.0314, Train Acc: 0.9939\n",
      "2022-04-15 10:51:10,380 - wb-bert-fpt-mlm - INFO - [Epoch 3/3] Validatation Accuracy:0.9785361842105263\n",
      "2022-04-15 10:51:24,114 - wb-bert-fpt-mlm - INFO - [Epoch 3/3] Iteration 3538 -> Train Loss: 0.0328, Train Acc: 0.9936\n",
      "2022-04-15 10:51:24,997 - wb-bert-fpt-mlm - INFO - [Epoch 3/3] Validatation Accuracy:0.9785361842105263\n",
      "2022-04-15 10:51:38,420 - wb-bert-fpt-mlm - INFO - [Epoch 3/3] Iteration 3660 -> Train Loss: 0.0329, Train Acc: 0.9935\n",
      "2022-04-15 10:51:39,243 - wb-bert-fpt-mlm - INFO - [Epoch 3/3] Validatation Accuracy:0.9787006578947368\n"
     ]
    },
    {
     "name": "stdout",
     "output_type": "stream",
     "text": [
      "\n"
     ]
    },
    {
     "data": {
      "text/html": [
       "Waiting for W&B process to finish... <strong style=\"color:green\">(success).</strong>"
      ],
      "text/plain": [
       "<IPython.core.display.HTML object>"
      ]
     },
     "metadata": {},
     "output_type": "display_data"
    },
    {
     "data": {
      "application/vnd.jupyter.widget-view+json": {
       "model_id": "",
       "version_major": 2,
       "version_minor": 0
      },
      "text/plain": [
       "VBox(children=(Label(value='0.001 MB of 0.001 MB uploaded (0.000 MB deduped)\\r'), FloatProgress(value=1.0, max…"
      ]
     },
     "metadata": {},
     "output_type": "display_data"
    },
    {
     "data": {
      "text/html": [
       "<style>\n",
       "    table.wandb td:nth-child(1) { padding: 0 10px; text-align: right }\n",
       "    .wandb-row { display: flex; flex-direction: row; flex-wrap: wrap; width: 100% }\n",
       "    .wandb-col { display: flex; flex-direction: column; flex-basis: 100%; flex: 1; padding: 10px; }\n",
       "    </style>\n",
       "<div class=\"wandb-row\"><div class=\"wandb-col\"><h3>Run history:</h3><br/><table class=\"wandb\"><tr><td>Loss</td><td>█▅▅▅▅▅▄▅▅▅▃▃▂▂▃▂▂▃▂▃▁▁▁▁▁▁▁▁▁▁</td></tr><tr><td>train_accuracy</td><td>▁▃▃▃▃▃▄▄▄▄▆▆▆▆▆▆▆▆▆▆██████████</td></tr><tr><td>val_accuracy</td><td>▁▅▅▆▇▆▅▇▇▅▇▇▇▇▇▆▆█▆▇▇▆▇▆▇▆▇▆▆▆</td></tr></table><br/></div><div class=\"wandb-col\"><h3>Run summary:</h3><br/><table class=\"wandb\"><tr><td>Loss</td><td>0.03294</td></tr><tr><td>train_accuracy</td><td>0.99347</td></tr><tr><td>val_accuracy</td><td>0.9787</td></tr></table><br/></div></div>"
      ],
      "text/plain": [
       "<IPython.core.display.HTML object>"
      ]
     },
     "metadata": {},
     "output_type": "display_data"
    },
    {
     "data": {
      "text/html": [
       "Synced <strong style=\"color:#cdcd00\">lunar-sweep-7</strong>: <a href=\"https://wandb.ai/kobongsoo/bert-wb-mlm-test/runs/15j4ezei\" target=\"_blank\">https://wandb.ai/kobongsoo/bert-wb-mlm-test/runs/15j4ezei</a><br/>Synced 6 W&B file(s), 0 media file(s), 0 artifact file(s) and 0 other file(s)"
      ],
      "text/plain": [
       "<IPython.core.display.HTML object>"
      ]
     },
     "metadata": {},
     "output_type": "display_data"
    },
    {
     "data": {
      "text/html": [
       "Find logs at: <code>./wandb/run-20220415_104414-15j4ezei/logs</code>"
      ],
      "text/plain": [
       "<IPython.core.display.HTML object>"
      ]
     },
     "metadata": {},
     "output_type": "display_data"
    },
    {
     "name": "stderr",
     "output_type": "stream",
     "text": [
      "\u001b[34m\u001b[1mwandb\u001b[0m: Agent Starting Run: wlmg18qn with config:\n",
      "\u001b[34m\u001b[1mwandb\u001b[0m: \tbatch_size: 32\n",
      "\u001b[34m\u001b[1mwandb\u001b[0m: \tepochs: 5\n",
      "\u001b[34m\u001b[1mwandb\u001b[0m: \tlearning_rate: 3.9656329308605424e-05\n",
      "Failed to detect the name of this notebook, you can set it manually with the WANDB_NOTEBOOK_NAME environment variable to enable code saving.\n"
     ]
    },
    {
     "data": {
      "text/html": [
       "Tracking run with wandb version 0.12.14"
      ],
      "text/plain": [
       "<IPython.core.display.HTML object>"
      ]
     },
     "metadata": {},
     "output_type": "display_data"
    },
    {
     "data": {
      "text/html": [
       "Run data is saved locally in <code>/MOCOMSYS/dev/bong/W&B/wandb/run-20220415_105150-wlmg18qn</code>"
      ],
      "text/plain": [
       "<IPython.core.display.HTML object>"
      ]
     },
     "metadata": {},
     "output_type": "display_data"
    },
    {
     "data": {
      "text/html": [
       "Syncing run <strong><a href=\"https://wandb.ai/kobongsoo/bert-wb-mlm-test/runs/wlmg18qn\" target=\"_blank\">jolly-sweep-8</a></strong> to <a href=\"https://wandb.ai/kobongsoo/bert-wb-mlm-test\" target=\"_blank\">Weights & Biases</a> (<a href=\"https://wandb.me/run\" target=\"_blank\">docs</a>)<br/>Sweep page:  <a href=\"https://wandb.ai/kobongsoo/bert-wb-mlm-test/sweeps/4fsqluk6\" target=\"_blank\">https://wandb.ai/kobongsoo/bert-wb-mlm-test/sweeps/4fsqluk6</a>"
      ],
      "text/plain": [
       "<IPython.core.display.HTML object>"
      ]
     },
     "metadata": {},
     "output_type": "display_data"
    },
    {
     "name": "stderr",
     "output_type": "stream",
     "text": [
      "2022-04-15 10:51:56,590 - bwpdataset - INFO - ==>[Start] cached file read: ../korpora/kowiki_20190620/cached_lm_BertTokenizer_128_wiki_20190620_small.txt\n"
     ]
    },
    {
     "name": "stdout",
     "output_type": "stream",
     "text": [
      "CLSid:101, SEPid:102, UNKid:100, PADid:0, MASKid:103\n",
      "*corpus:../korpora/kowiki_20190620/wiki_20190620_small.txt\n",
      "*max_sequence_len:128\n",
      "*mlm_probability:0.15\n",
      "*CLStokenid:101, SEPtokenid:102, UNKtokenid:100, PADtokeinid:0, Masktokeid:103\n"
     ]
    },
    {
     "name": "stderr",
     "output_type": "stream",
     "text": [
      "2022-04-15 10:51:57,105 - bwpdataset - INFO - <==[End] Loading features from cached file ../korpora/kowiki_20190620/cached_lm_BertTokenizer_128_wiki_20190620_small.txt [took 0.514 s]\n"
     ]
    },
    {
     "name": "stdout",
     "output_type": "stream",
     "text": [
      "*corpus:../korpora/kowiki_20190620/wiki_eval_test.txt\n",
      "*max_sequence_len:128\n",
      "*mlm_probability:0.15\n",
      "*CLStokenid:101, SEPtokenid:102, UNKtokenid:100, PADtokeinid:0, Masktokeid:103\n",
      "*total_line: 114\n"
     ]
    },
    {
     "data": {
      "application/vnd.jupyter.widget-view+json": {
       "model_id": "fd0653e1aa584f33811ef9e611c46ab9",
       "version_major": 2,
       "version_minor": 0
      },
      "text/plain": [
       "  0%|          | 0/114 [00:00<?, ?it/s]"
      ]
     },
     "metadata": {},
     "output_type": "display_data"
    },
    {
     "data": {
      "application/vnd.jupyter.widget-view+json": {
       "model_id": "e987d0f0b1784d918c9599e49bcd242a",
       "version_major": 2,
       "version_minor": 0
      },
      "text/plain": [
       "  0%|          | 0/114 [00:00<?, ?it/s]"
      ]
     },
     "metadata": {},
     "output_type": "display_data"
    },
    {
     "data": {
      "application/vnd.jupyter.widget-view+json": {
       "model_id": "ffb7580f5e81426e8cffbcb7617729b4",
       "version_major": 2,
       "version_minor": 0
      },
      "text/plain": [
       "  0%|          | 0/5 [00:00<?, ?it/s]"
      ]
     },
     "metadata": {},
     "output_type": "display_data"
    },
    {
     "data": {
      "application/vnd.jupyter.widget-view+json": {
       "model_id": "51e4f860b49a43fc93125e42a566efa7",
       "version_major": 2,
       "version_minor": 0
      },
      "text/plain": [
       "  0%|          | 0/307 [00:00<?, ?it/s]"
      ]
     },
     "metadata": {},
     "output_type": "display_data"
    },
    {
     "name": "stderr",
     "output_type": "stream",
     "text": [
      "2022-04-15 10:52:09,519 - wb-bert-fpt-mlm - INFO - [Epoch 1/5] Iteration 30 -> Train Loss: 0.2244, Train Acc: 0.9730\n",
      "2022-04-15 10:52:10,405 - wb-bert-fpt-mlm - INFO - [Epoch 1/5] Validatation Accuracy:0.9714638157894737\n",
      "2022-04-15 10:52:18,742 - wb-bert-fpt-mlm - INFO - [Epoch 1/5] Iteration 60 -> Train Loss: 0.1630, Train Acc: 0.9769\n",
      "2022-04-15 10:52:19,555 - wb-bert-fpt-mlm - INFO - [Epoch 1/5] Validatation Accuracy:0.9752467105263158\n",
      "2022-04-15 10:52:27,901 - wb-bert-fpt-mlm - INFO - [Epoch 1/5] Iteration 90 -> Train Loss: 0.1377, Train Acc: 0.9797\n",
      "2022-04-15 10:52:28,682 - wb-bert-fpt-mlm - INFO - [Epoch 1/5] Validatation Accuracy:0.9771381578947368\n",
      "2022-04-15 10:52:36,964 - wb-bert-fpt-mlm - INFO - [Epoch 1/5] Iteration 120 -> Train Loss: 0.1283, Train Acc: 0.9801\n",
      "2022-04-15 10:52:37,802 - wb-bert-fpt-mlm - INFO - [Epoch 1/5] Validatation Accuracy:0.9777138157894737\n",
      "2022-04-15 10:52:45,988 - wb-bert-fpt-mlm - INFO - [Epoch 1/5] Iteration 150 -> Train Loss: 0.1178, Train Acc: 0.9812\n",
      "2022-04-15 10:52:46,771 - wb-bert-fpt-mlm - INFO - [Epoch 1/5] Validatation Accuracy:0.978125\n",
      "2022-04-15 10:52:54,985 - wb-bert-fpt-mlm - INFO - [Epoch 1/5] Iteration 180 -> Train Loss: 0.1171, Train Acc: 0.9813\n",
      "2022-04-15 10:52:55,745 - wb-bert-fpt-mlm - INFO - [Epoch 1/5] Validatation Accuracy:0.9783717105263158\n",
      "2022-04-15 10:53:04,079 - wb-bert-fpt-mlm - INFO - [Epoch 1/5] Iteration 210 -> Train Loss: 0.1198, Train Acc: 0.9809\n",
      "2022-04-15 10:53:04,830 - wb-bert-fpt-mlm - INFO - [Epoch 1/5] Validatation Accuracy:0.9796052631578948\n",
      "2022-04-15 10:53:13,084 - wb-bert-fpt-mlm - INFO - [Epoch 1/5] Iteration 240 -> Train Loss: 0.1127, Train Acc: 0.9818\n",
      "2022-04-15 10:53:13,860 - wb-bert-fpt-mlm - INFO - [Epoch 1/5] Validatation Accuracy:0.9789473684210527\n",
      "2022-04-15 10:53:22,146 - wb-bert-fpt-mlm - INFO - [Epoch 1/5] Iteration 270 -> Train Loss: 0.1115, Train Acc: 0.9821\n",
      "2022-04-15 10:53:22,925 - wb-bert-fpt-mlm - INFO - [Epoch 1/5] Validatation Accuracy:0.9790296052631579\n",
      "2022-04-15 10:53:31,211 - wb-bert-fpt-mlm - INFO - [Epoch 1/5] Iteration 300 -> Train Loss: 0.1145, Train Acc: 0.9816\n",
      "2022-04-15 10:53:32,023 - wb-bert-fpt-mlm - INFO - [Epoch 1/5] Validatation Accuracy:0.9791118421052631\n"
     ]
    },
    {
     "data": {
      "application/vnd.jupyter.widget-view+json": {
       "model_id": "e708c53e7cb84c469f35afe844ec7708",
       "version_major": 2,
       "version_minor": 0
      },
      "text/plain": [
       "  0%|          | 0/307 [00:00<?, ?it/s]"
      ]
     },
     "metadata": {},
     "output_type": "display_data"
    },
    {
     "name": "stderr",
     "output_type": "stream",
     "text": [
      "2022-04-15 10:53:40,931 - wb-bert-fpt-mlm - INFO - [Epoch 2/5] Iteration 330 -> Train Loss: 0.0831, Train Acc: 0.9857\n",
      "2022-04-15 10:53:41,752 - wb-bert-fpt-mlm - INFO - [Epoch 2/5] Validatation Accuracy:0.9792763157894737\n",
      "2022-04-15 10:53:50,048 - wb-bert-fpt-mlm - INFO - [Epoch 2/5] Iteration 360 -> Train Loss: 0.0834, Train Acc: 0.9855\n",
      "2022-04-15 10:53:50,820 - wb-bert-fpt-mlm - INFO - [Epoch 2/5] Validatation Accuracy:0.9792763157894737\n",
      "2022-04-15 10:53:59,134 - wb-bert-fpt-mlm - INFO - [Epoch 2/5] Iteration 390 -> Train Loss: 0.0794, Train Acc: 0.9858\n",
      "2022-04-15 10:53:59,930 - wb-bert-fpt-mlm - INFO - [Epoch 2/5] Validatation Accuracy:0.9793585526315789\n",
      "2022-04-15 10:54:08,237 - wb-bert-fpt-mlm - INFO - [Epoch 2/5] Iteration 420 -> Train Loss: 0.0788, Train Acc: 0.9860\n",
      "2022-04-15 10:54:09,073 - wb-bert-fpt-mlm - INFO - [Epoch 2/5] Validatation Accuracy:0.9792763157894737\n",
      "2022-04-15 10:54:17,280 - wb-bert-fpt-mlm - INFO - [Epoch 2/5] Iteration 450 -> Train Loss: 0.0785, Train Acc: 0.9861\n",
      "2022-04-15 10:54:18,072 - wb-bert-fpt-mlm - INFO - [Epoch 2/5] Validatation Accuracy:0.9792763157894737\n",
      "2022-04-15 10:54:26,404 - wb-bert-fpt-mlm - INFO - [Epoch 2/5] Iteration 480 -> Train Loss: 0.0815, Train Acc: 0.9854\n",
      "2022-04-15 10:54:27,202 - wb-bert-fpt-mlm - INFO - [Epoch 2/5] Validatation Accuracy:0.9791118421052631\n",
      "2022-04-15 10:54:35,520 - wb-bert-fpt-mlm - INFO - [Epoch 2/5] Iteration 510 -> Train Loss: 0.0838, Train Acc: 0.9854\n",
      "2022-04-15 10:54:36,321 - wb-bert-fpt-mlm - INFO - [Epoch 2/5] Validatation Accuracy:0.9791118421052631\n",
      "2022-04-15 10:54:44,650 - wb-bert-fpt-mlm - INFO - [Epoch 2/5] Iteration 540 -> Train Loss: 0.0758, Train Acc: 0.9864\n",
      "2022-04-15 10:54:45,489 - wb-bert-fpt-mlm - INFO - [Epoch 2/5] Validatation Accuracy:0.9791940789473684\n",
      "2022-04-15 10:54:53,808 - wb-bert-fpt-mlm - INFO - [Epoch 2/5] Iteration 570 -> Train Loss: 0.0816, Train Acc: 0.9855\n",
      "2022-04-15 10:54:54,617 - wb-bert-fpt-mlm - INFO - [Epoch 2/5] Validatation Accuracy:0.9787828947368421\n",
      "2022-04-15 10:55:02,996 - wb-bert-fpt-mlm - INFO - [Epoch 2/5] Iteration 600 -> Train Loss: 0.0784, Train Acc: 0.9859\n",
      "2022-04-15 10:55:03,849 - wb-bert-fpt-mlm - INFO - [Epoch 2/5] Validatation Accuracy:0.9793585526315789\n"
     ]
    },
    {
     "data": {
      "application/vnd.jupyter.widget-view+json": {
       "model_id": "ad1175b7d3ee4e54ad3350fcabfc4619",
       "version_major": 2,
       "version_minor": 0
      },
      "text/plain": [
       "  0%|          | 0/307 [00:00<?, ?it/s]"
      ]
     },
     "metadata": {},
     "output_type": "display_data"
    },
    {
     "name": "stderr",
     "output_type": "stream",
     "text": [
      "2022-04-15 10:55:12,573 - wb-bert-fpt-mlm - INFO - [Epoch 3/5] Iteration 630 -> Train Loss: 0.0698, Train Acc: 0.9870\n",
      "2022-04-15 10:55:13,336 - wb-bert-fpt-mlm - INFO - [Epoch 3/5] Validatation Accuracy:0.9795230263157895\n",
      "2022-04-15 10:55:21,662 - wb-bert-fpt-mlm - INFO - [Epoch 3/5] Iteration 660 -> Train Loss: 0.0531, Train Acc: 0.9899\n",
      "2022-04-15 10:55:22,472 - wb-bert-fpt-mlm - INFO - [Epoch 3/5] Validatation Accuracy:0.9796052631578948\n",
      "2022-04-15 10:55:30,793 - wb-bert-fpt-mlm - INFO - [Epoch 3/5] Iteration 690 -> Train Loss: 0.0528, Train Acc: 0.9900\n",
      "2022-04-15 10:55:31,599 - wb-bert-fpt-mlm - INFO - [Epoch 3/5] Validatation Accuracy:0.9796052631578948\n",
      "2022-04-15 10:55:39,905 - wb-bert-fpt-mlm - INFO - [Epoch 3/5] Iteration 720 -> Train Loss: 0.0545, Train Acc: 0.9897\n",
      "2022-04-15 10:55:40,736 - wb-bert-fpt-mlm - INFO - [Epoch 3/5] Validatation Accuracy:0.9789473684210527\n",
      "2022-04-15 10:55:49,062 - wb-bert-fpt-mlm - INFO - [Epoch 3/5] Iteration 750 -> Train Loss: 0.0558, Train Acc: 0.9894\n",
      "2022-04-15 10:55:49,888 - wb-bert-fpt-mlm - INFO - [Epoch 3/5] Validatation Accuracy:0.9796052631578948\n",
      "2022-04-15 10:55:58,206 - wb-bert-fpt-mlm - INFO - [Epoch 3/5] Iteration 780 -> Train Loss: 0.0542, Train Acc: 0.9899\n",
      "2022-04-15 10:55:58,991 - wb-bert-fpt-mlm - INFO - [Epoch 3/5] Validatation Accuracy:0.9792763157894737\n",
      "2022-04-15 10:56:07,296 - wb-bert-fpt-mlm - INFO - [Epoch 3/5] Iteration 810 -> Train Loss: 0.0582, Train Acc: 0.9890\n",
      "2022-04-15 10:56:08,077 - wb-bert-fpt-mlm - INFO - [Epoch 3/5] Validatation Accuracy:0.9794407894736842\n",
      "2022-04-15 10:56:16,397 - wb-bert-fpt-mlm - INFO - [Epoch 3/5] Iteration 840 -> Train Loss: 0.0562, Train Acc: 0.9892\n",
      "2022-04-15 10:56:17,165 - wb-bert-fpt-mlm - INFO - [Epoch 3/5] Validatation Accuracy:0.9795230263157895\n",
      "2022-04-15 10:56:25,482 - wb-bert-fpt-mlm - INFO - [Epoch 3/5] Iteration 870 -> Train Loss: 0.0573, Train Acc: 0.9889\n",
      "2022-04-15 10:56:26,263 - wb-bert-fpt-mlm - INFO - [Epoch 3/5] Validatation Accuracy:0.9796052631578948\n",
      "2022-04-15 10:56:34,586 - wb-bert-fpt-mlm - INFO - [Epoch 3/5] Iteration 900 -> Train Loss: 0.0571, Train Acc: 0.9889\n",
      "2022-04-15 10:56:35,360 - wb-bert-fpt-mlm - INFO - [Epoch 3/5] Validatation Accuracy:0.9798519736842105\n"
     ]
    },
    {
     "data": {
      "application/vnd.jupyter.widget-view+json": {
       "model_id": "d5c6b0493ed74200a881aa43cdaa8c17",
       "version_major": 2,
       "version_minor": 0
      },
      "text/plain": [
       "  0%|          | 0/307 [00:00<?, ?it/s]"
      ]
     },
     "metadata": {},
     "output_type": "display_data"
    },
    {
     "name": "stderr",
     "output_type": "stream",
     "text": [
      "2022-04-15 10:56:44,196 - wb-bert-fpt-mlm - INFO - [Epoch 4/5] Iteration 930 -> Train Loss: 0.0494, Train Acc: 0.9907\n",
      "2022-04-15 10:56:44,951 - wb-bert-fpt-mlm - INFO - [Epoch 4/5] Validatation Accuracy:0.9793585526315789\n",
      "2022-04-15 10:56:53,291 - wb-bert-fpt-mlm - INFO - [Epoch 4/5] Iteration 960 -> Train Loss: 0.0412, Train Acc: 0.9922\n",
      "2022-04-15 10:56:54,082 - wb-bert-fpt-mlm - INFO - [Epoch 4/5] Validatation Accuracy:0.9795230263157895\n",
      "2022-04-15 10:57:02,363 - wb-bert-fpt-mlm - INFO - [Epoch 4/5] Iteration 990 -> Train Loss: 0.0402, Train Acc: 0.9922\n",
      "2022-04-15 10:57:03,149 - wb-bert-fpt-mlm - INFO - [Epoch 4/5] Validatation Accuracy:0.9792763157894737\n",
      "2022-04-15 10:57:11,419 - wb-bert-fpt-mlm - INFO - [Epoch 4/5] Iteration 1020 -> Train Loss: 0.0405, Train Acc: 0.9921\n",
      "2022-04-15 10:57:12,192 - wb-bert-fpt-mlm - INFO - [Epoch 4/5] Validatation Accuracy:0.9794407894736842\n",
      "2022-04-15 10:57:20,495 - wb-bert-fpt-mlm - INFO - [Epoch 4/5] Iteration 1050 -> Train Loss: 0.0405, Train Acc: 0.9920\n",
      "2022-04-15 10:57:21,295 - wb-bert-fpt-mlm - INFO - [Epoch 4/5] Validatation Accuracy:0.9791940789473684\n",
      "2022-04-15 10:57:29,629 - wb-bert-fpt-mlm - INFO - [Epoch 4/5] Iteration 1080 -> Train Loss: 0.0427, Train Acc: 0.9918\n",
      "2022-04-15 10:57:30,407 - wb-bert-fpt-mlm - INFO - [Epoch 4/5] Validatation Accuracy:0.9793585526315789\n",
      "2022-04-15 10:57:38,732 - wb-bert-fpt-mlm - INFO - [Epoch 4/5] Iteration 1110 -> Train Loss: 0.0384, Train Acc: 0.9925\n",
      "2022-04-15 10:57:39,509 - wb-bert-fpt-mlm - INFO - [Epoch 4/5] Validatation Accuracy:0.9794407894736842\n",
      "2022-04-15 10:57:47,833 - wb-bert-fpt-mlm - INFO - [Epoch 4/5] Iteration 1140 -> Train Loss: 0.0432, Train Acc: 0.9917\n",
      "2022-04-15 10:57:48,615 - wb-bert-fpt-mlm - INFO - [Epoch 4/5] Validatation Accuracy:0.9793585526315789\n",
      "2022-04-15 10:57:56,850 - wb-bert-fpt-mlm - INFO - [Epoch 4/5] Iteration 1170 -> Train Loss: 0.0402, Train Acc: 0.9923\n",
      "2022-04-15 10:57:57,620 - wb-bert-fpt-mlm - INFO - [Epoch 4/5] Validatation Accuracy:0.9792763157894737\n",
      "2022-04-15 10:58:05,887 - wb-bert-fpt-mlm - INFO - [Epoch 4/5] Iteration 1200 -> Train Loss: 0.0401, Train Acc: 0.9923\n",
      "2022-04-15 10:58:06,668 - wb-bert-fpt-mlm - INFO - [Epoch 4/5] Validatation Accuracy:0.9794407894736842\n"
     ]
    },
    {
     "data": {
      "application/vnd.jupyter.widget-view+json": {
       "model_id": "ddf5feef055248aba5f52b3fa332a6a3",
       "version_major": 2,
       "version_minor": 0
      },
      "text/plain": [
       "  0%|          | 0/307 [00:00<?, ?it/s]"
      ]
     },
     "metadata": {},
     "output_type": "display_data"
    },
    {
     "name": "stderr",
     "output_type": "stream",
     "text": [
      "2022-04-15 10:58:15,473 - wb-bert-fpt-mlm - INFO - [Epoch 5/5] Iteration 1230 -> Train Loss: 0.0420, Train Acc: 0.9916\n",
      "2022-04-15 10:58:16,227 - wb-bert-fpt-mlm - INFO - [Epoch 5/5] Validatation Accuracy:0.9793585526315789\n",
      "2022-04-15 10:58:24,543 - wb-bert-fpt-mlm - INFO - [Epoch 5/5] Iteration 1260 -> Train Loss: 0.0337, Train Acc: 0.9937\n",
      "2022-04-15 10:58:25,332 - wb-bert-fpt-mlm - INFO - [Epoch 5/5] Validatation Accuracy:0.9795230263157895\n",
      "2022-04-15 10:58:33,567 - wb-bert-fpt-mlm - INFO - [Epoch 5/5] Iteration 1290 -> Train Loss: 0.0329, Train Acc: 0.9940\n",
      "2022-04-15 10:58:34,338 - wb-bert-fpt-mlm - INFO - [Epoch 5/5] Validatation Accuracy:0.9795230263157895\n",
      "2022-04-15 10:58:42,708 - wb-bert-fpt-mlm - INFO - [Epoch 5/5] Iteration 1320 -> Train Loss: 0.0320, Train Acc: 0.9940\n",
      "2022-04-15 10:58:43,502 - wb-bert-fpt-mlm - INFO - [Epoch 5/5] Validatation Accuracy:0.9793585526315789\n",
      "2022-04-15 10:58:51,802 - wb-bert-fpt-mlm - INFO - [Epoch 5/5] Iteration 1350 -> Train Loss: 0.0345, Train Acc: 0.9934\n",
      "2022-04-15 10:58:52,568 - wb-bert-fpt-mlm - INFO - [Epoch 5/5] Validatation Accuracy:0.9793585526315789\n",
      "2022-04-15 10:59:00,865 - wb-bert-fpt-mlm - INFO - [Epoch 5/5] Iteration 1380 -> Train Loss: 0.0330, Train Acc: 0.9938\n",
      "2022-04-15 10:59:01,626 - wb-bert-fpt-mlm - INFO - [Epoch 5/5] Validatation Accuracy:0.9793585526315789\n",
      "2022-04-15 10:59:09,900 - wb-bert-fpt-mlm - INFO - [Epoch 5/5] Iteration 1410 -> Train Loss: 0.0332, Train Acc: 0.9935\n",
      "2022-04-15 10:59:10,688 - wb-bert-fpt-mlm - INFO - [Epoch 5/5] Validatation Accuracy:0.9793585526315789\n",
      "2022-04-15 10:59:19,017 - wb-bert-fpt-mlm - INFO - [Epoch 5/5] Iteration 1440 -> Train Loss: 0.0315, Train Acc: 0.9940\n",
      "2022-04-15 10:59:19,864 - wb-bert-fpt-mlm - INFO - [Epoch 5/5] Validatation Accuracy:0.9796052631578948\n",
      "2022-04-15 10:59:28,240 - wb-bert-fpt-mlm - INFO - [Epoch 5/5] Iteration 1470 -> Train Loss: 0.0331, Train Acc: 0.9936\n",
      "2022-04-15 10:59:29,004 - wb-bert-fpt-mlm - INFO - [Epoch 5/5] Validatation Accuracy:0.9796052631578948\n",
      "2022-04-15 10:59:37,318 - wb-bert-fpt-mlm - INFO - [Epoch 5/5] Iteration 1500 -> Train Loss: 0.0362, Train Acc: 0.9932\n",
      "2022-04-15 10:59:38,067 - wb-bert-fpt-mlm - INFO - [Epoch 5/5] Validatation Accuracy:0.9796875\n",
      "2022-04-15 10:59:46,379 - wb-bert-fpt-mlm - INFO - [Epoch 5/5] Iteration 1530 -> Train Loss: 0.0311, Train Acc: 0.9940\n",
      "2022-04-15 10:59:47,184 - wb-bert-fpt-mlm - INFO - [Epoch 5/5] Validatation Accuracy:0.9796875\n"
     ]
    },
    {
     "name": "stdout",
     "output_type": "stream",
     "text": [
      "\n"
     ]
    },
    {
     "data": {
      "text/html": [
       "Waiting for W&B process to finish... <strong style=\"color:green\">(success).</strong>"
      ],
      "text/plain": [
       "<IPython.core.display.HTML object>"
      ]
     },
     "metadata": {},
     "output_type": "display_data"
    },
    {
     "data": {
      "application/vnd.jupyter.widget-view+json": {
       "model_id": "",
       "version_major": 2,
       "version_minor": 0
      },
      "text/plain": [
       "VBox(children=(Label(value='0.001 MB of 0.001 MB uploaded (0.000 MB deduped)\\r'), FloatProgress(value=1.0, max…"
      ]
     },
     "metadata": {},
     "output_type": "display_data"
    },
    {
     "data": {
      "text/html": [
       "<style>\n",
       "    table.wandb td:nth-child(1) { padding: 0 10px; text-align: right }\n",
       "    .wandb-row { display: flex; flex-direction: row; flex-wrap: wrap; width: 100% }\n",
       "    .wandb-col { display: flex; flex-direction: column; flex-basis: 100%; flex: 1; padding: 10px; }\n",
       "    </style>\n",
       "<div class=\"wandb-row\"><div class=\"wandb-col\"><h3>Run history:</h3><br/><table class=\"wandb\"><tr><td>Loss</td><td>█▆▅▅▄▄▄▄▃▃▃▃▃▃▃▃▂▂▂▂▂▂▂▂▂▁▁▁▁▁▁▁▁▁▁▁▁▁▁▁</td></tr><tr><td>train_accuracy</td><td>▁▂▃▃▄▄▄▄▅▅▅▅▅▅▅▅▆▇▇▆▇▆▆▆▇▇▇▇▇▇▇▇████████</td></tr><tr><td>val_accuracy</td><td>▁▄▆▆▇█▇▇████▇▇▇███▇████████▇████████████</td></tr></table><br/></div><div class=\"wandb-col\"><h3>Run summary:</h3><br/><table class=\"wandb\"><tr><td>Loss</td><td>0.03112</td></tr><tr><td>train_accuracy</td><td>0.994</td></tr><tr><td>val_accuracy</td><td>0.97969</td></tr></table><br/></div></div>"
      ],
      "text/plain": [
       "<IPython.core.display.HTML object>"
      ]
     },
     "metadata": {},
     "output_type": "display_data"
    },
    {
     "data": {
      "text/html": [
       "Synced <strong style=\"color:#cdcd00\">jolly-sweep-8</strong>: <a href=\"https://wandb.ai/kobongsoo/bert-wb-mlm-test/runs/wlmg18qn\" target=\"_blank\">https://wandb.ai/kobongsoo/bert-wb-mlm-test/runs/wlmg18qn</a><br/>Synced 6 W&B file(s), 0 media file(s), 0 artifact file(s) and 0 other file(s)"
      ],
      "text/plain": [
       "<IPython.core.display.HTML object>"
      ]
     },
     "metadata": {},
     "output_type": "display_data"
    },
    {
     "data": {
      "text/html": [
       "Find logs at: <code>./wandb/run-20220415_105150-wlmg18qn/logs</code>"
      ],
      "text/plain": [
       "<IPython.core.display.HTML object>"
      ]
     },
     "metadata": {},
     "output_type": "display_data"
    },
    {
     "name": "stderr",
     "output_type": "stream",
     "text": [
      "\u001b[34m\u001b[1mwandb\u001b[0m: Agent Starting Run: cryuteb9 with config:\n",
      "\u001b[34m\u001b[1mwandb\u001b[0m: \tbatch_size: 32\n",
      "\u001b[34m\u001b[1mwandb\u001b[0m: \tepochs: 3\n",
      "\u001b[34m\u001b[1mwandb\u001b[0m: \tlearning_rate: 3.103372875261932e-05\n",
      "Failed to detect the name of this notebook, you can set it manually with the WANDB_NOTEBOOK_NAME environment variable to enable code saving.\n"
     ]
    },
    {
     "data": {
      "text/html": [
       "Tracking run with wandb version 0.12.14"
      ],
      "text/plain": [
       "<IPython.core.display.HTML object>"
      ]
     },
     "metadata": {},
     "output_type": "display_data"
    },
    {
     "data": {
      "text/html": [
       "Run data is saved locally in <code>/MOCOMSYS/dev/bong/W&B/wandb/run-20220415_105957-cryuteb9</code>"
      ],
      "text/plain": [
       "<IPython.core.display.HTML object>"
      ]
     },
     "metadata": {},
     "output_type": "display_data"
    },
    {
     "data": {
      "text/html": [
       "Syncing run <strong><a href=\"https://wandb.ai/kobongsoo/bert-wb-mlm-test/runs/cryuteb9\" target=\"_blank\">spring-sweep-9</a></strong> to <a href=\"https://wandb.ai/kobongsoo/bert-wb-mlm-test\" target=\"_blank\">Weights & Biases</a> (<a href=\"https://wandb.me/run\" target=\"_blank\">docs</a>)<br/>Sweep page:  <a href=\"https://wandb.ai/kobongsoo/bert-wb-mlm-test/sweeps/4fsqluk6\" target=\"_blank\">https://wandb.ai/kobongsoo/bert-wb-mlm-test/sweeps/4fsqluk6</a>"
      ],
      "text/plain": [
       "<IPython.core.display.HTML object>"
      ]
     },
     "metadata": {},
     "output_type": "display_data"
    },
    {
     "name": "stderr",
     "output_type": "stream",
     "text": [
      "2022-04-15 11:00:04,055 - bwpdataset - INFO - ==>[Start] cached file read: ../korpora/kowiki_20190620/cached_lm_BertTokenizer_128_wiki_20190620_small.txt\n"
     ]
    },
    {
     "name": "stdout",
     "output_type": "stream",
     "text": [
      "CLSid:101, SEPid:102, UNKid:100, PADid:0, MASKid:103\n",
      "*corpus:../korpora/kowiki_20190620/wiki_20190620_small.txt\n",
      "*max_sequence_len:128\n",
      "*mlm_probability:0.15\n",
      "*CLStokenid:101, SEPtokenid:102, UNKtokenid:100, PADtokeinid:0, Masktokeid:103\n"
     ]
    },
    {
     "name": "stderr",
     "output_type": "stream",
     "text": [
      "2022-04-15 11:00:04,576 - bwpdataset - INFO - <==[End] Loading features from cached file ../korpora/kowiki_20190620/cached_lm_BertTokenizer_128_wiki_20190620_small.txt [took 0.520 s]\n"
     ]
    },
    {
     "name": "stdout",
     "output_type": "stream",
     "text": [
      "*corpus:../korpora/kowiki_20190620/wiki_eval_test.txt\n",
      "*max_sequence_len:128\n",
      "*mlm_probability:0.15\n",
      "*CLStokenid:101, SEPtokenid:102, UNKtokenid:100, PADtokeinid:0, Masktokeid:103\n",
      "*total_line: 114\n"
     ]
    },
    {
     "data": {
      "application/vnd.jupyter.widget-view+json": {
       "model_id": "7fd491f03ae74a749e339fcfe8cf6a37",
       "version_major": 2,
       "version_minor": 0
      },
      "text/plain": [
       "  0%|          | 0/114 [00:00<?, ?it/s]"
      ]
     },
     "metadata": {},
     "output_type": "display_data"
    },
    {
     "data": {
      "application/vnd.jupyter.widget-view+json": {
       "model_id": "ba10105cdf8e45caa426f335ae58f0b8",
       "version_major": 2,
       "version_minor": 0
      },
      "text/plain": [
       "  0%|          | 0/114 [00:00<?, ?it/s]"
      ]
     },
     "metadata": {},
     "output_type": "display_data"
    },
    {
     "data": {
      "application/vnd.jupyter.widget-view+json": {
       "model_id": "803617f07397400aba93bc641f2c00cf",
       "version_major": 2,
       "version_minor": 0
      },
      "text/plain": [
       "  0%|          | 0/3 [00:00<?, ?it/s]"
      ]
     },
     "metadata": {},
     "output_type": "display_data"
    },
    {
     "data": {
      "application/vnd.jupyter.widget-view+json": {
       "model_id": "06d08b2cd047415b97be7238bf919c32",
       "version_major": 2,
       "version_minor": 0
      },
      "text/plain": [
       "  0%|          | 0/307 [00:00<?, ?it/s]"
      ]
     },
     "metadata": {},
     "output_type": "display_data"
    },
    {
     "name": "stderr",
     "output_type": "stream",
     "text": [
      "2022-04-15 11:00:16,812 - wb-bert-fpt-mlm - INFO - [Epoch 1/3] Iteration 30 -> Train Loss: 0.2218, Train Acc: 0.9732\n",
      "2022-04-15 11:00:17,626 - wb-bert-fpt-mlm - INFO - [Epoch 1/3] Validatation Accuracy:0.9722039473684211\n",
      "2022-04-15 11:00:25,920 - wb-bert-fpt-mlm - INFO - [Epoch 1/3] Iteration 60 -> Train Loss: 0.1566, Train Acc: 0.9774\n",
      "2022-04-15 11:00:26,711 - wb-bert-fpt-mlm - INFO - [Epoch 1/3] Validatation Accuracy:0.9752467105263158\n",
      "2022-04-15 11:00:35,016 - wb-bert-fpt-mlm - INFO - [Epoch 1/3] Iteration 90 -> Train Loss: 0.1395, Train Acc: 0.9785\n",
      "2022-04-15 11:00:35,848 - wb-bert-fpt-mlm - INFO - [Epoch 1/3] Validatation Accuracy:0.9768092105263158\n",
      "2022-04-15 11:00:44,176 - wb-bert-fpt-mlm - INFO - [Epoch 1/3] Iteration 120 -> Train Loss: 0.1342, Train Acc: 0.9792\n",
      "2022-04-15 11:00:45,029 - wb-bert-fpt-mlm - INFO - [Epoch 1/3] Validatation Accuracy:0.9770559210526316\n",
      "2022-04-15 11:00:53,328 - wb-bert-fpt-mlm - INFO - [Epoch 1/3] Iteration 150 -> Train Loss: 0.1259, Train Acc: 0.9804\n",
      "2022-04-15 11:00:54,142 - wb-bert-fpt-mlm - INFO - [Epoch 1/3] Validatation Accuracy:0.9772203947368421\n",
      "2022-04-15 11:01:02,465 - wb-bert-fpt-mlm - INFO - [Epoch 1/3] Iteration 180 -> Train Loss: 0.1170, Train Acc: 0.9817\n",
      "2022-04-15 11:01:03,238 - wb-bert-fpt-mlm - INFO - [Epoch 1/3] Validatation Accuracy:0.9779605263157894\n",
      "2022-04-15 11:01:11,513 - wb-bert-fpt-mlm - INFO - [Epoch 1/3] Iteration 210 -> Train Loss: 0.1095, Train Acc: 0.9823\n",
      "2022-04-15 11:01:12,282 - wb-bert-fpt-mlm - INFO - [Epoch 1/3] Validatation Accuracy:0.9785361842105263\n",
      "2022-04-15 11:01:20,683 - wb-bert-fpt-mlm - INFO - [Epoch 1/3] Iteration 240 -> Train Loss: 0.1092, Train Acc: 0.9820\n",
      "2022-04-15 11:01:21,442 - wb-bert-fpt-mlm - INFO - [Epoch 1/3] Validatation Accuracy:0.9782072368421053\n",
      "2022-04-15 11:01:29,725 - wb-bert-fpt-mlm - INFO - [Epoch 1/3] Iteration 270 -> Train Loss: 0.1078, Train Acc: 0.9823\n",
      "2022-04-15 11:01:30,469 - wb-bert-fpt-mlm - INFO - [Epoch 1/3] Validatation Accuracy:0.9782072368421053\n",
      "2022-04-15 11:01:38,671 - wb-bert-fpt-mlm - INFO - [Epoch 1/3] Iteration 300 -> Train Loss: 0.1085, Train Acc: 0.9826\n",
      "2022-04-15 11:01:39,443 - wb-bert-fpt-mlm - INFO - [Epoch 1/3] Validatation Accuracy:0.9784539473684211\n"
     ]
    },
    {
     "data": {
      "application/vnd.jupyter.widget-view+json": {
       "model_id": "da2a9a4bf08a4543bac4f474148d189c",
       "version_major": 2,
       "version_minor": 0
      },
      "text/plain": [
       "  0%|          | 0/307 [00:00<?, ?it/s]"
      ]
     },
     "metadata": {},
     "output_type": "display_data"
    },
    {
     "name": "stderr",
     "output_type": "stream",
     "text": [
      "2022-04-15 11:01:48,337 - wb-bert-fpt-mlm - INFO - [Epoch 2/3] Iteration 330 -> Train Loss: 0.0905, Train Acc: 0.9842\n",
      "2022-04-15 11:01:49,119 - wb-bert-fpt-mlm - INFO - [Epoch 2/3] Validatation Accuracy:0.9787828947368421\n",
      "2022-04-15 11:01:57,312 - wb-bert-fpt-mlm - INFO - [Epoch 2/3] Iteration 360 -> Train Loss: 0.0842, Train Acc: 0.9853\n",
      "2022-04-15 11:01:58,072 - wb-bert-fpt-mlm - INFO - [Epoch 2/3] Validatation Accuracy:0.9787828947368421\n",
      "2022-04-15 11:02:06,357 - wb-bert-fpt-mlm - INFO - [Epoch 2/3] Iteration 390 -> Train Loss: 0.0865, Train Acc: 0.9849\n",
      "2022-04-15 11:02:07,131 - wb-bert-fpt-mlm - INFO - [Epoch 2/3] Validatation Accuracy:0.9785361842105263\n",
      "2022-04-15 11:02:15,410 - wb-bert-fpt-mlm - INFO - [Epoch 2/3] Iteration 420 -> Train Loss: 0.0813, Train Acc: 0.9857\n",
      "2022-04-15 11:02:16,178 - wb-bert-fpt-mlm - INFO - [Epoch 2/3] Validatation Accuracy:0.9784539473684211\n",
      "2022-04-15 11:02:24,492 - wb-bert-fpt-mlm - INFO - [Epoch 2/3] Iteration 450 -> Train Loss: 0.0835, Train Acc: 0.9855\n",
      "2022-04-15 11:02:25,283 - wb-bert-fpt-mlm - INFO - [Epoch 2/3] Validatation Accuracy:0.9787828947368421\n",
      "2022-04-15 11:02:33,579 - wb-bert-fpt-mlm - INFO - [Epoch 2/3] Iteration 480 -> Train Loss: 0.0861, Train Acc: 0.9851\n",
      "2022-04-15 11:02:34,297 - wb-bert-fpt-mlm - INFO - [Epoch 2/3] Validatation Accuracy:0.9784539473684211\n",
      "2022-04-15 11:02:42,476 - wb-bert-fpt-mlm - INFO - [Epoch 2/3] Iteration 510 -> Train Loss: 0.0851, Train Acc: 0.9851\n",
      "2022-04-15 11:02:43,242 - wb-bert-fpt-mlm - INFO - [Epoch 2/3] Validatation Accuracy:0.9786184210526315\n",
      "2022-04-15 11:02:51,569 - wb-bert-fpt-mlm - INFO - [Epoch 2/3] Iteration 540 -> Train Loss: 0.0826, Train Acc: 0.9857\n",
      "2022-04-15 11:02:52,335 - wb-bert-fpt-mlm - INFO - [Epoch 2/3] Validatation Accuracy:0.9786184210526315\n",
      "2022-04-15 11:03:00,627 - wb-bert-fpt-mlm - INFO - [Epoch 2/3] Iteration 570 -> Train Loss: 0.0811, Train Acc: 0.9855\n",
      "2022-04-15 11:03:01,422 - wb-bert-fpt-mlm - INFO - [Epoch 2/3] Validatation Accuracy:0.9782072368421053\n",
      "2022-04-15 11:03:09,710 - wb-bert-fpt-mlm - INFO - [Epoch 2/3] Iteration 600 -> Train Loss: 0.0824, Train Acc: 0.9853\n",
      "2022-04-15 11:03:10,503 - wb-bert-fpt-mlm - INFO - [Epoch 2/3] Validatation Accuracy:0.9787828947368421\n"
     ]
    },
    {
     "data": {
      "application/vnd.jupyter.widget-view+json": {
       "model_id": "10b693297c584c538ff0f4ad017389ca",
       "version_major": 2,
       "version_minor": 0
      },
      "text/plain": [
       "  0%|          | 0/307 [00:00<?, ?it/s]"
      ]
     },
     "metadata": {},
     "output_type": "display_data"
    },
    {
     "name": "stderr",
     "output_type": "stream",
     "text": [
      "2022-04-15 11:03:19,387 - wb-bert-fpt-mlm - INFO - [Epoch 3/3] Iteration 630 -> Train Loss: 0.0777, Train Acc: 0.9864\n",
      "2022-04-15 11:03:20,173 - wb-bert-fpt-mlm - INFO - [Epoch 3/3] Validatation Accuracy:0.9782894736842105\n",
      "2022-04-15 11:03:28,112 - wb-bert-fpt-mlm - INFO - [Epoch 3/3] Iteration 660 -> Train Loss: 0.0683, Train Acc: 0.9875\n",
      "2022-04-15 11:03:28,919 - wb-bert-fpt-mlm - INFO - [Epoch 3/3] Validatation Accuracy:0.9788651315789474\n",
      "2022-04-15 11:03:37,243 - wb-bert-fpt-mlm - INFO - [Epoch 3/3] Iteration 690 -> Train Loss: 0.0659, Train Acc: 0.9880\n",
      "2022-04-15 11:03:38,011 - wb-bert-fpt-mlm - INFO - [Epoch 3/3] Validatation Accuracy:0.9787828947368421\n",
      "2022-04-15 11:03:46,312 - wb-bert-fpt-mlm - INFO - [Epoch 3/3] Iteration 720 -> Train Loss: 0.0660, Train Acc: 0.9878\n",
      "2022-04-15 11:03:47,108 - wb-bert-fpt-mlm - INFO - [Epoch 3/3] Validatation Accuracy:0.9787006578947368\n",
      "2022-04-15 11:03:55,421 - wb-bert-fpt-mlm - INFO - [Epoch 3/3] Iteration 750 -> Train Loss: 0.0665, Train Acc: 0.9876\n",
      "2022-04-15 11:03:56,196 - wb-bert-fpt-mlm - INFO - [Epoch 3/3] Validatation Accuracy:0.9782072368421053\n",
      "2022-04-15 11:04:04,490 - wb-bert-fpt-mlm - INFO - [Epoch 3/3] Iteration 780 -> Train Loss: 0.0652, Train Acc: 0.9882\n",
      "2022-04-15 11:04:05,305 - wb-bert-fpt-mlm - INFO - [Epoch 3/3] Validatation Accuracy:0.9784539473684211\n",
      "2022-04-15 11:04:13,525 - wb-bert-fpt-mlm - INFO - [Epoch 3/3] Iteration 810 -> Train Loss: 0.0635, Train Acc: 0.9882\n",
      "2022-04-15 11:04:14,281 - wb-bert-fpt-mlm - INFO - [Epoch 3/3] Validatation Accuracy:0.9787006578947368\n",
      "2022-04-15 11:04:22,581 - wb-bert-fpt-mlm - INFO - [Epoch 3/3] Iteration 840 -> Train Loss: 0.0663, Train Acc: 0.9878\n",
      "2022-04-15 11:04:23,377 - wb-bert-fpt-mlm - INFO - [Epoch 3/3] Validatation Accuracy:0.9787006578947368\n",
      "2022-04-15 11:04:31,610 - wb-bert-fpt-mlm - INFO - [Epoch 3/3] Iteration 870 -> Train Loss: 0.0652, Train Acc: 0.9883\n",
      "2022-04-15 11:04:32,381 - wb-bert-fpt-mlm - INFO - [Epoch 3/3] Validatation Accuracy:0.9787828947368421\n",
      "2022-04-15 11:04:40,557 - wb-bert-fpt-mlm - INFO - [Epoch 3/3] Iteration 900 -> Train Loss: 0.0692, Train Acc: 0.9876\n",
      "2022-04-15 11:04:41,351 - wb-bert-fpt-mlm - INFO - [Epoch 3/3] Validatation Accuracy:0.9787006578947368\n"
     ]
    },
    {
     "name": "stdout",
     "output_type": "stream",
     "text": [
      "\n"
     ]
    },
    {
     "data": {
      "text/html": [
       "Waiting for W&B process to finish... <strong style=\"color:green\">(success).</strong>"
      ],
      "text/plain": [
       "<IPython.core.display.HTML object>"
      ]
     },
     "metadata": {},
     "output_type": "display_data"
    },
    {
     "data": {
      "application/vnd.jupyter.widget-view+json": {
       "model_id": "",
       "version_major": 2,
       "version_minor": 0
      },
      "text/plain": [
       "VBox(children=(Label(value='0.001 MB of 0.001 MB uploaded (0.000 MB deduped)\\r'), FloatProgress(value=1.0, max…"
      ]
     },
     "metadata": {},
     "output_type": "display_data"
    },
    {
     "data": {
      "text/html": [
       "<style>\n",
       "    table.wandb td:nth-child(1) { padding: 0 10px; text-align: right }\n",
       "    .wandb-row { display: flex; flex-direction: row; flex-wrap: wrap; width: 100% }\n",
       "    .wandb-col { display: flex; flex-direction: column; flex-basis: 100%; flex: 1; padding: 10px; }\n",
       "    </style>\n",
       "<div class=\"wandb-row\"><div class=\"wandb-col\"><h3>Run history:</h3><br/><table class=\"wandb\"><tr><td>Loss</td><td>█▅▄▄▄▃▃▃▃▃▂▂▂▂▂▂▂▂▂▂▂▁▁▁▁▁▁▁▁▁</td></tr><tr><td>train_accuracy</td><td>▁▃▃▄▄▅▅▅▅▅▆▇▆▇▇▇▆▇▇▇▇█████████</td></tr><tr><td>val_accuracy</td><td>▁▄▆▆▆▇█▇▇█████████▇█▇███▇█████</td></tr></table><br/></div><div class=\"wandb-col\"><h3>Run summary:</h3><br/><table class=\"wandb\"><tr><td>Loss</td><td>0.0692</td></tr><tr><td>train_accuracy</td><td>0.98758</td></tr><tr><td>val_accuracy</td><td>0.9787</td></tr></table><br/></div></div>"
      ],
      "text/plain": [
       "<IPython.core.display.HTML object>"
      ]
     },
     "metadata": {},
     "output_type": "display_data"
    },
    {
     "data": {
      "text/html": [
       "Synced <strong style=\"color:#cdcd00\">spring-sweep-9</strong>: <a href=\"https://wandb.ai/kobongsoo/bert-wb-mlm-test/runs/cryuteb9\" target=\"_blank\">https://wandb.ai/kobongsoo/bert-wb-mlm-test/runs/cryuteb9</a><br/>Synced 6 W&B file(s), 0 media file(s), 0 artifact file(s) and 0 other file(s)"
      ],
      "text/plain": [
       "<IPython.core.display.HTML object>"
      ]
     },
     "metadata": {},
     "output_type": "display_data"
    },
    {
     "data": {
      "text/html": [
       "Find logs at: <code>./wandb/run-20220415_105957-cryuteb9/logs</code>"
      ],
      "text/plain": [
       "<IPython.core.display.HTML object>"
      ]
     },
     "metadata": {},
     "output_type": "display_data"
    },
    {
     "name": "stderr",
     "output_type": "stream",
     "text": [
      "\u001b[34m\u001b[1mwandb\u001b[0m: Agent Starting Run: n0ywhxy7 with config:\n",
      "\u001b[34m\u001b[1mwandb\u001b[0m: \tbatch_size: 32\n",
      "\u001b[34m\u001b[1mwandb\u001b[0m: \tepochs: 4\n",
      "\u001b[34m\u001b[1mwandb\u001b[0m: \tlearning_rate: 2.8709963639692357e-05\n",
      "Failed to detect the name of this notebook, you can set it manually with the WANDB_NOTEBOOK_NAME environment variable to enable code saving.\n"
     ]
    },
    {
     "data": {
      "text/html": [
       "Tracking run with wandb version 0.12.14"
      ],
      "text/plain": [
       "<IPython.core.display.HTML object>"
      ]
     },
     "metadata": {},
     "output_type": "display_data"
    },
    {
     "data": {
      "text/html": [
       "Run data is saved locally in <code>/MOCOMSYS/dev/bong/W&B/wandb/run-20220415_110456-n0ywhxy7</code>"
      ],
      "text/plain": [
       "<IPython.core.display.HTML object>"
      ]
     },
     "metadata": {},
     "output_type": "display_data"
    },
    {
     "data": {
      "text/html": [
       "Syncing run <strong><a href=\"https://wandb.ai/kobongsoo/bert-wb-mlm-test/runs/n0ywhxy7\" target=\"_blank\">genial-sweep-10</a></strong> to <a href=\"https://wandb.ai/kobongsoo/bert-wb-mlm-test\" target=\"_blank\">Weights & Biases</a> (<a href=\"https://wandb.me/run\" target=\"_blank\">docs</a>)<br/>Sweep page:  <a href=\"https://wandb.ai/kobongsoo/bert-wb-mlm-test/sweeps/4fsqluk6\" target=\"_blank\">https://wandb.ai/kobongsoo/bert-wb-mlm-test/sweeps/4fsqluk6</a>"
      ],
      "text/plain": [
       "<IPython.core.display.HTML object>"
      ]
     },
     "metadata": {},
     "output_type": "display_data"
    },
    {
     "name": "stderr",
     "output_type": "stream",
     "text": [
      "2022-04-15 11:05:02,856 - bwpdataset - INFO - ==>[Start] cached file read: ../korpora/kowiki_20190620/cached_lm_BertTokenizer_128_wiki_20190620_small.txt\n"
     ]
    },
    {
     "name": "stdout",
     "output_type": "stream",
     "text": [
      "CLSid:101, SEPid:102, UNKid:100, PADid:0, MASKid:103\n",
      "*corpus:../korpora/kowiki_20190620/wiki_20190620_small.txt\n",
      "*max_sequence_len:128\n",
      "*mlm_probability:0.15\n",
      "*CLStokenid:101, SEPtokenid:102, UNKtokenid:100, PADtokeinid:0, Masktokeid:103\n"
     ]
    },
    {
     "name": "stderr",
     "output_type": "stream",
     "text": [
      "2022-04-15 11:05:03,069 - bwpdataset - INFO - <==[End] Loading features from cached file ../korpora/kowiki_20190620/cached_lm_BertTokenizer_128_wiki_20190620_small.txt [took 0.212 s]\n"
     ]
    },
    {
     "name": "stdout",
     "output_type": "stream",
     "text": [
      "*corpus:../korpora/kowiki_20190620/wiki_eval_test.txt\n",
      "*max_sequence_len:128\n",
      "*mlm_probability:0.15\n",
      "*CLStokenid:101, SEPtokenid:102, UNKtokenid:100, PADtokeinid:0, Masktokeid:103\n",
      "*total_line: 114\n"
     ]
    },
    {
     "data": {
      "application/vnd.jupyter.widget-view+json": {
       "model_id": "ed63e966546a445db1d3716a3534823f",
       "version_major": 2,
       "version_minor": 0
      },
      "text/plain": [
       "  0%|          | 0/114 [00:00<?, ?it/s]"
      ]
     },
     "metadata": {},
     "output_type": "display_data"
    },
    {
     "data": {
      "application/vnd.jupyter.widget-view+json": {
       "model_id": "d4c19ce5a2e743c6aa5cf71f560b3570",
       "version_major": 2,
       "version_minor": 0
      },
      "text/plain": [
       "  0%|          | 0/114 [00:00<?, ?it/s]"
      ]
     },
     "metadata": {},
     "output_type": "display_data"
    },
    {
     "data": {
      "application/vnd.jupyter.widget-view+json": {
       "model_id": "06d46783ac2845038e775f11dbb2dfd3",
       "version_major": 2,
       "version_minor": 0
      },
      "text/plain": [
       "  0%|          | 0/4 [00:00<?, ?it/s]"
      ]
     },
     "metadata": {},
     "output_type": "display_data"
    },
    {
     "data": {
      "application/vnd.jupyter.widget-view+json": {
       "model_id": "0db30d46fa3f424ca62c79dde77777b7",
       "version_major": 2,
       "version_minor": 0
      },
      "text/plain": [
       "  0%|          | 0/307 [00:00<?, ?it/s]"
      ]
     },
     "metadata": {},
     "output_type": "display_data"
    },
    {
     "name": "stderr",
     "output_type": "stream",
     "text": [
      "2022-04-15 11:05:15,623 - wb-bert-fpt-mlm - INFO - [Epoch 1/4] Iteration 30 -> Train Loss: 0.2201, Train Acc: 0.9734\n",
      "2022-04-15 11:05:16,435 - wb-bert-fpt-mlm - INFO - [Epoch 1/4] Validatation Accuracy:0.9700657894736842\n",
      "2022-04-15 11:05:24,757 - wb-bert-fpt-mlm - INFO - [Epoch 1/4] Iteration 60 -> Train Loss: 0.1652, Train Acc: 0.9770\n",
      "2022-04-15 11:05:25,665 - wb-bert-fpt-mlm - INFO - [Epoch 1/4] Validatation Accuracy:0.9736842105263158\n",
      "2022-04-15 11:05:33,983 - wb-bert-fpt-mlm - INFO - [Epoch 1/4] Iteration 90 -> Train Loss: 0.1417, Train Acc: 0.9790\n",
      "2022-04-15 11:05:34,763 - wb-bert-fpt-mlm - INFO - [Epoch 1/4] Validatation Accuracy:0.9751644736842106\n",
      "2022-04-15 11:05:42,931 - wb-bert-fpt-mlm - INFO - [Epoch 1/4] Iteration 120 -> Train Loss: 0.1318, Train Acc: 0.9796\n",
      "2022-04-15 11:05:43,689 - wb-bert-fpt-mlm - INFO - [Epoch 1/4] Validatation Accuracy:0.9754934210526316\n",
      "2022-04-15 11:05:51,975 - wb-bert-fpt-mlm - INFO - [Epoch 1/4] Iteration 150 -> Train Loss: 0.1221, Train Acc: 0.9807\n",
      "2022-04-15 11:05:52,740 - wb-bert-fpt-mlm - INFO - [Epoch 1/4] Validatation Accuracy:0.9757401315789473\n",
      "2022-04-15 11:06:01,029 - wb-bert-fpt-mlm - INFO - [Epoch 1/4] Iteration 180 -> Train Loss: 0.1210, Train Acc: 0.9807\n",
      "2022-04-15 11:06:01,825 - wb-bert-fpt-mlm - INFO - [Epoch 1/4] Validatation Accuracy:0.9761513157894737\n",
      "2022-04-15 11:06:10,247 - wb-bert-fpt-mlm - INFO - [Epoch 1/4] Iteration 210 -> Train Loss: 0.1211, Train Acc: 0.9808\n",
      "2022-04-15 11:06:11,084 - wb-bert-fpt-mlm - INFO - [Epoch 1/4] Validatation Accuracy:0.9763980263157894\n",
      "2022-04-15 11:06:19,357 - wb-bert-fpt-mlm - INFO - [Epoch 1/4] Iteration 240 -> Train Loss: 0.1107, Train Acc: 0.9823\n",
      "2022-04-15 11:06:20,087 - wb-bert-fpt-mlm - INFO - [Epoch 1/4] Validatation Accuracy:0.976233552631579\n",
      "2022-04-15 11:06:28,324 - wb-bert-fpt-mlm - INFO - [Epoch 1/4] Iteration 270 -> Train Loss: 0.1089, Train Acc: 0.9824\n",
      "2022-04-15 11:06:29,083 - wb-bert-fpt-mlm - INFO - [Epoch 1/4] Validatation Accuracy:0.9765625\n",
      "2022-04-15 11:06:37,293 - wb-bert-fpt-mlm - INFO - [Epoch 1/4] Iteration 300 -> Train Loss: 0.1106, Train Acc: 0.9822\n",
      "2022-04-15 11:06:38,097 - wb-bert-fpt-mlm - INFO - [Epoch 1/4] Validatation Accuracy:0.9769736842105263\n"
     ]
    },
    {
     "data": {
      "application/vnd.jupyter.widget-view+json": {
       "model_id": "1f0c307dd67242aaa362a68d49c92649",
       "version_major": 2,
       "version_minor": 0
      },
      "text/plain": [
       "  0%|          | 0/307 [00:00<?, ?it/s]"
      ]
     },
     "metadata": {},
     "output_type": "display_data"
    },
    {
     "name": "stderr",
     "output_type": "stream",
     "text": [
      "2022-04-15 11:06:46,907 - wb-bert-fpt-mlm - INFO - [Epoch 2/4] Iteration 330 -> Train Loss: 0.0981, Train Acc: 0.9831\n",
      "2022-04-15 11:06:47,685 - wb-bert-fpt-mlm - INFO - [Epoch 2/4] Validatation Accuracy:0.9768092105263158\n",
      "2022-04-15 11:06:55,996 - wb-bert-fpt-mlm - INFO - [Epoch 2/4] Iteration 360 -> Train Loss: 0.0860, Train Acc: 0.9851\n",
      "2022-04-15 11:06:56,771 - wb-bert-fpt-mlm - INFO - [Epoch 2/4] Validatation Accuracy:0.9764802631578947\n",
      "2022-04-15 11:07:05,066 - wb-bert-fpt-mlm - INFO - [Epoch 2/4] Iteration 390 -> Train Loss: 0.0908, Train Acc: 0.9849\n",
      "2022-04-15 11:07:05,827 - wb-bert-fpt-mlm - INFO - [Epoch 2/4] Validatation Accuracy:0.9767269736842106\n",
      "2022-04-15 11:07:14,143 - wb-bert-fpt-mlm - INFO - [Epoch 2/4] Iteration 420 -> Train Loss: 0.0853, Train Acc: 0.9851\n",
      "2022-04-15 11:07:14,930 - wb-bert-fpt-mlm - INFO - [Epoch 2/4] Validatation Accuracy:0.9766447368421053\n",
      "2022-04-15 11:07:23,119 - wb-bert-fpt-mlm - INFO - [Epoch 2/4] Iteration 450 -> Train Loss: 0.0862, Train Acc: 0.9851\n",
      "2022-04-15 11:07:23,877 - wb-bert-fpt-mlm - INFO - [Epoch 2/4] Validatation Accuracy:0.9766447368421053\n",
      "2022-04-15 11:07:32,168 - wb-bert-fpt-mlm - INFO - [Epoch 2/4] Iteration 480 -> Train Loss: 0.0804, Train Acc: 0.9859\n",
      "2022-04-15 11:07:32,933 - wb-bert-fpt-mlm - INFO - [Epoch 2/4] Validatation Accuracy:0.9763157894736842\n",
      "2022-04-15 11:07:41,232 - wb-bert-fpt-mlm - INFO - [Epoch 2/4] Iteration 510 -> Train Loss: 0.0829, Train Acc: 0.9856\n",
      "2022-04-15 11:07:41,991 - wb-bert-fpt-mlm - INFO - [Epoch 2/4] Validatation Accuracy:0.9768092105263158\n",
      "2022-04-15 11:07:50,268 - wb-bert-fpt-mlm - INFO - [Epoch 2/4] Iteration 540 -> Train Loss: 0.0863, Train Acc: 0.9849\n",
      "2022-04-15 11:07:50,970 - wb-bert-fpt-mlm - INFO - [Epoch 2/4] Validatation Accuracy:0.9765625\n",
      "2022-04-15 11:07:59,236 - wb-bert-fpt-mlm - INFO - [Epoch 2/4] Iteration 570 -> Train Loss: 0.0831, Train Acc: 0.9855\n",
      "2022-04-15 11:07:59,991 - wb-bert-fpt-mlm - INFO - [Epoch 2/4] Validatation Accuracy:0.976891447368421\n",
      "2022-04-15 11:08:08,281 - wb-bert-fpt-mlm - INFO - [Epoch 2/4] Iteration 600 -> Train Loss: 0.0879, Train Acc: 0.9845\n",
      "2022-04-15 11:08:09,046 - wb-bert-fpt-mlm - INFO - [Epoch 2/4] Validatation Accuracy:0.9770559210526316\n"
     ]
    },
    {
     "data": {
      "application/vnd.jupyter.widget-view+json": {
       "model_id": "02395f58ac854b48a6ed6900249dc08d",
       "version_major": 2,
       "version_minor": 0
      },
      "text/plain": [
       "  0%|          | 0/307 [00:00<?, ?it/s]"
      ]
     },
     "metadata": {},
     "output_type": "display_data"
    },
    {
     "name": "stderr",
     "output_type": "stream",
     "text": [
      "2022-04-15 11:08:17,871 - wb-bert-fpt-mlm - INFO - [Epoch 3/4] Iteration 630 -> Train Loss: 0.0722, Train Acc: 0.9867\n",
      "2022-04-15 11:08:18,652 - wb-bert-fpt-mlm - INFO - [Epoch 3/4] Validatation Accuracy:0.9772203947368421\n",
      "2022-04-15 11:08:26,803 - wb-bert-fpt-mlm - INFO - [Epoch 3/4] Iteration 660 -> Train Loss: 0.0676, Train Acc: 0.9877\n",
      "2022-04-15 11:08:27,577 - wb-bert-fpt-mlm - INFO - [Epoch 3/4] Validatation Accuracy:0.9773848684210527\n",
      "2022-04-15 11:08:35,914 - wb-bert-fpt-mlm - INFO - [Epoch 3/4] Iteration 690 -> Train Loss: 0.0640, Train Acc: 0.9885\n",
      "2022-04-15 11:08:36,740 - wb-bert-fpt-mlm - INFO - [Epoch 3/4] Validatation Accuracy:0.9771381578947368\n",
      "2022-04-15 11:08:45,022 - wb-bert-fpt-mlm - INFO - [Epoch 3/4] Iteration 720 -> Train Loss: 0.0679, Train Acc: 0.9875\n",
      "2022-04-15 11:08:45,791 - wb-bert-fpt-mlm - INFO - [Epoch 3/4] Validatation Accuracy:0.9770559210526316\n",
      "2022-04-15 11:08:54,095 - wb-bert-fpt-mlm - INFO - [Epoch 3/4] Iteration 750 -> Train Loss: 0.0654, Train Acc: 0.9880\n",
      "2022-04-15 11:08:54,832 - wb-bert-fpt-mlm - INFO - [Epoch 3/4] Validatation Accuracy:0.976891447368421\n",
      "2022-04-15 11:09:03,137 - wb-bert-fpt-mlm - INFO - [Epoch 3/4] Iteration 780 -> Train Loss: 0.0630, Train Acc: 0.9884\n",
      "2022-04-15 11:09:03,939 - wb-bert-fpt-mlm - INFO - [Epoch 3/4] Validatation Accuracy:0.9770559210526316\n",
      "2022-04-15 11:09:12,240 - wb-bert-fpt-mlm - INFO - [Epoch 3/4] Iteration 810 -> Train Loss: 0.0650, Train Acc: 0.9880\n",
      "2022-04-15 11:09:12,963 - wb-bert-fpt-mlm - INFO - [Epoch 3/4] Validatation Accuracy:0.9773026315789474\n",
      "2022-04-15 11:09:21,231 - wb-bert-fpt-mlm - INFO - [Epoch 3/4] Iteration 840 -> Train Loss: 0.0678, Train Acc: 0.9876\n",
      "2022-04-15 11:09:21,936 - wb-bert-fpt-mlm - INFO - [Epoch 3/4] Validatation Accuracy:0.9776315789473684\n",
      "2022-04-15 11:09:30,271 - wb-bert-fpt-mlm - INFO - [Epoch 3/4] Iteration 870 -> Train Loss: 0.0681, Train Acc: 0.9874\n",
      "2022-04-15 11:09:31,061 - wb-bert-fpt-mlm - INFO - [Epoch 3/4] Validatation Accuracy:0.9772203947368421\n",
      "2022-04-15 11:09:39,357 - wb-bert-fpt-mlm - INFO - [Epoch 3/4] Iteration 900 -> Train Loss: 0.0643, Train Acc: 0.9883\n",
      "2022-04-15 11:09:40,142 - wb-bert-fpt-mlm - INFO - [Epoch 3/4] Validatation Accuracy:0.9773848684210527\n"
     ]
    },
    {
     "data": {
      "application/vnd.jupyter.widget-view+json": {
       "model_id": "085117ee22f64990a02af56bc97ac1a2",
       "version_major": 2,
       "version_minor": 0
      },
      "text/plain": [
       "  0%|          | 0/307 [00:00<?, ?it/s]"
      ]
     },
     "metadata": {},
     "output_type": "display_data"
    },
    {
     "name": "stderr",
     "output_type": "stream",
     "text": [
      "2022-04-15 11:09:48,892 - wb-bert-fpt-mlm - INFO - [Epoch 4/4] Iteration 930 -> Train Loss: 0.0633, Train Acc: 0.9882\n",
      "2022-04-15 11:09:49,686 - wb-bert-fpt-mlm - INFO - [Epoch 4/4] Validatation Accuracy:0.9774671052631579\n",
      "2022-04-15 11:09:57,990 - wb-bert-fpt-mlm - INFO - [Epoch 4/4] Iteration 960 -> Train Loss: 0.0567, Train Acc: 0.9893\n",
      "2022-04-15 11:09:58,729 - wb-bert-fpt-mlm - INFO - [Epoch 4/4] Validatation Accuracy:0.9775493421052631\n",
      "2022-04-15 11:10:07,011 - wb-bert-fpt-mlm - INFO - [Epoch 4/4] Iteration 990 -> Train Loss: 0.0521, Train Acc: 0.9904\n",
      "2022-04-15 11:10:07,774 - wb-bert-fpt-mlm - INFO - [Epoch 4/4] Validatation Accuracy:0.9772203947368421\n",
      "2022-04-15 11:10:16,028 - wb-bert-fpt-mlm - INFO - [Epoch 4/4] Iteration 1020 -> Train Loss: 0.0563, Train Acc: 0.9894\n",
      "2022-04-15 11:10:16,781 - wb-bert-fpt-mlm - INFO - [Epoch 4/4] Validatation Accuracy:0.9774671052631579\n",
      "2022-04-15 11:10:25,101 - wb-bert-fpt-mlm - INFO - [Epoch 4/4] Iteration 1050 -> Train Loss: 0.0565, Train Acc: 0.9897\n",
      "2022-04-15 11:10:25,867 - wb-bert-fpt-mlm - INFO - [Epoch 4/4] Validatation Accuracy:0.9773848684210527\n",
      "2022-04-15 11:10:34,179 - wb-bert-fpt-mlm - INFO - [Epoch 4/4] Iteration 1080 -> Train Loss: 0.0536, Train Acc: 0.9898\n",
      "2022-04-15 11:10:34,946 - wb-bert-fpt-mlm - INFO - [Epoch 4/4] Validatation Accuracy:0.9776315789473684\n",
      "2022-04-15 11:10:43,286 - wb-bert-fpt-mlm - INFO - [Epoch 4/4] Iteration 1110 -> Train Loss: 0.0551, Train Acc: 0.9897\n",
      "2022-04-15 11:10:44,047 - wb-bert-fpt-mlm - INFO - [Epoch 4/4] Validatation Accuracy:0.9777138157894737\n",
      "2022-04-15 11:10:52,316 - wb-bert-fpt-mlm - INFO - [Epoch 4/4] Iteration 1140 -> Train Loss: 0.0569, Train Acc: 0.9894\n",
      "2022-04-15 11:10:53,115 - wb-bert-fpt-mlm - INFO - [Epoch 4/4] Validatation Accuracy:0.9775493421052631\n",
      "2022-04-15 11:11:01,386 - wb-bert-fpt-mlm - INFO - [Epoch 4/4] Iteration 1170 -> Train Loss: 0.0577, Train Acc: 0.9891\n",
      "2022-04-15 11:11:02,143 - wb-bert-fpt-mlm - INFO - [Epoch 4/4] Validatation Accuracy:0.9774671052631579\n",
      "2022-04-15 11:11:10,425 - wb-bert-fpt-mlm - INFO - [Epoch 4/4] Iteration 1200 -> Train Loss: 0.0552, Train Acc: 0.9893\n",
      "2022-04-15 11:11:11,212 - wb-bert-fpt-mlm - INFO - [Epoch 4/4] Validatation Accuracy:0.9774671052631579\n"
     ]
    },
    {
     "name": "stdout",
     "output_type": "stream",
     "text": [
      "\n"
     ]
    },
    {
     "data": {
      "text/html": [
       "Waiting for W&B process to finish... <strong style=\"color:green\">(success).</strong>"
      ],
      "text/plain": [
       "<IPython.core.display.HTML object>"
      ]
     },
     "metadata": {},
     "output_type": "display_data"
    },
    {
     "data": {
      "application/vnd.jupyter.widget-view+json": {
       "model_id": "",
       "version_major": 2,
       "version_minor": 0
      },
      "text/plain": [
       "VBox(children=(Label(value='0.001 MB of 0.001 MB uploaded (0.000 MB deduped)\\r'), FloatProgress(value=1.0, max…"
      ]
     },
     "metadata": {},
     "output_type": "display_data"
    },
    {
     "data": {
      "text/html": [
       "<style>\n",
       "    table.wandb td:nth-child(1) { padding: 0 10px; text-align: right }\n",
       "    .wandb-row { display: flex; flex-direction: row; flex-wrap: wrap; width: 100% }\n",
       "    .wandb-col { display: flex; flex-direction: column; flex-basis: 100%; flex: 1; padding: 10px; }\n",
       "    </style>\n",
       "<div class=\"wandb-row\"><div class=\"wandb-col\"><h3>Run history:</h3><br/><table class=\"wandb\"><tr><td>Loss</td><td>█▆▅▄▄▄▄▃▃▃▃▂▃▂▂▂▂▂▂▂▂▂▁▂▂▁▂▂▂▂▁▁▁▁▁▁▁▁▁▁</td></tr><tr><td>train_accuracy</td><td>▁▂▃▄▄▄▄▅▅▅▅▆▆▆▆▆▆▆▆▆▆▇▇▇▇▇▇▇▇▇▇███████▇█</td></tr><tr><td>val_accuracy</td><td>▁▄▆▆▆▇▇▇▇▇▇▇▇▇▇▇▇▇▇▇██▇▇▇▇██████████████</td></tr></table><br/></div><div class=\"wandb-col\"><h3>Run summary:</h3><br/><table class=\"wandb\"><tr><td>Loss</td><td>0.05523</td></tr><tr><td>train_accuracy</td><td>0.98931</td></tr><tr><td>val_accuracy</td><td>0.97747</td></tr></table><br/></div></div>"
      ],
      "text/plain": [
       "<IPython.core.display.HTML object>"
      ]
     },
     "metadata": {},
     "output_type": "display_data"
    },
    {
     "data": {
      "text/html": [
       "Synced <strong style=\"color:#cdcd00\">genial-sweep-10</strong>: <a href=\"https://wandb.ai/kobongsoo/bert-wb-mlm-test/runs/n0ywhxy7\" target=\"_blank\">https://wandb.ai/kobongsoo/bert-wb-mlm-test/runs/n0ywhxy7</a><br/>Synced 6 W&B file(s), 0 media file(s), 0 artifact file(s) and 0 other file(s)"
      ],
      "text/plain": [
       "<IPython.core.display.HTML object>"
      ]
     },
     "metadata": {},
     "output_type": "display_data"
    },
    {
     "data": {
      "text/html": [
       "Find logs at: <code>./wandb/run-20220415_110456-n0ywhxy7/logs</code>"
      ],
      "text/plain": [
       "<IPython.core.display.HTML object>"
      ]
     },
     "metadata": {},
     "output_type": "display_data"
    }
   ],
   "source": [
    "# 훈련을 시작 (총 3번(epoch이 아님))\n",
    "wandb.agent(sweep_id, train, count=5)"
   ]
  },
  {
   "cell_type": "code",
   "execution_count": 11,
   "id": "59891576-ff4e-4826-b5b3-90468005a80b",
   "metadata": {},
   "outputs": [
    {
     "data": {
      "text/plain": [
       "\"\\n### 전체모델 저장\\nos.makedirs(OUTPATH, exist_ok=True)\\n#torch.save(model, OUTPATH + 'pytorch_model.bin') \\n# save_pretrained 로 저장하면 config.json, pytorch_model.bin 2개의 파일이 생성됨\\nmodel.save_pretrained(OUTPATH)\\n\\n# tokeinizer 파일 저장(vocab)\\nVOCAB_PATH = OUTPATH\\ntokenizer.save_pretrained(VOCAB_PATH)\\n\""
      ]
     },
     "execution_count": 11,
     "metadata": {},
     "output_type": "execute_result"
    }
   ],
   "source": [
    "'''\n",
    "### 전체모델 저장\n",
    "os.makedirs(OUTPATH, exist_ok=True)\n",
    "#torch.save(model, OUTPATH + 'pytorch_model.bin') \n",
    "# save_pretrained 로 저장하면 config.json, pytorch_model.bin 2개의 파일이 생성됨\n",
    "model.save_pretrained(OUTPATH)\n",
    "\n",
    "# tokeinizer 파일 저장(vocab)\n",
    "VOCAB_PATH = OUTPATH\n",
    "tokenizer.save_pretrained(VOCAB_PATH)\n",
    "'''"
   ]
  },
  {
   "cell_type": "code",
   "execution_count": null,
   "id": "111fac71-a6d8-4eb6-bc77-e1bca6b19225",
   "metadata": {},
   "outputs": [],
   "source": []
  }
 ],
 "metadata": {
  "kernelspec": {
   "display_name": "Python 3 (ipykernel)",
   "language": "python",
   "name": "python3"
  },
  "language_info": {
   "codemirror_mode": {
    "name": "ipython",
    "version": 3
   },
   "file_extension": ".py",
   "mimetype": "text/x-python",
   "name": "python",
   "nbconvert_exporter": "python",
   "pygments_lexer": "ipython3",
   "version": "3.9.7"
  }
 },
 "nbformat": 4,
 "nbformat_minor": 5
}
